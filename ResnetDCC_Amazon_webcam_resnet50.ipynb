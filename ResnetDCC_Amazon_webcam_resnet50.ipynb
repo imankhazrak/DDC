{
 "cells": [
  {
   "cell_type": "markdown",
   "metadata": {
    "id": "BOlo4Ctmtm4p"
   },
   "source": [
    "# Deep transfer learning tutorial\n",
    "This notebook contains two popular paradigms of transfer learning: **Finetune** and **Domain adaptation**.\n",
    "Since most of the codes are shared by them, we show how they work in just one single notebook.\n",
    "I think that transfer learning and domain adaptation are both easy, and there's no need to create some library or packages for this simple purpose, which only makes things difficult.\n",
    "The purpose of this note book is we **don't even need to install a library or package** to train a domain adaptation or finetune model."
   ]
  },
  {
   "cell_type": "code",
   "execution_count": 2,
   "metadata": {
    "colab": {
     "base_uri": "https://localhost:8080/"
    },
    "executionInfo": {
     "elapsed": 18429,
     "status": "ok",
     "timestamp": 1698782589085,
     "user": {
      "displayName": "Iman Khazrak",
      "userId": "00007021905658904546"
     },
     "user_tz": 240
    },
    "id": "agDvxay5xJLe",
    "outputId": "6c14065a-3cd3-4007-c4aa-194b17c55b7f"
   },
   "outputs": [
    {
     "name": "stdout",
     "output_type": "stream",
     "text": [
      "Mounted at /content/drive\n"
     ]
    }
   ],
   "source": [
    "from google.colab import drive\n",
    "drive.mount('/content/drive')"
   ]
  },
  {
   "cell_type": "markdown",
   "metadata": {
    "id": "yyP-9VnQtm4t"
   },
   "source": [
    "## Some imports."
   ]
  },
  {
   "cell_type": "code",
   "execution_count": 1,
   "metadata": {
    "executionInfo": {
     "elapsed": 4787,
     "status": "ok",
     "timestamp": 1698764523379,
     "user": {
      "displayName": "Iman Khazrak",
      "userId": "00007021905658904546"
     },
     "user_tz": 240
    },
    "id": "6R098oQTS_TC"
   },
   "outputs": [],
   "source": [
    "import os\n",
    "import pandas as pd\n",
    "import torch\n",
    "import torchvision\n",
    "from torchvision import transforms, datasets\n",
    "import torch.nn as nn\n",
    "import time\n",
    "from torchvision import models\n",
    "torch.cuda.set_device(0)"
   ]
  },
  {
   "cell_type": "code",
   "execution_count": 3,
   "metadata": {
    "executionInfo": {
     "elapsed": 14,
     "status": "ok",
     "timestamp": 1698725130125,
     "user": {
      "displayName": "Iman Khazrak",
      "userId": "00007021905658904546"
     },
     "user_tz": 240
    },
    "id": "YE8_6pxY2yIV"
   },
   "outputs": [],
   "source": [
    "# !pip install torch\n",
    "# !pip install torchvision\n"
   ]
  },
  {
   "cell_type": "code",
   "execution_count": 3,
   "metadata": {
    "colab": {
     "base_uri": "https://localhost:8080/"
    },
    "executionInfo": {
     "elapsed": 301,
     "status": "ok",
     "timestamp": 1698764586979,
     "user": {
      "displayName": "Iman Khazrak",
      "userId": "00007021905658904546"
     },
     "user_tz": 240
    },
    "id": "rtQ8PiAJxHLN",
    "outputId": "479891fc-ed73-4a63-97de-497d9f9295b4"
   },
   "outputs": [
    {
     "name": "stdout",
     "output_type": "stream",
     "text": [
      "True\n"
     ]
    }
   ],
   "source": [
    "print(torch.cuda.is_available())"
   ]
  },
  {
   "cell_type": "markdown",
   "metadata": {
    "id": "K9Ut17hwUDq-"
   },
   "source": [
    "Set the dataset folder, batch size, number of classes, and domain name."
   ]
  },
  {
   "cell_type": "code",
   "execution_count": 4,
   "metadata": {
    "executionInfo": {
     "elapsed": 3,
     "status": "ok",
     "timestamp": 1698764589819,
     "user": {
      "displayName": "Iman Khazrak",
      "userId": "00007021905658904546"
     },
     "user_tz": 240
    },
    "id": "j4e--IIRU68M"
   },
   "outputs": [],
   "source": [
    "data_folder = '/content/drive/MyDrive/4. BGSU/1.2 PhD_Courses/Z. RA & Desertation/Codes/Dr_Niu/MMD/Office31'\n",
    "# data_folder = '/content/drive/MyDrive/3. Narges/Dr_Niu/MMD/Office31'\n",
    "\n",
    "batch_size = 32\n",
    "n_class = 31\n",
    "domain_src, domain_tar = 'amazon/images', 'webcam/images'"
   ]
  },
  {
   "cell_type": "markdown",
   "metadata": {
    "id": "XA6e2YaPtm4u"
   },
   "source": [
    "## Data load\n",
    "Now, define a data loader function."
   ]
  },
  {
   "cell_type": "code",
   "execution_count": 6,
   "metadata": {
    "executionInfo": {
     "elapsed": 8,
     "status": "ok",
     "timestamp": 1698725130125,
     "user": {
      "displayName": "Iman Khazrak",
      "userId": "00007021905658904546"
     },
     "user_tz": 240
    },
    "id": "6JtN_bK9VFcM"
   },
   "outputs": [],
   "source": [
    "def load_data(root_path, domain, batch_size, phase):\n",
    "    transform_dict = {\n",
    "        'src': transforms.Compose(\n",
    "        [transforms.RandomResizedCrop(224),\n",
    "         transforms.RandomHorizontalFlip(),\n",
    "         transforms.ToTensor(),\n",
    "         transforms.Normalize(mean=[0.485, 0.456, 0.406],\n",
    "                              std=[0.229, 0.224, 0.225]),\n",
    "         ]),\n",
    "        'tar': transforms.Compose(\n",
    "        [transforms.Resize(224),\n",
    "         transforms.ToTensor(),\n",
    "         transforms.Normalize(mean=[0.485, 0.456, 0.406],\n",
    "                              std=[0.229, 0.224, 0.225]),\n",
    "         ])}\n",
    "    data = datasets.ImageFolder(root=os.path.join(root_path, domain), transform=transform_dict[phase])\n",
    "    data_loader = torch.utils.data.DataLoader(data, batch_size=batch_size, shuffle=phase=='src', drop_last=phase=='tar', num_workers=4)\n",
    "    return data_loader"
   ]
  },
  {
   "cell_type": "markdown",
   "metadata": {
    "id": "PHy09lD9tm4v"
   },
   "source": [
    "Load the data using the above function to test it."
   ]
  },
  {
   "cell_type": "code",
   "execution_count": 7,
   "metadata": {
    "colab": {
     "base_uri": "https://localhost:8080/"
    },
    "executionInfo": {
     "elapsed": 269,
     "status": "ok",
     "timestamp": 1698725130387,
     "user": {
      "displayName": "Iman Khazrak",
      "userId": "00007021905658904546"
     },
     "user_tz": 240
    },
    "id": "Jf_Gw2HRVJM_",
    "outputId": "0ca8ea3f-f51c-4994-c133-8c1fa1a25a2a"
   },
   "outputs": [
    {
     "name": "stdout",
     "output_type": "stream",
     "text": [
      "Source data number: 2817\n",
      "Target data number: 795\n"
     ]
    }
   ],
   "source": [
    "src_loader = load_data(data_folder, domain_src, batch_size, phase='src')\n",
    "tar_loader = load_data(data_folder, domain_tar, batch_size, phase='tar')\n",
    "print(f'Source data number: {len(src_loader.dataset)}')\n",
    "print(f'Target data number: {len(tar_loader.dataset)}')"
   ]
  },
  {
   "cell_type": "code",
   "execution_count": 8,
   "metadata": {
    "executionInfo": {
     "elapsed": 10,
     "status": "ok",
     "timestamp": 1698725130388,
     "user": {
      "displayName": "Iman Khazrak",
      "userId": "00007021905658904546"
     },
     "user_tz": 240
    },
    "id": "OXAjmY7pVK8t"
   },
   "outputs": [],
   "source": [
    "class TransferModel(nn.Module):\n",
    "    def __init__(self,\n",
    "                base_model : str = 'resnet50',\n",
    "                pretrain : bool = True,\n",
    "                n_class : int = 31):\n",
    "        super(TransferModel, self).__init__()\n",
    "        self.base_model = base_model\n",
    "        self.pretrain = pretrain\n",
    "        self.n_class = n_class\n",
    "        if self.base_model == 'resnet50':\n",
    "            self.model = torchvision.models.resnet50(pretrained=True)\n",
    "            n_features = self.model.fc.in_features\n",
    "            fc = torch.nn.Linear(n_features, n_class)\n",
    "            self.model.fc = fc\n",
    "        else:\n",
    "            # Use other models you like, such as vgg or alexnet\n",
    "            pass\n",
    "        self.model.fc.weight.data.normal_(0, 0.005)\n",
    "        self.model.fc.bias.data.fill_(0.1)\n",
    "\n",
    "    def forward(self, x):\n",
    "        return self.model(x)\n",
    "\n",
    "    def predict(self, x):\n",
    "        return self.forward(x)"
   ]
  },
  {
   "cell_type": "markdown",
   "metadata": {
    "id": "UAqT-0jRtm4w"
   },
   "source": [
    "Now, we define a model and test it using a random tensor."
   ]
  },
  {
   "cell_type": "code",
   "execution_count": 9,
   "metadata": {
    "colab": {
     "base_uri": "https://localhost:8080/"
    },
    "executionInfo": {
     "elapsed": 964,
     "status": "ok",
     "timestamp": 1698725131343,
     "user": {
      "displayName": "Iman Khazrak",
      "userId": "00007021905658904546"
     },
     "user_tz": 240
    },
    "id": "LewRmYIvXEIo",
    "outputId": "c31c0674-69f9-49e7-edde-e49f43ea4927"
   },
   "outputs": [
    {
     "name": "stderr",
     "output_type": "stream",
     "text": [
      "/usr/local/lib/python3.10/dist-packages/torchvision/models/_utils.py:208: UserWarning: The parameter 'pretrained' is deprecated since 0.13 and may be removed in the future, please use 'weights' instead.\n",
      "  warnings.warn(\n",
      "/usr/local/lib/python3.10/dist-packages/torchvision/models/_utils.py:223: UserWarning: Arguments other than a weight enum or `None` for 'weights' are deprecated since 0.13 and may be removed in the future. The current behavior is equivalent to passing `weights=ResNet50_Weights.IMAGENET1K_V1`. You can also use `weights=ResNet50_Weights.DEFAULT` to get the most up-to-date weights.\n",
      "  warnings.warn(msg)\n"
     ]
    },
    {
     "name": "stdout",
     "output_type": "stream",
     "text": [
      "tensor([[ 1.5830e-01,  1.9674e-01,  6.2873e-03,  2.7459e-01, -6.8800e-02,\n",
      "         -6.3619e-02,  1.3707e-01,  8.9416e-02,  2.8811e-03,  1.8485e-01,\n",
      "          2.1946e-01, -7.7034e-02,  2.8242e-01,  1.5460e-01,  1.6121e-01,\n",
      "          8.7993e-02,  2.2279e-01,  1.7875e-01,  1.5221e-01,  2.1973e-01,\n",
      "          6.3968e-03,  1.2002e-02,  4.4685e-02,  2.3907e-01,  1.4153e-01,\n",
      "          4.7575e-02, -3.2074e-02,  1.6099e-01,  9.3780e-02,  1.7516e-04,\n",
      "          4.2566e-02]], device='cuda:0', grad_fn=<AddmmBackward0>)\n",
      "torch.Size([1, 31])\n"
     ]
    }
   ],
   "source": [
    "model = TransferModel().cuda()\n",
    "RAND_TENSOR = torch.randn(1, 3, 224, 224).cuda()\n",
    "output = model(RAND_TENSOR)\n",
    "print(output)\n",
    "print(output.shape)"
   ]
  },
  {
   "cell_type": "code",
   "execution_count": 10,
   "metadata": {
    "executionInfo": {
     "elapsed": 11,
     "status": "ok",
     "timestamp": 1698725131343,
     "user": {
      "displayName": "Iman Khazrak",
      "userId": "00007021905658904546"
     },
     "user_tz": 240
    },
    "id": "h74gKIVqtm4w"
   },
   "outputs": [],
   "source": [
    "dataloaders = {'src': src_loader,\n",
    "               'val': tar_loader,\n",
    "               'tar': tar_loader}\n",
    "n_epoch = 100\n",
    "criterion = nn.CrossEntropyLoss()\n",
    "early_stop = 20"
   ]
  },
  {
   "cell_type": "code",
   "execution_count": 11,
   "metadata": {
    "executionInfo": {
     "elapsed": 11,
     "status": "ok",
     "timestamp": 1698725131344,
     "user": {
      "displayName": "Iman Khazrak",
      "userId": "00007021905658904546"
     },
     "user_tz": 240
    },
    "id": "GR5Y1x4btm4y"
   },
   "outputs": [],
   "source": [
    "def test(model, target_test_loader):\n",
    "    model.eval()\n",
    "    correct = 0\n",
    "    len_target_dataset = len(target_test_loader.dataset)\n",
    "    with torch.no_grad():\n",
    "        for data, target in target_test_loader:\n",
    "            data, target = data.cuda(), target.cuda()\n",
    "            s_output = model.predict(data)\n",
    "            pred = torch.max(s_output, 1)[1]\n",
    "            correct += torch.sum(pred == target)\n",
    "    acc = correct.double() / len(target_test_loader.dataset)\n",
    "    return acc"
   ]
  },
  {
   "cell_type": "markdown",
   "metadata": {
    "id": "bO4c_QcGtm4z"
   },
   "source": [
    "## Domain adaptation\n",
    "Now we are in domain adaptation."
   ]
  },
  {
   "cell_type": "markdown",
   "metadata": {
    "id": "VJwcwLQftm40"
   },
   "source": [
    "## Logic for domain adaptation\n",
    "The logic for domain adaptation is mostly similar to finetune, except that we must add a loss to the finetune model to **regularize the distribution discrepancy** between two domains.\n",
    "Therefore, the most different parts are:\n",
    "- Define some **loss function** to compute the distance (which is the main contribution of most existing DA papers)\n",
    "- Define a new model class to use that loss function for **forward** pass.\n",
    "- Write a slightly different script to train, since we have to take both **source data, source label, and target data**."
   ]
  },
  {
   "cell_type": "markdown",
   "metadata": {
    "id": "Jy_1xwdJtm40"
   },
   "source": [
    "### Loss function\n",
    "The most popular loss function for DA is **MMD (Maximum Mean Discrepancy)**. For comaprison, we also use another popular loss **CORAL (CORrelation ALignment)**. They are defined as follows."
   ]
  },
  {
   "cell_type": "markdown",
   "metadata": {
    "id": "z3-wKorUtm40"
   },
   "source": [
    "#### MMD loss"
   ]
  },
  {
   "cell_type": "code",
   "execution_count": 12,
   "metadata": {
    "executionInfo": {
     "elapsed": 10,
     "status": "ok",
     "timestamp": 1698725131344,
     "user": {
      "displayName": "Iman Khazrak",
      "userId": "00007021905658904546"
     },
     "user_tz": 240
    },
    "id": "MpQH6VFwtm41"
   },
   "outputs": [],
   "source": [
    "class MMD_loss(nn.Module):\n",
    "    def __init__(self, kernel_type='rbf', kernel_mul=2.0, kernel_num=5):\n",
    "        super(MMD_loss, self).__init__()\n",
    "        self.kernel_num = kernel_num\n",
    "        self.kernel_mul = kernel_mul\n",
    "        self.fix_sigma = None\n",
    "        self.kernel_type = kernel_type\n",
    "\n",
    "    def guassian_kernel(self, source, target, kernel_mul=2.0, kernel_num=5, fix_sigma=None):\n",
    "        n_samples = int(source.size()[0]) + int(target.size()[0])\n",
    "        total = torch.cat([source, target], dim=0)\n",
    "        total0 = total.unsqueeze(0).expand(\n",
    "            int(total.size(0)), int(total.size(0)), int(total.size(1)))\n",
    "        total1 = total.unsqueeze(1).expand(\n",
    "            int(total.size(0)), int(total.size(0)), int(total.size(1)))\n",
    "        L2_distance = ((total0-total1)**2).sum(2)\n",
    "        if fix_sigma:\n",
    "            bandwidth = fix_sigma\n",
    "        else:\n",
    "            bandwidth = torch.sum(L2_distance.data) / (n_samples**2-n_samples)\n",
    "        bandwidth /= kernel_mul ** (kernel_num // 2)\n",
    "        bandwidth_list = [bandwidth * (kernel_mul**i)\n",
    "                          for i in range(kernel_num)]\n",
    "        kernel_val = [torch.exp(-L2_distance / bandwidth_temp)\n",
    "                      for bandwidth_temp in bandwidth_list]\n",
    "        return sum(kernel_val)\n",
    "\n",
    "    def linear_mmd2(self, f_of_X, f_of_Y):\n",
    "        loss = 0.0\n",
    "        delta = f_of_X.float().mean(0) - f_of_Y.float().mean(0)\n",
    "        loss = delta.dot(delta.T)\n",
    "        return loss\n",
    "\n",
    "    def forward(self, source, target):\n",
    "        if self.kernel_type == 'linear':\n",
    "            return self.linear_mmd2(source, target)\n",
    "        elif self.kernel_type == 'rbf':\n",
    "            batch_size = int(source.size()[0])\n",
    "            kernels = self.guassian_kernel(\n",
    "                source, target, kernel_mul=self.kernel_mul, kernel_num=self.kernel_num, fix_sigma=self.fix_sigma)\n",
    "            XX = torch.mean(kernels[:batch_size, :batch_size])\n",
    "            YY = torch.mean(kernels[batch_size:, batch_size:])\n",
    "            XY = torch.mean(kernels[:batch_size, batch_size:])\n",
    "            YX = torch.mean(kernels[batch_size:, :batch_size])\n",
    "            loss = torch.mean(XX + YY - XY - YX)\n",
    "            return loss\n"
   ]
  },
  {
   "cell_type": "markdown",
   "metadata": {
    "id": "NcfUy_2Dtm41"
   },
   "source": [
    "#### CORAL loss"
   ]
  },
  {
   "cell_type": "code",
   "execution_count": 13,
   "metadata": {
    "executionInfo": {
     "elapsed": 9,
     "status": "ok",
     "timestamp": 1698725131344,
     "user": {
      "displayName": "Iman Khazrak",
      "userId": "00007021905658904546"
     },
     "user_tz": 240
    },
    "id": "uZhKJq15tm41"
   },
   "outputs": [],
   "source": [
    "def CORAL(source, target):\n",
    "    d = source.size(1)\n",
    "    ns, nt = source.size(0), target.size(0)\n",
    "\n",
    "    # source covariance\n",
    "    tmp_s = torch.ones((1, ns)).cuda() @ source\n",
    "    cs = (source.t() @ source - (tmp_s.t() @ tmp_s) / ns) / (ns - 1)\n",
    "\n",
    "    # target covariance\n",
    "    tmp_t = torch.ones((1, nt)).cuda() @ target\n",
    "    ct = (target.t() @ target - (tmp_t.t() @ tmp_t) / nt) / (nt - 1)\n",
    "\n",
    "    # frobenius norm\n",
    "    loss = (cs - ct).pow(2).sum().sqrt()\n",
    "    loss = loss / (4 * d * d)\n",
    "\n",
    "    return loss"
   ]
  },
  {
   "cell_type": "markdown",
   "metadata": {
    "id": "VB2cDp8Gtm41"
   },
   "source": [
    "### Model\n",
    "Now we use ResNet-50 again just like finetune. The difference is that we rewrite the ResNet-50 class to drop its last layer."
   ]
  },
  {
   "cell_type": "code",
   "execution_count": 14,
   "metadata": {
    "executionInfo": {
     "elapsed": 8,
     "status": "ok",
     "timestamp": 1698725131344,
     "user": {
      "displayName": "Iman Khazrak",
      "userId": "00007021905658904546"
     },
     "user_tz": 240
    },
    "id": "UOLx_OSxtm41"
   },
   "outputs": [],
   "source": [
    "from torchvision import models\n",
    "class ResNet50Fc(nn.Module):\n",
    "    def __init__(self):\n",
    "        super(ResNet50Fc, self).__init__()\n",
    "        model_resnet50 = models.resnet50(pretrained=True)\n",
    "        self.conv1 = model_resnet50.conv1\n",
    "        self.bn1 = model_resnet50.bn1\n",
    "        self.relu = model_resnet50.relu\n",
    "        self.maxpool = model_resnet50.maxpool\n",
    "        self.layer1 = model_resnet50.layer1\n",
    "        self.layer2 = model_resnet50.layer2\n",
    "        self.layer3 = model_resnet50.layer3\n",
    "        self.layer4 = model_resnet50.layer4\n",
    "        self.avgpool = model_resnet50.avgpool\n",
    "        self.__in_features = model_resnet50.fc.in_features\n",
    "\n",
    "    def forward(self, x):\n",
    "        x = self.conv1(x)\n",
    "        x = self.bn1(x)\n",
    "        x = self.relu(x)\n",
    "        x = self.maxpool(x)\n",
    "        x = self.layer1(x)\n",
    "        x = self.layer2(x)\n",
    "        x = self.layer3(x)\n",
    "        x = self.layer4(x)\n",
    "        x = self.avgpool(x)\n",
    "        x = x.view(x.size(0), -1)\n",
    "        return x\n",
    "\n",
    "    def output_num(self):\n",
    "        return self.__in_features"
   ]
  },
  {
   "cell_type": "code",
   "execution_count": 15,
   "metadata": {
    "executionInfo": {
     "elapsed": 7,
     "status": "ok",
     "timestamp": 1698725131344,
     "user": {
      "displayName": "Iman Khazrak",
      "userId": "00007021905658904546"
     },
     "user_tz": 240
    },
    "id": "ksoGpywfxHLS"
   },
   "outputs": [],
   "source": [
    "# Function to visualize the convolutional kernels\n",
    "def visualize_kernels(model):\n",
    "    for name, module in model.named_modules():\n",
    "        if isinstance(module, nn.Conv2d):\n",
    "            kernels = module.weight.data.cpu().numpy()\n",
    "            num_kernels = kernels.shape[0]\n",
    "            fig, axs = plt.subplots(1, num_kernels, figsize=(10, 2))\n",
    "            for i in range(num_kernels):\n",
    "                kernel = kernels[i, 0, :, :]\n",
    "                axs[i].imshow(kernel, cmap='gray')\n",
    "                axs[i].axis('off')\n",
    "            plt.show()\n",
    "\n",
    "# Function to compute the entropy of convolutional layers\n",
    "def compute_entropy(model):\n",
    "    entropy_values = []\n",
    "    for module in model.modules():\n",
    "        if isinstance(module, nn.Conv2d):\n",
    "            weights = module.weight.data\n",
    "            flattened_weights = weights.flatten()\n",
    "#             normalized_weights = torch.softmax(flattened_weights, dim=1)\n",
    "#             entropy = -torch.sum(normalized_weights * torch.log2(normalized_weights + 1e-10), dim=1)\n",
    "            normalized_weights = (flattened_weights - torch.min(flattened_weights)) / (\n",
    "                torch.max(flattened_weights) - torch.min(flattened_weights)\n",
    "            )\n",
    "            bin_counts = torch.histc(normalized_weights, bins=10)\n",
    "            probabilities = bin_counts / len(flattened_weights)\n",
    "            entropy = -torch.sum(probabilities * torch.log2(probabilities + 1e-10))  # Add a small constant to avoid log(0)\n",
    "            entropy_values.append(torch.mean(entropy).item())\n",
    "    return entropy_values\n",
    "\n",
    "# Function to add noise to an image\n",
    "def add_noise(image, noise_level):\n",
    "    noise = torch.randn_like(image) * noise_level\n",
    "    noisy_image = image + noise\n",
    "    noisy_image = torch.clamp(noisy_image, 0.0, 1.0)\n",
    "    return noisy_image"
   ]
  },
  {
   "cell_type": "markdown",
   "metadata": {
    "id": "IRgdNM3Wtm42"
   },
   "source": [
    "Now the main class for DA. We take ResNet-50 as its backbone, add a bottleneck layer and our own FC layer for classification.\n",
    "Note the `adapt_loss` function. It is just using our predefined MMD or CORAL loss. Of course you can use your own loss."
   ]
  },
  {
   "cell_type": "code",
   "execution_count": 16,
   "metadata": {
    "executionInfo": {
     "elapsed": 7,
     "status": "ok",
     "timestamp": 1698725131344,
     "user": {
      "displayName": "Iman Khazrak",
      "userId": "00007021905658904546"
     },
     "user_tz": 240
    },
    "id": "oC5NKJpJtm42"
   },
   "outputs": [],
   "source": [
    "class TransferNet(nn.Module):\n",
    "    def __init__(self,\n",
    "                 num_class,\n",
    "                 base_net='resnet50',\n",
    "                 transfer_loss='mmd',\n",
    "                 use_bottleneck=True,\n",
    "                 bottleneck_width=256,\n",
    "                 width=1024):\n",
    "        super(TransferNet, self).__init__()\n",
    "        if base_net == 'resnet50':\n",
    "            self.base_network = ResNet50Fc()\n",
    "        else:\n",
    "            # Your own basenet\n",
    "            return\n",
    "        self.use_bottleneck = use_bottleneck\n",
    "        self.transfer_loss = transfer_loss\n",
    "        bottleneck_list = [nn.Linear(self.base_network.output_num(\n",
    "        ), bottleneck_width), nn.BatchNorm1d(bottleneck_width), nn.ReLU(), nn.Dropout(0.5)]\n",
    "        self.bottleneck_layer = nn.Sequential(*bottleneck_list)\n",
    "        classifier_layer_list = [nn.Linear(self.base_network.output_num(), width), nn.ReLU(), nn.Dropout(0.5),\n",
    "                                 nn.Linear(width, num_class)]\n",
    "        self.classifier_layer = nn.Sequential(*classifier_layer_list)\n",
    "\n",
    "        self.bottleneck_layer[0].weight.data.normal_(0, 0.005)\n",
    "        self.bottleneck_layer[0].bias.data.fill_(0.1)\n",
    "        for i in range(2):\n",
    "            self.classifier_layer[i * 3].weight.data.normal_(0, 0.01)\n",
    "            self.classifier_layer[i * 3].bias.data.fill_(0.0)\n",
    "\n",
    "    def forward(self, source, target):\n",
    "        source = self.base_network(source)\n",
    "        target = self.base_network(target)\n",
    "        source_clf = self.classifier_layer(source)\n",
    "        if self.use_bottleneck:\n",
    "            source = self.bottleneck_layer(source)\n",
    "            target = self.bottleneck_layer(target)\n",
    "        transfer_loss = self.adapt_loss(source, target, self.transfer_loss)\n",
    "        return source_clf, transfer_loss\n",
    "\n",
    "    def predict(self, x):\n",
    "        features = self.base_network(x)\n",
    "        clf = self.classifier_layer(features)\n",
    "        return clf\n",
    "\n",
    "    def adapt_loss(self, X, Y, adapt_loss):\n",
    "        \"\"\"Compute adaptation loss, currently we support mmd and coral\n",
    "\n",
    "        Arguments:\n",
    "            X {tensor} -- source matrix\n",
    "            Y {tensor} -- target matrix\n",
    "            adapt_loss {string} -- loss type, 'mmd' or 'coral'. You can add your own loss\n",
    "\n",
    "        Returns:\n",
    "            [tensor] -- adaptation loss tensor\n",
    "        \"\"\"\n",
    "        if adapt_loss == 'mmd':\n",
    "            mmd_loss = MMD_loss()\n",
    "            loss = mmd_loss(X, Y)\n",
    "        elif adapt_loss == 'coral':\n",
    "            loss = CORAL(X, Y)\n",
    "        else:\n",
    "            # Your own loss\n",
    "            loss = 0\n",
    "        return loss"
   ]
  },
  {
   "cell_type": "markdown",
   "metadata": {
    "id": "hAdPs27btm42"
   },
   "source": [
    "### Train\n",
    "Now the train part."
   ]
  },
  {
   "cell_type": "code",
   "execution_count": 17,
   "metadata": {
    "executionInfo": {
     "elapsed": 733,
     "status": "ok",
     "timestamp": 1698725132070,
     "user": {
      "displayName": "Iman Khazrak",
      "userId": "00007021905658904546"
     },
     "user_tz": 240
    },
    "id": "OK6P8uMDtm42"
   },
   "outputs": [],
   "source": [
    "transfer_loss = 'mmd'\n",
    "learning_rate = 0.0001\n",
    "transfer_model = TransferNet(n_class, transfer_loss=transfer_loss, base_net='resnet50').cuda()\n",
    "optimizer = torch.optim.SGD([\n",
    "    {'params': transfer_model.base_network.parameters()},\n",
    "    {'params': transfer_model.bottleneck_layer.parameters(), 'lr': 10 * learning_rate},\n",
    "    {'params': transfer_model.classifier_layer.parameters(), 'lr': 10 * learning_rate},\n",
    "], lr=learning_rate, momentum=0.9, weight_decay=5e-4)\n",
    "# lamb = 0.5 # weight for transfer loss, it is a hyperparameter that needs to be tuned"
   ]
  },
  {
   "cell_type": "markdown",
   "metadata": {
    "id": "4WpUfcHItm42"
   },
   "source": [
    "The main train function. Since we have to enumerate all source and target samples, we have to use `zip` operation to enumerate each pair of these two domains. It is common that two domains have different sizes, but we think by randomly sampling them in many epochs, we may sample each one of them."
   ]
  },
  {
   "cell_type": "code",
   "execution_count": 18,
   "metadata": {
    "executionInfo": {
     "elapsed": 13,
     "status": "ok",
     "timestamp": 1698725132071,
     "user": {
      "displayName": "Iman Khazrak",
      "userId": "00007021905658904546"
     },
     "user_tz": 240
    },
    "id": "AGlVNI2ktm42"
   },
   "outputs": [],
   "source": [
    "def train(dataloaders, model, optimizer):\n",
    "    source_loader, target_train_loader, target_test_loader = dataloaders['src'], dataloaders['val'], dataloaders['tar']\n",
    "    len_source_loader = len(source_loader)\n",
    "    len_target_loader = len(target_train_loader)\n",
    "    best_acc = 0\n",
    "    stop = 0\n",
    "    n_batch = min(len_source_loader, len_target_loader)\n",
    "    for e in range(n_epoch):\n",
    "        stop += 1\n",
    "        train_loss_clf, train_loss_transfer, train_loss_total = 0, 0, 0\n",
    "        model.train()\n",
    "        for (src, tar) in zip(source_loader, target_train_loader):\n",
    "            data_source, label_source = src\n",
    "            data_target, _ = tar\n",
    "            data_source, label_source = data_source.cuda(), label_source.cuda()\n",
    "            data_target = data_target.cuda()\n",
    "\n",
    "            optimizer.zero_grad()\n",
    "            label_source_pred, transfer_loss = model(data_source, data_target)\n",
    "            clf_loss = criterion(label_source_pred, label_source)\n",
    "            loss = clf_loss + lamb * transfer_loss\n",
    "            loss.backward()\n",
    "            optimizer.step()\n",
    "            train_loss_clf = clf_loss.detach().item() + train_loss_clf\n",
    "            train_loss_transfer = transfer_loss.detach().item() + train_loss_transfer\n",
    "            train_loss_total = loss.detach().item() + train_loss_total\n",
    "        acc = test(model, target_test_loader)\n",
    "        print(f'Epoch: [{e:2d}/{n_epoch}], cls_loss: {train_loss_clf/n_batch:.4f}, transfer_loss: {train_loss_transfer/n_batch:.4f}, total_Loss: {train_loss_total/n_batch:.4f}, acc: {acc:.4f}')\n",
    "\n",
    "        if best_acc < acc:\n",
    "            best_acc = acc\n",
    "            torch.save(model.state_dict(), 'trans_model_webcam.pkl')\n",
    "            stop = 0\n",
    "        if stop >= early_stop:\n",
    "            break"
   ]
  },
  {
   "cell_type": "code",
   "execution_count": 19,
   "metadata": {
    "executionInfo": {
     "elapsed": 13,
     "status": "ok",
     "timestamp": 1698725132072,
     "user": {
      "displayName": "Iman Khazrak",
      "userId": "00007021905658904546"
     },
     "user_tz": 240
    },
    "id": "nqSCG6-Xtm43",
    "scrolled": true
   },
   "outputs": [],
   "source": [
    "# train(dataloaders, transfer_model, optimizer)"
   ]
  },
  {
   "cell_type": "code",
   "execution_count": 20,
   "metadata": {
    "executionInfo": {
     "elapsed": 12,
     "status": "ok",
     "timestamp": 1698725132072,
     "user": {
      "displayName": "Iman Khazrak",
      "userId": "00007021905658904546"
     },
     "user_tz": 240
    },
    "id": "yWvYODRDtm43"
   },
   "outputs": [],
   "source": [
    "# transfer_model.load_state_dict(torch.load('trans_model_webcam.pkl'))\n",
    "# acc_test = test(transfer_model, dataloaders['tar'])\n",
    "# print(f'Test accuracy: {acc_test}')"
   ]
  },
  {
   "cell_type": "markdown",
   "metadata": {
    "id": "jbw6KndNtm43"
   },
   "source": [
    "Now we are done."
   ]
  },
  {
   "cell_type": "markdown",
   "metadata": {
    "id": "JQX2ak-jtm43"
   },
   "source": [
    "You see, we don't even need to install a library or package to train a domain adaptation or finetune model.\n",
    "In your own work, you can also use this notebook to test your own algorithms."
   ]
  },
  {
   "cell_type": "markdown",
   "metadata": {
    "id": "pvqYPfrMxHLU"
   },
   "source": [
    "Add entropy"
   ]
  },
  {
   "cell_type": "markdown",
   "metadata": {
    "id": "vc6-Zp1wCE_-"
   },
   "source": [
    "# Archive\n"
   ]
  },
  {
   "cell_type": "code",
   "execution_count": 21,
   "metadata": {
    "executionInfo": {
     "elapsed": 12,
     "status": "ok",
     "timestamp": 1698725132072,
     "user": {
      "displayName": "Iman Khazrak",
      "userId": "00007021905658904546"
     },
     "user_tz": 240
    },
    "id": "rbo4SFU8b4rS"
   },
   "outputs": [],
   "source": [
    "def test2(model, target_test_loader, lamb):\n",
    "    records = [] # new added\n",
    "    model.eval()\n",
    "    correct = 0\n",
    "    len_target_dataset = len(target_test_loader.dataset)\n",
    "    with torch.no_grad():\n",
    "        for data, target in target_test_loader:\n",
    "            data, target = data.cuda(), target.cuda()\n",
    "            s_output = model.predict(data)\n",
    "            pred = torch.max(s_output, 1)[1]\n",
    "            correct += torch.sum(pred == target)\n",
    "    acc = correct.double() / len(target_test_loader.dataset)\n",
    "    records.append({ # new added\n",
    "            'Lambda': lamb,\n",
    "            'Test accuracy': acc,\n",
    "    })\n",
    "    global test_result\n",
    "    test_result = test_result.append(pd.DataFrame(records), ignore_index=True)\n",
    "    return acc"
   ]
  },
  {
   "cell_type": "code",
   "execution_count": 22,
   "metadata": {
    "colab": {
     "base_uri": "https://localhost:8080/"
    },
    "executionInfo": {
     "elapsed": 5803071,
     "status": "ok",
     "timestamp": 1698731006117,
     "user": {
      "displayName": "Iman Khazrak",
      "userId": "00007021905658904546"
     },
     "user_tz": 240
    },
    "id": "GVFOH_0ADch3",
    "outputId": "17d16c3f-1e39-4ef1-87a6-8217595fa737"
   },
   "outputs": [
    {
     "name": "stderr",
     "output_type": "stream",
     "text": [
      "/usr/local/lib/python3.10/dist-packages/torchvision/models/_utils.py:208: UserWarning: The parameter 'pretrained' is deprecated since 0.13 and may be removed in the future, please use 'weights' instead.\n",
      "  warnings.warn(\n",
      "/usr/local/lib/python3.10/dist-packages/torchvision/models/_utils.py:223: UserWarning: Arguments other than a weight enum or `None` for 'weights' are deprecated since 0.13 and may be removed in the future. The current behavior is equivalent to passing `weights=ResNet50_Weights.IMAGENET1K_V1`. You can also use `weights=ResNet50_Weights.DEFAULT` to get the most up-to-date weights.\n",
      "  warnings.warn(msg)\n"
     ]
    },
    {
     "name": "stdout",
     "output_type": "stream",
     "text": [
      "lambda= 0.0 Epoch: [ 0/100], cls_loss: 3.4290, transfer_loss: 0.1644, total_Loss: 3.4290, acc: 0.1396\n",
      "lambda= 0.0 Epoch: [ 1/100], cls_loss: 3.3929, transfer_loss: 0.1620, total_Loss: 3.3929, acc: 0.1208\n",
      "lambda= 0.0 Epoch: [ 2/100], cls_loss: 3.3592, transfer_loss: 0.1637, total_Loss: 3.3592, acc: 0.1824\n",
      "lambda= 0.0 Epoch: [ 3/100], cls_loss: 3.3176, transfer_loss: 0.1642, total_Loss: 3.3176, acc: 0.1937\n",
      "lambda= 0.0 Epoch: [ 4/100], cls_loss: 3.2749, transfer_loss: 0.1633, total_Loss: 3.2749, acc: 0.2377\n",
      "lambda= 0.0 Epoch: [ 5/100], cls_loss: 3.2232, transfer_loss: 0.1630, total_Loss: 3.2232, acc: 0.3082\n",
      "lambda= 0.0 Epoch: [ 6/100], cls_loss: 3.1685, transfer_loss: 0.1622, total_Loss: 3.1685, acc: 0.3233\n",
      "lambda= 0.0 Epoch: [ 7/100], cls_loss: 3.0962, transfer_loss: 0.1626, total_Loss: 3.0962, acc: 0.4025\n",
      "lambda= 0.0 Epoch: [ 8/100], cls_loss: 3.0235, transfer_loss: 0.1634, total_Loss: 3.0235, acc: 0.4226\n",
      "lambda= 0.0 Epoch: [ 9/100], cls_loss: 2.9208, transfer_loss: 0.1625, total_Loss: 2.9208, acc: 0.5270\n",
      "lambda= 0.0 Epoch: [10/100], cls_loss: 2.8279, transfer_loss: 0.1637, total_Loss: 2.8279, acc: 0.5434\n",
      "lambda= 0.0 Epoch: [11/100], cls_loss: 2.7057, transfer_loss: 0.1640, total_Loss: 2.7057, acc: 0.5308\n",
      "lambda= 0.0 Epoch: [12/100], cls_loss: 2.5705, transfer_loss: 0.1634, total_Loss: 2.5705, acc: 0.5358\n",
      "lambda= 0.0 Epoch: [13/100], cls_loss: 2.5065, transfer_loss: 0.1637, total_Loss: 2.5065, acc: 0.6239\n",
      "lambda= 0.0 Epoch: [14/100], cls_loss: 2.3485, transfer_loss: 0.1626, total_Loss: 2.3485, acc: 0.5849\n",
      "lambda= 0.0 Epoch: [15/100], cls_loss: 2.2228, transfer_loss: 0.1655, total_Loss: 2.2228, acc: 0.5610\n",
      "lambda= 0.0 Epoch: [16/100], cls_loss: 2.1499, transfer_loss: 0.1626, total_Loss: 2.1499, acc: 0.6252\n",
      "lambda= 0.0 Epoch: [17/100], cls_loss: 1.9985, transfer_loss: 0.1631, total_Loss: 1.9985, acc: 0.6403\n",
      "lambda= 0.0 Epoch: [18/100], cls_loss: 1.9192, transfer_loss: 0.1635, total_Loss: 1.9192, acc: 0.6767\n",
      "lambda= 0.0 Epoch: [19/100], cls_loss: 1.7859, transfer_loss: 0.1645, total_Loss: 1.7859, acc: 0.6541\n",
      "lambda= 0.0 Epoch: [20/100], cls_loss: 1.6805, transfer_loss: 0.1637, total_Loss: 1.6805, acc: 0.6629\n",
      "lambda= 0.0 Epoch: [21/100], cls_loss: 1.6297, transfer_loss: 0.1639, total_Loss: 1.6297, acc: 0.6830\n",
      "lambda= 0.0 Epoch: [22/100], cls_loss: 1.5742, transfer_loss: 0.1643, total_Loss: 1.5742, acc: 0.6780\n",
      "lambda= 0.0 Epoch: [23/100], cls_loss: 1.4309, transfer_loss: 0.1631, total_Loss: 1.4309, acc: 0.6830\n",
      "lambda= 0.0 Epoch: [24/100], cls_loss: 1.4849, transfer_loss: 0.1629, total_Loss: 1.4849, acc: 0.6868\n",
      "lambda= 0.0 Epoch: [25/100], cls_loss: 1.3204, transfer_loss: 0.1653, total_Loss: 1.3204, acc: 0.7208\n",
      "lambda= 0.0 Epoch: [26/100], cls_loss: 1.3385, transfer_loss: 0.1623, total_Loss: 1.3385, acc: 0.6792\n",
      "lambda= 0.0 Epoch: [27/100], cls_loss: 1.3311, transfer_loss: 0.1629, total_Loss: 1.3311, acc: 0.6906\n",
      "lambda= 0.0 Epoch: [28/100], cls_loss: 1.2298, transfer_loss: 0.1644, total_Loss: 1.2298, acc: 0.6830\n",
      "lambda= 0.0 Epoch: [29/100], cls_loss: 1.2704, transfer_loss: 0.1635, total_Loss: 1.2704, acc: 0.6994\n",
      "lambda= 0.0 Epoch: [30/100], cls_loss: 1.1515, transfer_loss: 0.1640, total_Loss: 1.1515, acc: 0.7082\n",
      "lambda= 0.0 Epoch: [31/100], cls_loss: 1.1330, transfer_loss: 0.1634, total_Loss: 1.1330, acc: 0.6994\n",
      "lambda= 0.0 Epoch: [32/100], cls_loss: 1.1942, transfer_loss: 0.1634, total_Loss: 1.1942, acc: 0.7107\n",
      "lambda= 0.0 Epoch: [33/100], cls_loss: 1.1809, transfer_loss: 0.1632, total_Loss: 1.1809, acc: 0.7019\n",
      "lambda= 0.0 Epoch: [34/100], cls_loss: 1.0860, transfer_loss: 0.1642, total_Loss: 1.0860, acc: 0.7208\n",
      "lambda= 0.0 Epoch: [35/100], cls_loss: 1.0430, transfer_loss: 0.1637, total_Loss: 1.0430, acc: 0.6981\n",
      "lambda= 0.0 Epoch: [36/100], cls_loss: 1.0634, transfer_loss: 0.1623, total_Loss: 1.0634, acc: 0.6918\n",
      "lambda= 0.0 Epoch: [37/100], cls_loss: 1.0581, transfer_loss: 0.1641, total_Loss: 1.0581, acc: 0.7145\n",
      "lambda= 0.0 Epoch: [38/100], cls_loss: 1.0249, transfer_loss: 0.1635, total_Loss: 1.0249, acc: 0.7258\n",
      "lambda= 0.0 Epoch: [39/100], cls_loss: 1.0879, transfer_loss: 0.1630, total_Loss: 1.0879, acc: 0.7346\n",
      "lambda= 0.0 Epoch: [40/100], cls_loss: 0.9806, transfer_loss: 0.1651, total_Loss: 0.9806, acc: 0.7145\n",
      "lambda= 0.0 Epoch: [41/100], cls_loss: 1.0005, transfer_loss: 0.1621, total_Loss: 1.0005, acc: 0.7333\n",
      "lambda= 0.0 Epoch: [42/100], cls_loss: 0.9745, transfer_loss: 0.1636, total_Loss: 0.9745, acc: 0.7119\n",
      "lambda= 0.0 Epoch: [43/100], cls_loss: 0.9666, transfer_loss: 0.1620, total_Loss: 0.9666, acc: 0.7182\n",
      "lambda= 0.0 Epoch: [44/100], cls_loss: 0.9582, transfer_loss: 0.1630, total_Loss: 0.9582, acc: 0.7132\n",
      "lambda= 0.0 Epoch: [45/100], cls_loss: 0.9111, transfer_loss: 0.1666, total_Loss: 0.9111, acc: 0.6994\n",
      "lambda= 0.0 Epoch: [46/100], cls_loss: 0.9024, transfer_loss: 0.1627, total_Loss: 0.9024, acc: 0.6981\n",
      "lambda= 0.0 Epoch: [47/100], cls_loss: 0.9137, transfer_loss: 0.1640, total_Loss: 0.9137, acc: 0.7472\n",
      "lambda= 0.0 Epoch: [48/100], cls_loss: 0.9138, transfer_loss: 0.1636, total_Loss: 0.9138, acc: 0.7270\n",
      "lambda= 0.0 Epoch: [49/100], cls_loss: 0.8210, transfer_loss: 0.1630, total_Loss: 0.8210, acc: 0.7384\n",
      "lambda= 0.0 Epoch: [50/100], cls_loss: 0.8130, transfer_loss: 0.1636, total_Loss: 0.8130, acc: 0.7170\n",
      "lambda= 0.0 Epoch: [51/100], cls_loss: 0.9006, transfer_loss: 0.1636, total_Loss: 0.9006, acc: 0.7220\n",
      "lambda= 0.0 Epoch: [52/100], cls_loss: 0.8700, transfer_loss: 0.1647, total_Loss: 0.8700, acc: 0.7384\n",
      "lambda= 0.0 Epoch: [53/100], cls_loss: 0.8325, transfer_loss: 0.1640, total_Loss: 0.8325, acc: 0.7157\n",
      "lambda= 0.0 Epoch: [54/100], cls_loss: 0.8339, transfer_loss: 0.1631, total_Loss: 0.8339, acc: 0.7233\n",
      "lambda= 0.0 Epoch: [55/100], cls_loss: 0.7936, transfer_loss: 0.1630, total_Loss: 0.7936, acc: 0.7497\n",
      "lambda= 0.0 Epoch: [56/100], cls_loss: 0.7377, transfer_loss: 0.1634, total_Loss: 0.7377, acc: 0.7358\n",
      "lambda= 0.0 Epoch: [57/100], cls_loss: 0.8342, transfer_loss: 0.1642, total_Loss: 0.8342, acc: 0.7258\n",
      "lambda= 0.0 Epoch: [58/100], cls_loss: 0.7996, transfer_loss: 0.1621, total_Loss: 0.7996, acc: 0.7358\n",
      "lambda= 0.0 Epoch: [59/100], cls_loss: 0.8010, transfer_loss: 0.1635, total_Loss: 0.8010, acc: 0.7459\n",
      "lambda= 0.0 Epoch: [60/100], cls_loss: 0.7590, transfer_loss: 0.1638, total_Loss: 0.7590, acc: 0.7245\n",
      "lambda= 0.0 Epoch: [61/100], cls_loss: 0.7915, transfer_loss: 0.1652, total_Loss: 0.7915, acc: 0.7270\n",
      "lambda= 0.0 Epoch: [62/100], cls_loss: 0.7085, transfer_loss: 0.1646, total_Loss: 0.7085, acc: 0.7421\n",
      "lambda= 0.0 Epoch: [63/100], cls_loss: 0.7415, transfer_loss: 0.1641, total_Loss: 0.7415, acc: 0.7321\n",
      "lambda= 0.0 Epoch: [64/100], cls_loss: 0.7280, transfer_loss: 0.1637, total_Loss: 0.7280, acc: 0.7069\n",
      "lambda= 0.0 Epoch: [65/100], cls_loss: 0.6911, transfer_loss: 0.1619, total_Loss: 0.6911, acc: 0.7119\n",
      "lambda= 0.0 Epoch: [66/100], cls_loss: 0.7345, transfer_loss: 0.1646, total_Loss: 0.7345, acc: 0.7371\n",
      "lambda= 0.0 Epoch: [67/100], cls_loss: 0.7012, transfer_loss: 0.1648, total_Loss: 0.7012, acc: 0.7371\n",
      "lambda= 0.0 Epoch: [68/100], cls_loss: 0.7518, transfer_loss: 0.1649, total_Loss: 0.7518, acc: 0.7459\n",
      "lambda= 0.0 Epoch: [69/100], cls_loss: 0.7053, transfer_loss: 0.1628, total_Loss: 0.7053, acc: 0.7371\n",
      "lambda= 0.0 Epoch: [70/100], cls_loss: 0.7142, transfer_loss: 0.1632, total_Loss: 0.7142, acc: 0.7358\n",
      "lambda= 0.0 Epoch: [71/100], cls_loss: 0.7099, transfer_loss: 0.1648, total_Loss: 0.7099, acc: 0.7421\n",
      "lambda= 0.0 Epoch: [72/100], cls_loss: 0.7432, transfer_loss: 0.1639, total_Loss: 0.7432, acc: 0.7384\n",
      "lambda= 0.0 Epoch: [73/100], cls_loss: 0.7021, transfer_loss: 0.1636, total_Loss: 0.7021, acc: 0.7283\n",
      "lambda= 0.0 Epoch: [74/100], cls_loss: 0.6399, transfer_loss: 0.1632, total_Loss: 0.6399, acc: 0.7308\n",
      "lambda= 0.0 Epoch: [75/100], cls_loss: 0.6529, transfer_loss: 0.1639, total_Loss: 0.6529, acc: 0.7409\n"
     ]
    },
    {
     "name": "stderr",
     "output_type": "stream",
     "text": [
      "<ipython-input-22-f33a8f85b166>:68: FutureWarning: The frame.append method is deprecated and will be removed from pandas in a future version. Use pandas.concat instead.\n",
      "  train_result = train_result.append(pd.DataFrame(records), ignore_index=True)\n",
      "<ipython-input-21-47478dc6ccbe>:18: FutureWarning: The frame.append method is deprecated and will be removed from pandas in a future version. Use pandas.concat instead.\n",
      "  test_result = test_result.append(pd.DataFrame(records), ignore_index=True)\n",
      "/usr/local/lib/python3.10/dist-packages/torchvision/models/_utils.py:208: UserWarning: The parameter 'pretrained' is deprecated since 0.13 and may be removed in the future, please use 'weights' instead.\n",
      "  warnings.warn(\n",
      "/usr/local/lib/python3.10/dist-packages/torchvision/models/_utils.py:223: UserWarning: Arguments other than a weight enum or `None` for 'weights' are deprecated since 0.13 and may be removed in the future. The current behavior is equivalent to passing `weights=ResNet50_Weights.IMAGENET1K_V1`. You can also use `weights=ResNet50_Weights.DEFAULT` to get the most up-to-date weights.\n",
      "  warnings.warn(msg)\n"
     ]
    },
    {
     "name": "stdout",
     "output_type": "stream",
     "text": [
      "lambda= 0.0 Test accuracy: 0.7496855345911949\n",
      "lambda= 0.1 Epoch: [ 0/100], cls_loss: 3.4265, transfer_loss: 0.1635, total_Loss: 3.4429, acc: 0.0616\n",
      "lambda= 0.1 Epoch: [ 1/100], cls_loss: 3.3976, transfer_loss: 0.1621, total_Loss: 3.4138, acc: 0.1132\n",
      "lambda= 0.1 Epoch: [ 2/100], cls_loss: 3.3623, transfer_loss: 0.1629, total_Loss: 3.3786, acc: 0.1145\n",
      "lambda= 0.1 Epoch: [ 3/100], cls_loss: 3.3391, transfer_loss: 0.1641, total_Loss: 3.3555, acc: 0.1962\n",
      "lambda= 0.1 Epoch: [ 4/100], cls_loss: 3.2901, transfer_loss: 0.1644, total_Loss: 3.3065, acc: 0.2277\n",
      "lambda= 0.1 Epoch: [ 5/100], cls_loss: 3.2423, transfer_loss: 0.1628, total_Loss: 3.2586, acc: 0.2453\n",
      "lambda= 0.1 Epoch: [ 6/100], cls_loss: 3.1920, transfer_loss: 0.1632, total_Loss: 3.2084, acc: 0.3648\n",
      "lambda= 0.1 Epoch: [ 7/100], cls_loss: 3.1315, transfer_loss: 0.1646, total_Loss: 3.1479, acc: 0.3950\n",
      "lambda= 0.1 Epoch: [ 8/100], cls_loss: 3.0678, transfer_loss: 0.1638, total_Loss: 3.0842, acc: 0.3736\n",
      "lambda= 0.1 Epoch: [ 9/100], cls_loss: 2.9860, transfer_loss: 0.1631, total_Loss: 3.0024, acc: 0.5799\n",
      "lambda= 0.1 Epoch: [10/100], cls_loss: 2.8974, transfer_loss: 0.1635, total_Loss: 2.9137, acc: 0.5585\n",
      "lambda= 0.1 Epoch: [11/100], cls_loss: 2.8193, transfer_loss: 0.1616, total_Loss: 2.8355, acc: 0.5673\n",
      "lambda= 0.1 Epoch: [12/100], cls_loss: 2.6826, transfer_loss: 0.1631, total_Loss: 2.6989, acc: 0.6214\n",
      "lambda= 0.1 Epoch: [13/100], cls_loss: 2.5632, transfer_loss: 0.1635, total_Loss: 2.5796, acc: 0.6025\n",
      "lambda= 0.1 Epoch: [14/100], cls_loss: 2.4308, transfer_loss: 0.1635, total_Loss: 2.4472, acc: 0.6050\n",
      "lambda= 0.1 Epoch: [15/100], cls_loss: 2.3163, transfer_loss: 0.1641, total_Loss: 2.3327, acc: 0.6113\n",
      "lambda= 0.1 Epoch: [16/100], cls_loss: 2.1842, transfer_loss: 0.1629, total_Loss: 2.2005, acc: 0.6201\n",
      "lambda= 0.1 Epoch: [17/100], cls_loss: 2.0382, transfer_loss: 0.1653, total_Loss: 2.0547, acc: 0.6025\n",
      "lambda= 0.1 Epoch: [18/100], cls_loss: 1.9324, transfer_loss: 0.1648, total_Loss: 1.9489, acc: 0.6314\n",
      "lambda= 0.1 Epoch: [19/100], cls_loss: 1.8523, transfer_loss: 0.1643, total_Loss: 1.8688, acc: 0.6516\n",
      "lambda= 0.1 Epoch: [20/100], cls_loss: 1.7285, transfer_loss: 0.1636, total_Loss: 1.7449, acc: 0.6780\n",
      "lambda= 0.1 Epoch: [21/100], cls_loss: 1.6354, transfer_loss: 0.1637, total_Loss: 1.6517, acc: 0.6201\n",
      "lambda= 0.1 Epoch: [22/100], cls_loss: 1.5926, transfer_loss: 0.1650, total_Loss: 1.6091, acc: 0.6981\n",
      "lambda= 0.1 Epoch: [23/100], cls_loss: 1.5374, transfer_loss: 0.1640, total_Loss: 1.5538, acc: 0.6818\n",
      "lambda= 0.1 Epoch: [24/100], cls_loss: 1.5122, transfer_loss: 0.1632, total_Loss: 1.5285, acc: 0.6692\n",
      "lambda= 0.1 Epoch: [25/100], cls_loss: 1.4056, transfer_loss: 0.1623, total_Loss: 1.4218, acc: 0.7145\n",
      "lambda= 0.1 Epoch: [26/100], cls_loss: 1.4096, transfer_loss: 0.1632, total_Loss: 1.4259, acc: 0.6893\n",
      "lambda= 0.1 Epoch: [27/100], cls_loss: 1.3188, transfer_loss: 0.1630, total_Loss: 1.3351, acc: 0.7057\n",
      "lambda= 0.1 Epoch: [28/100], cls_loss: 1.2946, transfer_loss: 0.1634, total_Loss: 1.3110, acc: 0.7119\n",
      "lambda= 0.1 Epoch: [29/100], cls_loss: 1.2234, transfer_loss: 0.1653, total_Loss: 1.2399, acc: 0.7119\n",
      "lambda= 0.1 Epoch: [30/100], cls_loss: 1.2019, transfer_loss: 0.1625, total_Loss: 1.2181, acc: 0.6918\n",
      "lambda= 0.1 Epoch: [31/100], cls_loss: 1.1639, transfer_loss: 0.1621, total_Loss: 1.1801, acc: 0.7145\n",
      "lambda= 0.1 Epoch: [32/100], cls_loss: 1.1464, transfer_loss: 0.1648, total_Loss: 1.1629, acc: 0.7119\n",
      "lambda= 0.1 Epoch: [33/100], cls_loss: 1.1462, transfer_loss: 0.1640, total_Loss: 1.1626, acc: 0.7371\n",
      "lambda= 0.1 Epoch: [34/100], cls_loss: 1.1121, transfer_loss: 0.1630, total_Loss: 1.1284, acc: 0.7270\n",
      "lambda= 0.1 Epoch: [35/100], cls_loss: 1.0888, transfer_loss: 0.1627, total_Loss: 1.1051, acc: 0.7044\n",
      "lambda= 0.1 Epoch: [36/100], cls_loss: 1.0081, transfer_loss: 0.1627, total_Loss: 1.0244, acc: 0.7220\n",
      "lambda= 0.1 Epoch: [37/100], cls_loss: 1.0439, transfer_loss: 0.1633, total_Loss: 1.0602, acc: 0.7308\n",
      "lambda= 0.1 Epoch: [38/100], cls_loss: 1.0434, transfer_loss: 0.1647, total_Loss: 1.0598, acc: 0.7270\n",
      "lambda= 0.1 Epoch: [39/100], cls_loss: 1.0022, transfer_loss: 0.1648, total_Loss: 1.0187, acc: 0.7371\n",
      "lambda= 0.1 Epoch: [40/100], cls_loss: 0.9253, transfer_loss: 0.1644, total_Loss: 0.9417, acc: 0.7119\n",
      "lambda= 0.1 Epoch: [41/100], cls_loss: 0.9971, transfer_loss: 0.1637, total_Loss: 1.0135, acc: 0.7358\n",
      "lambda= 0.1 Epoch: [42/100], cls_loss: 0.9727, transfer_loss: 0.1625, total_Loss: 0.9890, acc: 0.7308\n",
      "lambda= 0.1 Epoch: [43/100], cls_loss: 1.0018, transfer_loss: 0.1638, total_Loss: 1.0182, acc: 0.7145\n",
      "lambda= 0.1 Epoch: [44/100], cls_loss: 0.8607, transfer_loss: 0.1654, total_Loss: 0.8772, acc: 0.7170\n",
      "lambda= 0.1 Epoch: [45/100], cls_loss: 0.9057, transfer_loss: 0.1622, total_Loss: 0.9219, acc: 0.7082\n",
      "lambda= 0.1 Epoch: [46/100], cls_loss: 0.9214, transfer_loss: 0.1622, total_Loss: 0.9376, acc: 0.7107\n",
      "lambda= 0.1 Epoch: [47/100], cls_loss: 0.9100, transfer_loss: 0.1635, total_Loss: 0.9264, acc: 0.7283\n",
      "lambda= 0.1 Epoch: [48/100], cls_loss: 0.9353, transfer_loss: 0.1637, total_Loss: 0.9517, acc: 0.7245\n",
      "lambda= 0.1 Epoch: [49/100], cls_loss: 0.8759, transfer_loss: 0.1642, total_Loss: 0.8923, acc: 0.7107\n",
      "lambda= 0.1 Epoch: [50/100], cls_loss: 0.9070, transfer_loss: 0.1623, total_Loss: 0.9232, acc: 0.7082\n",
      "lambda= 0.1 Epoch: [51/100], cls_loss: 0.8958, transfer_loss: 0.1639, total_Loss: 0.9122, acc: 0.7195\n",
      "lambda= 0.1 Epoch: [52/100], cls_loss: 0.9498, transfer_loss: 0.1636, total_Loss: 0.9662, acc: 0.7283\n",
      "lambda= 0.1 Epoch: [53/100], cls_loss: 0.8503, transfer_loss: 0.1639, total_Loss: 0.8667, acc: 0.7132\n"
     ]
    },
    {
     "name": "stderr",
     "output_type": "stream",
     "text": [
      "<ipython-input-22-f33a8f85b166>:68: FutureWarning: The frame.append method is deprecated and will be removed from pandas in a future version. Use pandas.concat instead.\n",
      "  train_result = train_result.append(pd.DataFrame(records), ignore_index=True)\n",
      "<ipython-input-21-47478dc6ccbe>:18: FutureWarning: The frame.append method is deprecated and will be removed from pandas in a future version. Use pandas.concat instead.\n",
      "  test_result = test_result.append(pd.DataFrame(records), ignore_index=True)\n",
      "/usr/local/lib/python3.10/dist-packages/torchvision/models/_utils.py:208: UserWarning: The parameter 'pretrained' is deprecated since 0.13 and may be removed in the future, please use 'weights' instead.\n",
      "  warnings.warn(\n",
      "/usr/local/lib/python3.10/dist-packages/torchvision/models/_utils.py:223: UserWarning: Arguments other than a weight enum or `None` for 'weights' are deprecated since 0.13 and may be removed in the future. The current behavior is equivalent to passing `weights=ResNet50_Weights.IMAGENET1K_V1`. You can also use `weights=ResNet50_Weights.DEFAULT` to get the most up-to-date weights.\n",
      "  warnings.warn(msg)\n"
     ]
    },
    {
     "name": "stdout",
     "output_type": "stream",
     "text": [
      "lambda= 0.1 Test accuracy: 0.7371069182389937\n",
      "lambda= 0.2 Epoch: [ 0/100], cls_loss: 3.4311, transfer_loss: 0.1633, total_Loss: 3.4638, acc: 0.0289\n",
      "lambda= 0.2 Epoch: [ 1/100], cls_loss: 3.4016, transfer_loss: 0.1646, total_Loss: 3.4345, acc: 0.1409\n",
      "lambda= 0.2 Epoch: [ 2/100], cls_loss: 3.3596, transfer_loss: 0.1629, total_Loss: 3.3922, acc: 0.1358\n",
      "lambda= 0.2 Epoch: [ 3/100], cls_loss: 3.3345, transfer_loss: 0.1637, total_Loss: 3.3673, acc: 0.0742\n",
      "lambda= 0.2 Epoch: [ 4/100], cls_loss: 3.2824, transfer_loss: 0.1636, total_Loss: 3.3151, acc: 0.1648\n",
      "lambda= 0.2 Epoch: [ 5/100], cls_loss: 3.2462, transfer_loss: 0.1635, total_Loss: 3.2789, acc: 0.2528\n",
      "lambda= 0.2 Epoch: [ 6/100], cls_loss: 3.1894, transfer_loss: 0.1640, total_Loss: 3.2222, acc: 0.3874\n",
      "lambda= 0.2 Epoch: [ 7/100], cls_loss: 3.1195, transfer_loss: 0.1650, total_Loss: 3.1525, acc: 0.4893\n",
      "lambda= 0.2 Epoch: [ 8/100], cls_loss: 3.0435, transfer_loss: 0.1645, total_Loss: 3.0764, acc: 0.4126\n",
      "lambda= 0.2 Epoch: [ 9/100], cls_loss: 2.9768, transfer_loss: 0.1635, total_Loss: 3.0096, acc: 0.4918\n",
      "lambda= 0.2 Epoch: [10/100], cls_loss: 2.8614, transfer_loss: 0.1645, total_Loss: 2.8943, acc: 0.5145\n",
      "lambda= 0.2 Epoch: [11/100], cls_loss: 2.7488, transfer_loss: 0.1626, total_Loss: 2.7813, acc: 0.5094\n",
      "lambda= 0.2 Epoch: [12/100], cls_loss: 2.6495, transfer_loss: 0.1635, total_Loss: 2.6822, acc: 0.5270\n",
      "lambda= 0.2 Epoch: [13/100], cls_loss: 2.4964, transfer_loss: 0.1633, total_Loss: 2.5291, acc: 0.5962\n",
      "lambda= 0.2 Epoch: [14/100], cls_loss: 2.3743, transfer_loss: 0.1648, total_Loss: 2.4072, acc: 0.5459\n",
      "lambda= 0.2 Epoch: [15/100], cls_loss: 2.2843, transfer_loss: 0.1639, total_Loss: 2.3171, acc: 0.6000\n",
      "lambda= 0.2 Epoch: [16/100], cls_loss: 2.1431, transfer_loss: 0.1627, total_Loss: 2.1757, acc: 0.5987\n",
      "lambda= 0.2 Epoch: [17/100], cls_loss: 2.0232, transfer_loss: 0.1625, total_Loss: 2.0557, acc: 0.6377\n",
      "lambda= 0.2 Epoch: [18/100], cls_loss: 1.9105, transfer_loss: 0.1653, total_Loss: 1.9436, acc: 0.6692\n",
      "lambda= 0.2 Epoch: [19/100], cls_loss: 1.7695, transfer_loss: 0.1633, total_Loss: 1.8022, acc: 0.6503\n",
      "lambda= 0.2 Epoch: [20/100], cls_loss: 1.7511, transfer_loss: 0.1658, total_Loss: 1.7843, acc: 0.6755\n",
      "lambda= 0.2 Epoch: [21/100], cls_loss: 1.6880, transfer_loss: 0.1627, total_Loss: 1.7205, acc: 0.6918\n",
      "lambda= 0.2 Epoch: [22/100], cls_loss: 1.5797, transfer_loss: 0.1637, total_Loss: 1.6124, acc: 0.6969\n",
      "lambda= 0.2 Epoch: [23/100], cls_loss: 1.6084, transfer_loss: 0.1652, total_Loss: 1.6414, acc: 0.7119\n",
      "lambda= 0.2 Epoch: [24/100], cls_loss: 1.4554, transfer_loss: 0.1636, total_Loss: 1.4881, acc: 0.6868\n",
      "lambda= 0.2 Epoch: [25/100], cls_loss: 1.3893, transfer_loss: 0.1635, total_Loss: 1.4220, acc: 0.7057\n",
      "lambda= 0.2 Epoch: [26/100], cls_loss: 1.3733, transfer_loss: 0.1628, total_Loss: 1.4059, acc: 0.6931\n",
      "lambda= 0.2 Epoch: [27/100], cls_loss: 1.3434, transfer_loss: 0.1640, total_Loss: 1.3762, acc: 0.6994\n",
      "lambda= 0.2 Epoch: [28/100], cls_loss: 1.3004, transfer_loss: 0.1635, total_Loss: 1.3331, acc: 0.6981\n",
      "lambda= 0.2 Epoch: [29/100], cls_loss: 1.2096, transfer_loss: 0.1632, total_Loss: 1.2422, acc: 0.7057\n",
      "lambda= 0.2 Epoch: [30/100], cls_loss: 1.1765, transfer_loss: 0.1648, total_Loss: 1.2094, acc: 0.7069\n",
      "lambda= 0.2 Epoch: [31/100], cls_loss: 1.2088, transfer_loss: 0.1625, total_Loss: 1.2413, acc: 0.6906\n",
      "lambda= 0.2 Epoch: [32/100], cls_loss: 1.1896, transfer_loss: 0.1631, total_Loss: 1.2222, acc: 0.6868\n",
      "lambda= 0.2 Epoch: [33/100], cls_loss: 1.1228, transfer_loss: 0.1651, total_Loss: 1.1559, acc: 0.7157\n",
      "lambda= 0.2 Epoch: [34/100], cls_loss: 1.1089, transfer_loss: 0.1644, total_Loss: 1.1418, acc: 0.6969\n",
      "lambda= 0.2 Epoch: [35/100], cls_loss: 1.1382, transfer_loss: 0.1638, total_Loss: 1.1710, acc: 0.7208\n",
      "lambda= 0.2 Epoch: [36/100], cls_loss: 1.0708, transfer_loss: 0.1633, total_Loss: 1.1034, acc: 0.6855\n",
      "lambda= 0.2 Epoch: [37/100], cls_loss: 1.0688, transfer_loss: 0.1643, total_Loss: 1.1016, acc: 0.7296\n",
      "lambda= 0.2 Epoch: [38/100], cls_loss: 1.0164, transfer_loss: 0.1634, total_Loss: 1.0491, acc: 0.7321\n",
      "lambda= 0.2 Epoch: [39/100], cls_loss: 1.0064, transfer_loss: 0.1643, total_Loss: 1.0392, acc: 0.7082\n",
      "lambda= 0.2 Epoch: [40/100], cls_loss: 1.0299, transfer_loss: 0.1633, total_Loss: 1.0626, acc: 0.7220\n",
      "lambda= 0.2 Epoch: [41/100], cls_loss: 0.9577, transfer_loss: 0.1641, total_Loss: 0.9906, acc: 0.7157\n",
      "lambda= 0.2 Epoch: [42/100], cls_loss: 0.9374, transfer_loss: 0.1650, total_Loss: 0.9704, acc: 0.7031\n",
      "lambda= 0.2 Epoch: [43/100], cls_loss: 0.9683, transfer_loss: 0.1634, total_Loss: 1.0010, acc: 0.7258\n",
      "lambda= 0.2 Epoch: [44/100], cls_loss: 0.8987, transfer_loss: 0.1634, total_Loss: 0.9313, acc: 0.7182\n",
      "lambda= 0.2 Epoch: [45/100], cls_loss: 0.9097, transfer_loss: 0.1643, total_Loss: 0.9425, acc: 0.7421\n",
      "lambda= 0.2 Epoch: [46/100], cls_loss: 0.9427, transfer_loss: 0.1639, total_Loss: 0.9754, acc: 0.7308\n",
      "lambda= 0.2 Epoch: [47/100], cls_loss: 0.8689, transfer_loss: 0.1646, total_Loss: 0.9018, acc: 0.7233\n",
      "lambda= 0.2 Epoch: [48/100], cls_loss: 0.9047, transfer_loss: 0.1635, total_Loss: 0.9374, acc: 0.7434\n",
      "lambda= 0.2 Epoch: [49/100], cls_loss: 0.8925, transfer_loss: 0.1631, total_Loss: 0.9252, acc: 0.7472\n",
      "lambda= 0.2 Epoch: [50/100], cls_loss: 0.8839, transfer_loss: 0.1644, total_Loss: 0.9168, acc: 0.7296\n",
      "lambda= 0.2 Epoch: [51/100], cls_loss: 0.9274, transfer_loss: 0.1641, total_Loss: 0.9602, acc: 0.7409\n",
      "lambda= 0.2 Epoch: [52/100], cls_loss: 0.8806, transfer_loss: 0.1629, total_Loss: 0.9132, acc: 0.7233\n",
      "lambda= 0.2 Epoch: [53/100], cls_loss: 0.9523, transfer_loss: 0.1645, total_Loss: 0.9852, acc: 0.7031\n",
      "lambda= 0.2 Epoch: [54/100], cls_loss: 0.7735, transfer_loss: 0.1629, total_Loss: 0.8061, acc: 0.7346\n",
      "lambda= 0.2 Epoch: [55/100], cls_loss: 0.8140, transfer_loss: 0.1628, total_Loss: 0.8466, acc: 0.7245\n",
      "lambda= 0.2 Epoch: [56/100], cls_loss: 0.8699, transfer_loss: 0.1633, total_Loss: 0.9026, acc: 0.7019\n",
      "lambda= 0.2 Epoch: [57/100], cls_loss: 0.7799, transfer_loss: 0.1648, total_Loss: 0.8128, acc: 0.7182\n",
      "lambda= 0.2 Epoch: [58/100], cls_loss: 0.8572, transfer_loss: 0.1618, total_Loss: 0.8896, acc: 0.7132\n",
      "lambda= 0.2 Epoch: [59/100], cls_loss: 0.8266, transfer_loss: 0.1633, total_Loss: 0.8592, acc: 0.7333\n",
      "lambda= 0.2 Epoch: [60/100], cls_loss: 0.7434, transfer_loss: 0.1629, total_Loss: 0.7760, acc: 0.7208\n",
      "lambda= 0.2 Epoch: [61/100], cls_loss: 0.7623, transfer_loss: 0.1611, total_Loss: 0.7946, acc: 0.7346\n",
      "lambda= 0.2 Epoch: [62/100], cls_loss: 0.8179, transfer_loss: 0.1644, total_Loss: 0.8508, acc: 0.7358\n",
      "lambda= 0.2 Epoch: [63/100], cls_loss: 0.7612, transfer_loss: 0.1632, total_Loss: 0.7939, acc: 0.7270\n",
      "lambda= 0.2 Epoch: [64/100], cls_loss: 0.7461, transfer_loss: 0.1625, total_Loss: 0.7786, acc: 0.7220\n",
      "lambda= 0.2 Epoch: [65/100], cls_loss: 0.7818, transfer_loss: 0.1634, total_Loss: 0.8145, acc: 0.7283\n",
      "lambda= 0.2 Epoch: [66/100], cls_loss: 0.7575, transfer_loss: 0.1631, total_Loss: 0.7901, acc: 0.7547\n",
      "lambda= 0.2 Epoch: [67/100], cls_loss: 0.7106, transfer_loss: 0.1626, total_Loss: 0.7431, acc: 0.7447\n",
      "lambda= 0.2 Epoch: [68/100], cls_loss: 0.7285, transfer_loss: 0.1623, total_Loss: 0.7610, acc: 0.7535\n",
      "lambda= 0.2 Epoch: [69/100], cls_loss: 0.6916, transfer_loss: 0.1627, total_Loss: 0.7241, acc: 0.7459\n",
      "lambda= 0.2 Epoch: [70/100], cls_loss: 0.7174, transfer_loss: 0.1626, total_Loss: 0.7500, acc: 0.7409\n",
      "lambda= 0.2 Epoch: [71/100], cls_loss: 0.6821, transfer_loss: 0.1635, total_Loss: 0.7148, acc: 0.7535\n",
      "lambda= 0.2 Epoch: [72/100], cls_loss: 0.7016, transfer_loss: 0.1645, total_Loss: 0.7345, acc: 0.7245\n",
      "lambda= 0.2 Epoch: [73/100], cls_loss: 0.6722, transfer_loss: 0.1630, total_Loss: 0.7048, acc: 0.7296\n",
      "lambda= 0.2 Epoch: [74/100], cls_loss: 0.6747, transfer_loss: 0.1618, total_Loss: 0.7070, acc: 0.7421\n",
      "lambda= 0.2 Epoch: [75/100], cls_loss: 0.6837, transfer_loss: 0.1632, total_Loss: 0.7164, acc: 0.7346\n",
      "lambda= 0.2 Epoch: [76/100], cls_loss: 0.6552, transfer_loss: 0.1632, total_Loss: 0.6879, acc: 0.7409\n",
      "lambda= 0.2 Epoch: [77/100], cls_loss: 0.6871, transfer_loss: 0.1623, total_Loss: 0.7195, acc: 0.7472\n",
      "lambda= 0.2 Epoch: [78/100], cls_loss: 0.6650, transfer_loss: 0.1637, total_Loss: 0.6977, acc: 0.7396\n",
      "lambda= 0.2 Epoch: [79/100], cls_loss: 0.6753, transfer_loss: 0.1635, total_Loss: 0.7080, acc: 0.7333\n",
      "lambda= 0.2 Epoch: [80/100], cls_loss: 0.6924, transfer_loss: 0.1625, total_Loss: 0.7249, acc: 0.7459\n",
      "lambda= 0.2 Epoch: [81/100], cls_loss: 0.6226, transfer_loss: 0.1613, total_Loss: 0.6549, acc: 0.7358\n",
      "lambda= 0.2 Epoch: [82/100], cls_loss: 0.6514, transfer_loss: 0.1604, total_Loss: 0.6834, acc: 0.7258\n",
      "lambda= 0.2 Epoch: [83/100], cls_loss: 0.6603, transfer_loss: 0.1618, total_Loss: 0.6927, acc: 0.7648\n",
      "lambda= 0.2 Epoch: [84/100], cls_loss: 0.6385, transfer_loss: 0.1623, total_Loss: 0.6710, acc: 0.7396\n",
      "lambda= 0.2 Epoch: [85/100], cls_loss: 0.6597, transfer_loss: 0.1625, total_Loss: 0.6922, acc: 0.7384\n",
      "lambda= 0.2 Epoch: [86/100], cls_loss: 0.6556, transfer_loss: 0.1609, total_Loss: 0.6878, acc: 0.7283\n",
      "lambda= 0.2 Epoch: [87/100], cls_loss: 0.5582, transfer_loss: 0.1615, total_Loss: 0.5905, acc: 0.7459\n",
      "lambda= 0.2 Epoch: [88/100], cls_loss: 0.5949, transfer_loss: 0.1621, total_Loss: 0.6273, acc: 0.7384\n",
      "lambda= 0.2 Epoch: [89/100], cls_loss: 0.6166, transfer_loss: 0.1618, total_Loss: 0.6489, acc: 0.7258\n",
      "lambda= 0.2 Epoch: [90/100], cls_loss: 0.6205, transfer_loss: 0.1606, total_Loss: 0.6526, acc: 0.7270\n",
      "lambda= 0.2 Epoch: [91/100], cls_loss: 0.6278, transfer_loss: 0.1617, total_Loss: 0.6602, acc: 0.7296\n",
      "lambda= 0.2 Epoch: [92/100], cls_loss: 0.5803, transfer_loss: 0.1618, total_Loss: 0.6126, acc: 0.7472\n",
      "lambda= 0.2 Epoch: [93/100], cls_loss: 0.5130, transfer_loss: 0.1597, total_Loss: 0.5450, acc: 0.7434\n",
      "lambda= 0.2 Epoch: [94/100], cls_loss: 0.5825, transfer_loss: 0.1595, total_Loss: 0.6144, acc: 0.7409\n",
      "lambda= 0.2 Epoch: [95/100], cls_loss: 0.5765, transfer_loss: 0.1608, total_Loss: 0.6087, acc: 0.7509\n",
      "lambda= 0.2 Epoch: [96/100], cls_loss: 0.5999, transfer_loss: 0.1595, total_Loss: 0.6318, acc: 0.7409\n",
      "lambda= 0.2 Epoch: [97/100], cls_loss: 0.5662, transfer_loss: 0.1613, total_Loss: 0.5984, acc: 0.7358\n",
      "lambda= 0.2 Epoch: [98/100], cls_loss: 0.5642, transfer_loss: 0.1606, total_Loss: 0.5963, acc: 0.7547\n",
      "lambda= 0.2 Epoch: [99/100], cls_loss: 0.5485, transfer_loss: 0.1596, total_Loss: 0.5804, acc: 0.7509\n"
     ]
    },
    {
     "name": "stderr",
     "output_type": "stream",
     "text": [
      "<ipython-input-22-f33a8f85b166>:68: FutureWarning: The frame.append method is deprecated and will be removed from pandas in a future version. Use pandas.concat instead.\n",
      "  train_result = train_result.append(pd.DataFrame(records), ignore_index=True)\n",
      "<ipython-input-21-47478dc6ccbe>:18: FutureWarning: The frame.append method is deprecated and will be removed from pandas in a future version. Use pandas.concat instead.\n",
      "  test_result = test_result.append(pd.DataFrame(records), ignore_index=True)\n",
      "/usr/local/lib/python3.10/dist-packages/torchvision/models/_utils.py:208: UserWarning: The parameter 'pretrained' is deprecated since 0.13 and may be removed in the future, please use 'weights' instead.\n",
      "  warnings.warn(\n",
      "/usr/local/lib/python3.10/dist-packages/torchvision/models/_utils.py:223: UserWarning: Arguments other than a weight enum or `None` for 'weights' are deprecated since 0.13 and may be removed in the future. The current behavior is equivalent to passing `weights=ResNet50_Weights.IMAGENET1K_V1`. You can also use `weights=ResNet50_Weights.DEFAULT` to get the most up-to-date weights.\n",
      "  warnings.warn(msg)\n"
     ]
    },
    {
     "name": "stdout",
     "output_type": "stream",
     "text": [
      "lambda= 0.2 Test accuracy: 0.7647798742138364\n",
      "lambda= 0.3 Epoch: [ 0/100], cls_loss: 3.4286, transfer_loss: 0.1618, total_Loss: 3.4771, acc: 0.0679\n",
      "lambda= 0.3 Epoch: [ 1/100], cls_loss: 3.3928, transfer_loss: 0.1627, total_Loss: 3.4416, acc: 0.0881\n",
      "lambda= 0.3 Epoch: [ 2/100], cls_loss: 3.3592, transfer_loss: 0.1621, total_Loss: 3.4078, acc: 0.1094\n",
      "lambda= 0.3 Epoch: [ 3/100], cls_loss: 3.3235, transfer_loss: 0.1629, total_Loss: 3.3724, acc: 0.1723\n",
      "lambda= 0.3 Epoch: [ 4/100], cls_loss: 3.2814, transfer_loss: 0.1633, total_Loss: 3.3304, acc: 0.2717\n",
      "lambda= 0.3 Epoch: [ 5/100], cls_loss: 3.2460, transfer_loss: 0.1635, total_Loss: 3.2951, acc: 0.3245\n",
      "lambda= 0.3 Epoch: [ 6/100], cls_loss: 3.1749, transfer_loss: 0.1613, total_Loss: 3.2233, acc: 0.3497\n",
      "lambda= 0.3 Epoch: [ 7/100], cls_loss: 3.1142, transfer_loss: 0.1626, total_Loss: 3.1630, acc: 0.3786\n",
      "lambda= 0.3 Epoch: [ 8/100], cls_loss: 3.0612, transfer_loss: 0.1638, total_Loss: 3.1103, acc: 0.4164\n",
      "lambda= 0.3 Epoch: [ 9/100], cls_loss: 2.9611, transfer_loss: 0.1631, total_Loss: 3.0100, acc: 0.4881\n",
      "lambda= 0.3 Epoch: [10/100], cls_loss: 2.8978, transfer_loss: 0.1643, total_Loss: 2.9471, acc: 0.5421\n",
      "lambda= 0.3 Epoch: [11/100], cls_loss: 2.7688, transfer_loss: 0.1633, total_Loss: 2.8178, acc: 0.5572\n",
      "lambda= 0.3 Epoch: [12/100], cls_loss: 2.7084, transfer_loss: 0.1624, total_Loss: 2.7572, acc: 0.5912\n",
      "lambda= 0.3 Epoch: [13/100], cls_loss: 2.5169, transfer_loss: 0.1615, total_Loss: 2.5653, acc: 0.5623\n",
      "lambda= 0.3 Epoch: [14/100], cls_loss: 2.4263, transfer_loss: 0.1638, total_Loss: 2.4754, acc: 0.5560\n",
      "lambda= 0.3 Epoch: [15/100], cls_loss: 2.2903, transfer_loss: 0.1636, total_Loss: 2.3393, acc: 0.6314\n",
      "lambda= 0.3 Epoch: [16/100], cls_loss: 2.1811, transfer_loss: 0.1647, total_Loss: 2.2305, acc: 0.5862\n",
      "lambda= 0.3 Epoch: [17/100], cls_loss: 2.0635, transfer_loss: 0.1617, total_Loss: 2.1120, acc: 0.6516\n",
      "lambda= 0.3 Epoch: [18/100], cls_loss: 1.9591, transfer_loss: 0.1644, total_Loss: 2.0084, acc: 0.6377\n",
      "lambda= 0.3 Epoch: [19/100], cls_loss: 1.8759, transfer_loss: 0.1614, total_Loss: 1.9243, acc: 0.6352\n",
      "lambda= 0.3 Epoch: [20/100], cls_loss: 1.7601, transfer_loss: 0.1621, total_Loss: 1.8087, acc: 0.6730\n",
      "lambda= 0.3 Epoch: [21/100], cls_loss: 1.6728, transfer_loss: 0.1630, total_Loss: 1.7217, acc: 0.6704\n",
      "lambda= 0.3 Epoch: [22/100], cls_loss: 1.6120, transfer_loss: 0.1629, total_Loss: 1.6608, acc: 0.6755\n",
      "lambda= 0.3 Epoch: [23/100], cls_loss: 1.5461, transfer_loss: 0.1641, total_Loss: 1.5953, acc: 0.6730\n",
      "lambda= 0.3 Epoch: [24/100], cls_loss: 1.4661, transfer_loss: 0.1620, total_Loss: 1.5147, acc: 0.6478\n",
      "lambda= 0.3 Epoch: [25/100], cls_loss: 1.4205, transfer_loss: 0.1619, total_Loss: 1.4691, acc: 0.6780\n",
      "lambda= 0.3 Epoch: [26/100], cls_loss: 1.4298, transfer_loss: 0.1634, total_Loss: 1.4788, acc: 0.7145\n",
      "lambda= 0.3 Epoch: [27/100], cls_loss: 1.4088, transfer_loss: 0.1641, total_Loss: 1.4580, acc: 0.6981\n",
      "lambda= 0.3 Epoch: [28/100], cls_loss: 1.2554, transfer_loss: 0.1625, total_Loss: 1.3042, acc: 0.6893\n",
      "lambda= 0.3 Epoch: [29/100], cls_loss: 1.2621, transfer_loss: 0.1637, total_Loss: 1.3112, acc: 0.6918\n",
      "lambda= 0.3 Epoch: [30/100], cls_loss: 1.2527, transfer_loss: 0.1600, total_Loss: 1.3007, acc: 0.6830\n",
      "lambda= 0.3 Epoch: [31/100], cls_loss: 1.1354, transfer_loss: 0.1630, total_Loss: 1.1843, acc: 0.6893\n",
      "lambda= 0.3 Epoch: [32/100], cls_loss: 1.2115, transfer_loss: 0.1635, total_Loss: 1.2606, acc: 0.7145\n",
      "lambda= 0.3 Epoch: [33/100], cls_loss: 1.1159, transfer_loss: 0.1631, total_Loss: 1.1648, acc: 0.6830\n",
      "lambda= 0.3 Epoch: [34/100], cls_loss: 1.1700, transfer_loss: 0.1635, total_Loss: 1.2191, acc: 0.7069\n",
      "lambda= 0.3 Epoch: [35/100], cls_loss: 1.0792, transfer_loss: 0.1631, total_Loss: 1.1281, acc: 0.7031\n",
      "lambda= 0.3 Epoch: [36/100], cls_loss: 1.0793, transfer_loss: 0.1631, total_Loss: 1.1282, acc: 0.7107\n",
      "lambda= 0.3 Epoch: [37/100], cls_loss: 1.1026, transfer_loss: 0.1621, total_Loss: 1.1513, acc: 0.7182\n",
      "lambda= 0.3 Epoch: [38/100], cls_loss: 1.0927, transfer_loss: 0.1631, total_Loss: 1.1416, acc: 0.6893\n",
      "lambda= 0.3 Epoch: [39/100], cls_loss: 1.0063, transfer_loss: 0.1635, total_Loss: 1.0553, acc: 0.7195\n",
      "lambda= 0.3 Epoch: [40/100], cls_loss: 0.9658, transfer_loss: 0.1620, total_Loss: 1.0145, acc: 0.7195\n",
      "lambda= 0.3 Epoch: [41/100], cls_loss: 0.9531, transfer_loss: 0.1630, total_Loss: 1.0020, acc: 0.6956\n",
      "lambda= 0.3 Epoch: [42/100], cls_loss: 0.9855, transfer_loss: 0.1632, total_Loss: 1.0345, acc: 0.7107\n",
      "lambda= 0.3 Epoch: [43/100], cls_loss: 1.0411, transfer_loss: 0.1630, total_Loss: 1.0900, acc: 0.7107\n",
      "lambda= 0.3 Epoch: [44/100], cls_loss: 0.8760, transfer_loss: 0.1635, total_Loss: 0.9251, acc: 0.6956\n",
      "lambda= 0.3 Epoch: [45/100], cls_loss: 0.9486, transfer_loss: 0.1655, total_Loss: 0.9983, acc: 0.7145\n",
      "lambda= 0.3 Epoch: [46/100], cls_loss: 0.8782, transfer_loss: 0.1624, total_Loss: 0.9270, acc: 0.7409\n",
      "lambda= 0.3 Epoch: [47/100], cls_loss: 0.8321, transfer_loss: 0.1633, total_Loss: 0.8811, acc: 0.7031\n",
      "lambda= 0.3 Epoch: [48/100], cls_loss: 0.8667, transfer_loss: 0.1629, total_Loss: 0.9156, acc: 0.7132\n",
      "lambda= 0.3 Epoch: [49/100], cls_loss: 0.8908, transfer_loss: 0.1621, total_Loss: 0.9394, acc: 0.7283\n",
      "lambda= 0.3 Epoch: [50/100], cls_loss: 0.9033, transfer_loss: 0.1616, total_Loss: 0.9518, acc: 0.7119\n",
      "lambda= 0.3 Epoch: [51/100], cls_loss: 0.8441, transfer_loss: 0.1631, total_Loss: 0.8931, acc: 0.7094\n",
      "lambda= 0.3 Epoch: [52/100], cls_loss: 0.8640, transfer_loss: 0.1629, total_Loss: 0.9129, acc: 0.7270\n",
      "lambda= 0.3 Epoch: [53/100], cls_loss: 0.8065, transfer_loss: 0.1641, total_Loss: 0.8558, acc: 0.7270\n",
      "lambda= 0.3 Epoch: [54/100], cls_loss: 0.8324, transfer_loss: 0.1633, total_Loss: 0.8814, acc: 0.7283\n",
      "lambda= 0.3 Epoch: [55/100], cls_loss: 0.7913, transfer_loss: 0.1614, total_Loss: 0.8397, acc: 0.7031\n",
      "lambda= 0.3 Epoch: [56/100], cls_loss: 0.8156, transfer_loss: 0.1631, total_Loss: 0.8645, acc: 0.7170\n",
      "lambda= 0.3 Epoch: [57/100], cls_loss: 0.7530, transfer_loss: 0.1630, total_Loss: 0.8019, acc: 0.7107\n",
      "lambda= 0.3 Epoch: [58/100], cls_loss: 0.8211, transfer_loss: 0.1632, total_Loss: 0.8700, acc: 0.7170\n",
      "lambda= 0.3 Epoch: [59/100], cls_loss: 0.7798, transfer_loss: 0.1627, total_Loss: 0.8286, acc: 0.7119\n",
      "lambda= 0.3 Epoch: [60/100], cls_loss: 0.8029, transfer_loss: 0.1641, total_Loss: 0.8521, acc: 0.7182\n",
      "lambda= 0.3 Epoch: [61/100], cls_loss: 0.7597, transfer_loss: 0.1620, total_Loss: 0.8083, acc: 0.7258\n",
      "lambda= 0.3 Epoch: [62/100], cls_loss: 0.7266, transfer_loss: 0.1619, total_Loss: 0.7751, acc: 0.7346\n",
      "lambda= 0.3 Epoch: [63/100], cls_loss: 0.7852, transfer_loss: 0.1628, total_Loss: 0.8340, acc: 0.7421\n",
      "lambda= 0.3 Epoch: [64/100], cls_loss: 0.7243, transfer_loss: 0.1617, total_Loss: 0.7728, acc: 0.7459\n",
      "lambda= 0.3 Epoch: [65/100], cls_loss: 0.7382, transfer_loss: 0.1623, total_Loss: 0.7868, acc: 0.7044\n",
      "lambda= 0.3 Epoch: [66/100], cls_loss: 0.6627, transfer_loss: 0.1617, total_Loss: 0.7112, acc: 0.7195\n",
      "lambda= 0.3 Epoch: [67/100], cls_loss: 0.7006, transfer_loss: 0.1624, total_Loss: 0.7493, acc: 0.7094\n",
      "lambda= 0.3 Epoch: [68/100], cls_loss: 0.7232, transfer_loss: 0.1604, total_Loss: 0.7713, acc: 0.7233\n",
      "lambda= 0.3 Epoch: [69/100], cls_loss: 0.7432, transfer_loss: 0.1608, total_Loss: 0.7914, acc: 0.7245\n",
      "lambda= 0.3 Epoch: [70/100], cls_loss: 0.6280, transfer_loss: 0.1610, total_Loss: 0.6763, acc: 0.7107\n",
      "lambda= 0.3 Epoch: [71/100], cls_loss: 0.7201, transfer_loss: 0.1613, total_Loss: 0.7685, acc: 0.7220\n",
      "lambda= 0.3 Epoch: [72/100], cls_loss: 0.7305, transfer_loss: 0.1603, total_Loss: 0.7786, acc: 0.7333\n",
      "lambda= 0.3 Epoch: [73/100], cls_loss: 0.7006, transfer_loss: 0.1600, total_Loss: 0.7486, acc: 0.7434\n",
      "lambda= 0.3 Epoch: [74/100], cls_loss: 0.6494, transfer_loss: 0.1610, total_Loss: 0.6977, acc: 0.7170\n",
      "lambda= 0.3 Epoch: [75/100], cls_loss: 0.6684, transfer_loss: 0.1592, total_Loss: 0.7162, acc: 0.7220\n",
      "lambda= 0.3 Epoch: [76/100], cls_loss: 0.6217, transfer_loss: 0.1586, total_Loss: 0.6693, acc: 0.7258\n",
      "lambda= 0.3 Epoch: [77/100], cls_loss: 0.6738, transfer_loss: 0.1592, total_Loss: 0.7215, acc: 0.7283\n",
      "lambda= 0.3 Epoch: [78/100], cls_loss: 0.7044, transfer_loss: 0.1591, total_Loss: 0.7521, acc: 0.7509\n",
      "lambda= 0.3 Epoch: [79/100], cls_loss: 0.7039, transfer_loss: 0.1597, total_Loss: 0.7518, acc: 0.7132\n",
      "lambda= 0.3 Epoch: [80/100], cls_loss: 0.6478, transfer_loss: 0.1588, total_Loss: 0.6955, acc: 0.7220\n",
      "lambda= 0.3 Epoch: [81/100], cls_loss: 0.6248, transfer_loss: 0.1588, total_Loss: 0.6724, acc: 0.7195\n",
      "lambda= 0.3 Epoch: [82/100], cls_loss: 0.6090, transfer_loss: 0.1588, total_Loss: 0.6567, acc: 0.7107\n",
      "lambda= 0.3 Epoch: [83/100], cls_loss: 0.6368, transfer_loss: 0.1572, total_Loss: 0.6840, acc: 0.7107\n",
      "lambda= 0.3 Epoch: [84/100], cls_loss: 0.6304, transfer_loss: 0.1579, total_Loss: 0.6777, acc: 0.7270\n",
      "lambda= 0.3 Epoch: [85/100], cls_loss: 0.6314, transfer_loss: 0.1554, total_Loss: 0.6780, acc: 0.7308\n",
      "lambda= 0.3 Epoch: [86/100], cls_loss: 0.6261, transfer_loss: 0.1563, total_Loss: 0.6730, acc: 0.7220\n",
      "lambda= 0.3 Epoch: [87/100], cls_loss: 0.6765, transfer_loss: 0.1558, total_Loss: 0.7232, acc: 0.7220\n",
      "lambda= 0.3 Epoch: [88/100], cls_loss: 0.5599, transfer_loss: 0.1549, total_Loss: 0.6063, acc: 0.7346\n",
      "lambda= 0.3 Epoch: [89/100], cls_loss: 0.5789, transfer_loss: 0.1532, total_Loss: 0.6249, acc: 0.7333\n",
      "lambda= 0.3 Epoch: [90/100], cls_loss: 0.6635, transfer_loss: 0.1531, total_Loss: 0.7094, acc: 0.7333\n",
      "lambda= 0.3 Epoch: [91/100], cls_loss: 0.6318, transfer_loss: 0.1520, total_Loss: 0.6774, acc: 0.7384\n",
      "lambda= 0.3 Epoch: [92/100], cls_loss: 0.5721, transfer_loss: 0.1519, total_Loss: 0.6177, acc: 0.7371\n",
      "lambda= 0.3 Epoch: [93/100], cls_loss: 0.5876, transfer_loss: 0.1515, total_Loss: 0.6330, acc: 0.7233\n",
      "lambda= 0.3 Epoch: [94/100], cls_loss: 0.6043, transfer_loss: 0.1512, total_Loss: 0.6497, acc: 0.7308\n",
      "lambda= 0.3 Epoch: [95/100], cls_loss: 0.5369, transfer_loss: 0.1522, total_Loss: 0.5825, acc: 0.7358\n",
      "lambda= 0.3 Epoch: [96/100], cls_loss: 0.5877, transfer_loss: 0.1500, total_Loss: 0.6327, acc: 0.7296\n",
      "lambda= 0.3 Epoch: [97/100], cls_loss: 0.5341, transfer_loss: 0.1471, total_Loss: 0.5783, acc: 0.7333\n",
      "lambda= 0.3 Epoch: [98/100], cls_loss: 0.6113, transfer_loss: 0.1465, total_Loss: 0.6552, acc: 0.7220\n"
     ]
    },
    {
     "name": "stderr",
     "output_type": "stream",
     "text": [
      "<ipython-input-22-f33a8f85b166>:68: FutureWarning: The frame.append method is deprecated and will be removed from pandas in a future version. Use pandas.concat instead.\n",
      "  train_result = train_result.append(pd.DataFrame(records), ignore_index=True)\n",
      "<ipython-input-21-47478dc6ccbe>:18: FutureWarning: The frame.append method is deprecated and will be removed from pandas in a future version. Use pandas.concat instead.\n",
      "  test_result = test_result.append(pd.DataFrame(records), ignore_index=True)\n",
      "/usr/local/lib/python3.10/dist-packages/torchvision/models/_utils.py:208: UserWarning: The parameter 'pretrained' is deprecated since 0.13 and may be removed in the future, please use 'weights' instead.\n",
      "  warnings.warn(\n",
      "/usr/local/lib/python3.10/dist-packages/torchvision/models/_utils.py:223: UserWarning: Arguments other than a weight enum or `None` for 'weights' are deprecated since 0.13 and may be removed in the future. The current behavior is equivalent to passing `weights=ResNet50_Weights.IMAGENET1K_V1`. You can also use `weights=ResNet50_Weights.DEFAULT` to get the most up-to-date weights.\n",
      "  warnings.warn(msg)\n"
     ]
    },
    {
     "name": "stdout",
     "output_type": "stream",
     "text": [
      "lambda= 0.30000000000000004 Test accuracy: 0.750943396226415\n",
      "lambda= 0.4 Epoch: [ 0/100], cls_loss: 3.4274, transfer_loss: 0.1635, total_Loss: 3.4928, acc: 0.0755\n",
      "lambda= 0.4 Epoch: [ 1/100], cls_loss: 3.3949, transfer_loss: 0.1641, total_Loss: 3.4605, acc: 0.1346\n",
      "lambda= 0.4 Epoch: [ 2/100], cls_loss: 3.3578, transfer_loss: 0.1635, total_Loss: 3.4232, acc: 0.1874\n",
      "lambda= 0.4 Epoch: [ 3/100], cls_loss: 3.3342, transfer_loss: 0.1612, total_Loss: 3.3987, acc: 0.2289\n",
      "lambda= 0.4 Epoch: [ 4/100], cls_loss: 3.2863, transfer_loss: 0.1637, total_Loss: 3.3518, acc: 0.2717\n",
      "lambda= 0.4 Epoch: [ 5/100], cls_loss: 3.2314, transfer_loss: 0.1638, total_Loss: 3.2969, acc: 0.3774\n",
      "lambda= 0.4 Epoch: [ 6/100], cls_loss: 3.1831, transfer_loss: 0.1621, total_Loss: 3.2480, acc: 0.4226\n",
      "lambda= 0.4 Epoch: [ 7/100], cls_loss: 3.1173, transfer_loss: 0.1628, total_Loss: 3.1824, acc: 0.4755\n",
      "lambda= 0.4 Epoch: [ 8/100], cls_loss: 3.0494, transfer_loss: 0.1632, total_Loss: 3.1147, acc: 0.4579\n",
      "lambda= 0.4 Epoch: [ 9/100], cls_loss: 2.9549, transfer_loss: 0.1632, total_Loss: 3.0202, acc: 0.5648\n",
      "lambda= 0.4 Epoch: [10/100], cls_loss: 2.8819, transfer_loss: 0.1620, total_Loss: 2.9467, acc: 0.5094\n",
      "lambda= 0.4 Epoch: [11/100], cls_loss: 2.7577, transfer_loss: 0.1637, total_Loss: 2.8232, acc: 0.4906\n",
      "lambda= 0.4 Epoch: [12/100], cls_loss: 2.6449, transfer_loss: 0.1626, total_Loss: 2.7099, acc: 0.5434\n",
      "lambda= 0.4 Epoch: [13/100], cls_loss: 2.5427, transfer_loss: 0.1628, total_Loss: 2.6079, acc: 0.6239\n",
      "lambda= 0.4 Epoch: [14/100], cls_loss: 2.4108, transfer_loss: 0.1628, total_Loss: 2.4759, acc: 0.5786\n",
      "lambda= 0.4 Epoch: [15/100], cls_loss: 2.2529, transfer_loss: 0.1631, total_Loss: 2.3182, acc: 0.5572\n",
      "lambda= 0.4 Epoch: [16/100], cls_loss: 2.1311, transfer_loss: 0.1635, total_Loss: 2.1965, acc: 0.5786\n",
      "lambda= 0.4 Epoch: [17/100], cls_loss: 2.0833, transfer_loss: 0.1623, total_Loss: 2.1482, acc: 0.6327\n",
      "lambda= 0.4 Epoch: [18/100], cls_loss: 1.8789, transfer_loss: 0.1626, total_Loss: 1.9439, acc: 0.6428\n",
      "lambda= 0.4 Epoch: [19/100], cls_loss: 1.8395, transfer_loss: 0.1635, total_Loss: 1.9049, acc: 0.6440\n",
      "lambda= 0.4 Epoch: [20/100], cls_loss: 1.7018, transfer_loss: 0.1636, total_Loss: 1.7673, acc: 0.6881\n",
      "lambda= 0.4 Epoch: [21/100], cls_loss: 1.6831, transfer_loss: 0.1634, total_Loss: 1.7485, acc: 0.6591\n",
      "lambda= 0.4 Epoch: [22/100], cls_loss: 1.5781, transfer_loss: 0.1631, total_Loss: 1.6433, acc: 0.6717\n",
      "lambda= 0.4 Epoch: [23/100], cls_loss: 1.5513, transfer_loss: 0.1599, total_Loss: 1.6153, acc: 0.7094\n",
      "lambda= 0.4 Epoch: [24/100], cls_loss: 1.4290, transfer_loss: 0.1618, total_Loss: 1.4937, acc: 0.6679\n",
      "lambda= 0.4 Epoch: [25/100], cls_loss: 1.4698, transfer_loss: 0.1646, total_Loss: 1.5356, acc: 0.6566\n",
      "lambda= 0.4 Epoch: [26/100], cls_loss: 1.3667, transfer_loss: 0.1626, total_Loss: 1.4317, acc: 0.6792\n",
      "lambda= 0.4 Epoch: [27/100], cls_loss: 1.3108, transfer_loss: 0.1646, total_Loss: 1.3766, acc: 0.6868\n",
      "lambda= 0.4 Epoch: [28/100], cls_loss: 1.3205, transfer_loss: 0.1617, total_Loss: 1.3852, acc: 0.6830\n",
      "lambda= 0.4 Epoch: [29/100], cls_loss: 1.2647, transfer_loss: 0.1626, total_Loss: 1.3298, acc: 0.7006\n",
      "lambda= 0.4 Epoch: [30/100], cls_loss: 1.1925, transfer_loss: 0.1637, total_Loss: 1.2580, acc: 0.6918\n",
      "lambda= 0.4 Epoch: [31/100], cls_loss: 1.2169, transfer_loss: 0.1633, total_Loss: 1.2822, acc: 0.6843\n",
      "lambda= 0.4 Epoch: [32/100], cls_loss: 1.1634, transfer_loss: 0.1635, total_Loss: 1.2288, acc: 0.7170\n",
      "lambda= 0.4 Epoch: [33/100], cls_loss: 1.1705, transfer_loss: 0.1621, total_Loss: 1.2354, acc: 0.6981\n",
      "lambda= 0.4 Epoch: [34/100], cls_loss: 1.1298, transfer_loss: 0.1624, total_Loss: 1.1947, acc: 0.7208\n",
      "lambda= 0.4 Epoch: [35/100], cls_loss: 1.1043, transfer_loss: 0.1618, total_Loss: 1.1690, acc: 0.6881\n",
      "lambda= 0.4 Epoch: [36/100], cls_loss: 1.0028, transfer_loss: 0.1616, total_Loss: 1.0674, acc: 0.7308\n",
      "lambda= 0.4 Epoch: [37/100], cls_loss: 1.0257, transfer_loss: 0.1621, total_Loss: 1.0906, acc: 0.7132\n",
      "lambda= 0.4 Epoch: [38/100], cls_loss: 0.9850, transfer_loss: 0.1630, total_Loss: 1.0502, acc: 0.7094\n",
      "lambda= 0.4 Epoch: [39/100], cls_loss: 1.0587, transfer_loss: 0.1625, total_Loss: 1.1237, acc: 0.7233\n",
      "lambda= 0.4 Epoch: [40/100], cls_loss: 1.0606, transfer_loss: 0.1635, total_Loss: 1.1260, acc: 0.7258\n",
      "lambda= 0.4 Epoch: [41/100], cls_loss: 0.9550, transfer_loss: 0.1625, total_Loss: 1.0199, acc: 0.7308\n",
      "lambda= 0.4 Epoch: [42/100], cls_loss: 0.9884, transfer_loss: 0.1623, total_Loss: 1.0533, acc: 0.7308\n",
      "lambda= 0.4 Epoch: [43/100], cls_loss: 0.9436, transfer_loss: 0.1630, total_Loss: 1.0088, acc: 0.7145\n",
      "lambda= 0.4 Epoch: [44/100], cls_loss: 0.9659, transfer_loss: 0.1633, total_Loss: 1.0312, acc: 0.7245\n",
      "lambda= 0.4 Epoch: [45/100], cls_loss: 0.8700, transfer_loss: 0.1610, total_Loss: 0.9344, acc: 0.7409\n",
      "lambda= 0.4 Epoch: [46/100], cls_loss: 0.9779, transfer_loss: 0.1626, total_Loss: 1.0430, acc: 0.7270\n",
      "lambda= 0.4 Epoch: [47/100], cls_loss: 0.9353, transfer_loss: 0.1600, total_Loss: 0.9993, acc: 0.7195\n",
      "lambda= 0.4 Epoch: [48/100], cls_loss: 0.9260, transfer_loss: 0.1608, total_Loss: 0.9903, acc: 0.7296\n",
      "lambda= 0.4 Epoch: [49/100], cls_loss: 0.9204, transfer_loss: 0.1605, total_Loss: 0.9845, acc: 0.7195\n",
      "lambda= 0.4 Epoch: [50/100], cls_loss: 0.9197, transfer_loss: 0.1603, total_Loss: 0.9839, acc: 0.7459\n",
      "lambda= 0.4 Epoch: [51/100], cls_loss: 0.8148, transfer_loss: 0.1594, total_Loss: 0.8786, acc: 0.7270\n",
      "lambda= 0.4 Epoch: [52/100], cls_loss: 0.8288, transfer_loss: 0.1600, total_Loss: 0.8928, acc: 0.7195\n",
      "lambda= 0.4 Epoch: [53/100], cls_loss: 0.8340, transfer_loss: 0.1601, total_Loss: 0.8981, acc: 0.7434\n",
      "lambda= 0.4 Epoch: [54/100], cls_loss: 0.8182, transfer_loss: 0.1594, total_Loss: 0.8820, acc: 0.7484\n",
      "lambda= 0.4 Epoch: [55/100], cls_loss: 0.8021, transfer_loss: 0.1574, total_Loss: 0.8651, acc: 0.7107\n",
      "lambda= 0.4 Epoch: [56/100], cls_loss: 0.8477, transfer_loss: 0.1594, total_Loss: 0.9114, acc: 0.7283\n",
      "lambda= 0.4 Epoch: [57/100], cls_loss: 0.8175, transfer_loss: 0.1586, total_Loss: 0.8809, acc: 0.7346\n",
      "lambda= 0.4 Epoch: [58/100], cls_loss: 0.7910, transfer_loss: 0.1569, total_Loss: 0.8537, acc: 0.7371\n",
      "lambda= 0.4 Epoch: [59/100], cls_loss: 0.8018, transfer_loss: 0.1577, total_Loss: 0.8649, acc: 0.7220\n",
      "lambda= 0.4 Epoch: [60/100], cls_loss: 0.8395, transfer_loss: 0.1565, total_Loss: 0.9021, acc: 0.7296\n",
      "lambda= 0.4 Epoch: [61/100], cls_loss: 0.7628, transfer_loss: 0.1536, total_Loss: 0.8242, acc: 0.7384\n",
      "lambda= 0.4 Epoch: [62/100], cls_loss: 0.7974, transfer_loss: 0.1539, total_Loss: 0.8590, acc: 0.7245\n",
      "lambda= 0.4 Epoch: [63/100], cls_loss: 0.7134, transfer_loss: 0.1546, total_Loss: 0.7753, acc: 0.7258\n",
      "lambda= 0.4 Epoch: [64/100], cls_loss: 0.7833, transfer_loss: 0.1543, total_Loss: 0.8451, acc: 0.7434\n",
      "lambda= 0.4 Epoch: [65/100], cls_loss: 0.7697, transfer_loss: 0.1531, total_Loss: 0.8309, acc: 0.7497\n",
      "lambda= 0.4 Epoch: [66/100], cls_loss: 0.6948, transfer_loss: 0.1519, total_Loss: 0.7555, acc: 0.7283\n",
      "lambda= 0.4 Epoch: [67/100], cls_loss: 0.6751, transfer_loss: 0.1511, total_Loss: 0.7355, acc: 0.7358\n",
      "lambda= 0.4 Epoch: [68/100], cls_loss: 0.7529, transfer_loss: 0.1511, total_Loss: 0.8133, acc: 0.7459\n",
      "lambda= 0.4 Epoch: [69/100], cls_loss: 0.6956, transfer_loss: 0.1491, total_Loss: 0.7552, acc: 0.7245\n",
      "lambda= 0.4 Epoch: [70/100], cls_loss: 0.7589, transfer_loss: 0.1466, total_Loss: 0.8175, acc: 0.7245\n",
      "lambda= 0.4 Epoch: [71/100], cls_loss: 0.7328, transfer_loss: 0.1471, total_Loss: 0.7916, acc: 0.7459\n",
      "lambda= 0.4 Epoch: [72/100], cls_loss: 0.6956, transfer_loss: 0.1451, total_Loss: 0.7536, acc: 0.7208\n",
      "lambda= 0.4 Epoch: [73/100], cls_loss: 0.6909, transfer_loss: 0.1447, total_Loss: 0.7488, acc: 0.7132\n",
      "lambda= 0.4 Epoch: [74/100], cls_loss: 0.6834, transfer_loss: 0.1420, total_Loss: 0.7402, acc: 0.7447\n",
      "lambda= 0.4 Epoch: [75/100], cls_loss: 0.6468, transfer_loss: 0.1431, total_Loss: 0.7040, acc: 0.7371\n",
      "lambda= 0.4 Epoch: [76/100], cls_loss: 0.7176, transfer_loss: 0.1409, total_Loss: 0.7739, acc: 0.7434\n",
      "lambda= 0.4 Epoch: [77/100], cls_loss: 0.6706, transfer_loss: 0.1369, total_Loss: 0.7253, acc: 0.7220\n",
      "lambda= 0.4 Epoch: [78/100], cls_loss: 0.6329, transfer_loss: 0.1368, total_Loss: 0.6877, acc: 0.7484\n",
      "lambda= 0.4 Epoch: [79/100], cls_loss: 0.6319, transfer_loss: 0.1330, total_Loss: 0.6851, acc: 0.7371\n",
      "lambda= 0.4 Epoch: [80/100], cls_loss: 0.5992, transfer_loss: 0.1333, total_Loss: 0.6525, acc: 0.7270\n",
      "lambda= 0.4 Epoch: [81/100], cls_loss: 0.6280, transfer_loss: 0.1319, total_Loss: 0.6808, acc: 0.7195\n",
      "lambda= 0.4 Epoch: [82/100], cls_loss: 0.6639, transfer_loss: 0.1308, total_Loss: 0.7162, acc: 0.7182\n",
      "lambda= 0.4 Epoch: [83/100], cls_loss: 0.6463, transfer_loss: 0.1274, total_Loss: 0.6973, acc: 0.7182\n",
      "lambda= 0.4 Epoch: [84/100], cls_loss: 0.6056, transfer_loss: 0.1300, total_Loss: 0.6576, acc: 0.7270\n",
      "lambda= 0.4 Epoch: [85/100], cls_loss: 0.5801, transfer_loss: 0.1264, total_Loss: 0.6307, acc: 0.7296\n"
     ]
    },
    {
     "name": "stderr",
     "output_type": "stream",
     "text": [
      "<ipython-input-22-f33a8f85b166>:68: FutureWarning: The frame.append method is deprecated and will be removed from pandas in a future version. Use pandas.concat instead.\n",
      "  train_result = train_result.append(pd.DataFrame(records), ignore_index=True)\n",
      "<ipython-input-21-47478dc6ccbe>:18: FutureWarning: The frame.append method is deprecated and will be removed from pandas in a future version. Use pandas.concat instead.\n",
      "  test_result = test_result.append(pd.DataFrame(records), ignore_index=True)\n",
      "/usr/local/lib/python3.10/dist-packages/torchvision/models/_utils.py:208: UserWarning: The parameter 'pretrained' is deprecated since 0.13 and may be removed in the future, please use 'weights' instead.\n",
      "  warnings.warn(\n",
      "/usr/local/lib/python3.10/dist-packages/torchvision/models/_utils.py:223: UserWarning: Arguments other than a weight enum or `None` for 'weights' are deprecated since 0.13 and may be removed in the future. The current behavior is equivalent to passing `weights=ResNet50_Weights.IMAGENET1K_V1`. You can also use `weights=ResNet50_Weights.DEFAULT` to get the most up-to-date weights.\n",
      "  warnings.warn(msg)\n"
     ]
    },
    {
     "name": "stdout",
     "output_type": "stream",
     "text": [
      "lambda= 0.4 Test accuracy: 0.7496855345911949\n",
      "lambda= 0.5 Epoch: [ 0/100], cls_loss: 3.4237, transfer_loss: 0.1644, total_Loss: 3.5059, acc: 0.0553\n",
      "lambda= 0.5 Epoch: [ 1/100], cls_loss: 3.3938, transfer_loss: 0.1616, total_Loss: 3.4746, acc: 0.0717\n",
      "lambda= 0.5 Epoch: [ 2/100], cls_loss: 3.3543, transfer_loss: 0.1629, total_Loss: 3.4358, acc: 0.1535\n",
      "lambda= 0.5 Epoch: [ 3/100], cls_loss: 3.3259, transfer_loss: 0.1646, total_Loss: 3.4082, acc: 0.2025\n",
      "lambda= 0.5 Epoch: [ 4/100], cls_loss: 3.2826, transfer_loss: 0.1633, total_Loss: 3.3642, acc: 0.2893\n",
      "lambda= 0.5 Epoch: [ 5/100], cls_loss: 3.2320, transfer_loss: 0.1630, total_Loss: 3.3135, acc: 0.3660\n",
      "lambda= 0.5 Epoch: [ 6/100], cls_loss: 3.1891, transfer_loss: 0.1623, total_Loss: 3.2703, acc: 0.3711\n",
      "lambda= 0.5 Epoch: [ 7/100], cls_loss: 3.1025, transfer_loss: 0.1618, total_Loss: 3.1834, acc: 0.4239\n",
      "lambda= 0.5 Epoch: [ 8/100], cls_loss: 3.0452, transfer_loss: 0.1640, total_Loss: 3.1272, acc: 0.4453\n",
      "lambda= 0.5 Epoch: [ 9/100], cls_loss: 2.9604, transfer_loss: 0.1633, total_Loss: 3.0421, acc: 0.4805\n",
      "lambda= 0.5 Epoch: [10/100], cls_loss: 2.8690, transfer_loss: 0.1631, total_Loss: 2.9505, acc: 0.5459\n",
      "lambda= 0.5 Epoch: [11/100], cls_loss: 2.7591, transfer_loss: 0.1638, total_Loss: 2.8410, acc: 0.5597\n",
      "lambda= 0.5 Epoch: [12/100], cls_loss: 2.6448, transfer_loss: 0.1623, total_Loss: 2.7260, acc: 0.5824\n",
      "lambda= 0.5 Epoch: [13/100], cls_loss: 2.5351, transfer_loss: 0.1646, total_Loss: 2.6174, acc: 0.5912\n",
      "lambda= 0.5 Epoch: [14/100], cls_loss: 2.3976, transfer_loss: 0.1627, total_Loss: 2.4789, acc: 0.6340\n",
      "lambda= 0.5 Epoch: [15/100], cls_loss: 2.3249, transfer_loss: 0.1611, total_Loss: 2.4055, acc: 0.6226\n",
      "lambda= 0.5 Epoch: [16/100], cls_loss: 2.1774, transfer_loss: 0.1624, total_Loss: 2.2586, acc: 0.6101\n",
      "lambda= 0.5 Epoch: [17/100], cls_loss: 2.0503, transfer_loss: 0.1627, total_Loss: 2.1316, acc: 0.6239\n",
      "lambda= 0.5 Epoch: [18/100], cls_loss: 1.9197, transfer_loss: 0.1634, total_Loss: 2.0014, acc: 0.6465\n",
      "lambda= 0.5 Epoch: [19/100], cls_loss: 1.8718, transfer_loss: 0.1619, total_Loss: 1.9527, acc: 0.6403\n",
      "lambda= 0.5 Epoch: [20/100], cls_loss: 1.7441, transfer_loss: 0.1612, total_Loss: 1.8247, acc: 0.6805\n",
      "lambda= 0.5 Epoch: [21/100], cls_loss: 1.6658, transfer_loss: 0.1609, total_Loss: 1.7463, acc: 0.6780\n",
      "lambda= 0.5 Epoch: [22/100], cls_loss: 1.5303, transfer_loss: 0.1626, total_Loss: 1.6116, acc: 0.6818\n",
      "lambda= 0.5 Epoch: [23/100], cls_loss: 1.5103, transfer_loss: 0.1604, total_Loss: 1.5905, acc: 0.6780\n",
      "lambda= 0.5 Epoch: [24/100], cls_loss: 1.4801, transfer_loss: 0.1598, total_Loss: 1.5601, acc: 0.6642\n",
      "lambda= 0.5 Epoch: [25/100], cls_loss: 1.4105, transfer_loss: 0.1603, total_Loss: 1.4907, acc: 0.7031\n",
      "lambda= 0.5 Epoch: [26/100], cls_loss: 1.4360, transfer_loss: 0.1618, total_Loss: 1.5169, acc: 0.6943\n",
      "lambda= 0.5 Epoch: [27/100], cls_loss: 1.2984, transfer_loss: 0.1601, total_Loss: 1.3785, acc: 0.6742\n",
      "lambda= 0.5 Epoch: [28/100], cls_loss: 1.2857, transfer_loss: 0.1593, total_Loss: 1.3654, acc: 0.6830\n",
      "lambda= 0.5 Epoch: [29/100], cls_loss: 1.2757, transfer_loss: 0.1600, total_Loss: 1.3557, acc: 0.7182\n",
      "lambda= 0.5 Epoch: [30/100], cls_loss: 1.1899, transfer_loss: 0.1613, total_Loss: 1.2706, acc: 0.7082\n",
      "lambda= 0.5 Epoch: [31/100], cls_loss: 1.2420, transfer_loss: 0.1601, total_Loss: 1.3220, acc: 0.6881\n",
      "lambda= 0.5 Epoch: [32/100], cls_loss: 1.2393, transfer_loss: 0.1583, total_Loss: 1.3185, acc: 0.7094\n",
      "lambda= 0.5 Epoch: [33/100], cls_loss: 1.1012, transfer_loss: 0.1595, total_Loss: 1.1810, acc: 0.7044\n",
      "lambda= 0.5 Epoch: [34/100], cls_loss: 1.0791, transfer_loss: 0.1598, total_Loss: 1.1590, acc: 0.7107\n",
      "lambda= 0.5 Epoch: [35/100], cls_loss: 1.0700, transfer_loss: 0.1597, total_Loss: 1.1499, acc: 0.7019\n",
      "lambda= 0.5 Epoch: [36/100], cls_loss: 1.0510, transfer_loss: 0.1566, total_Loss: 1.1293, acc: 0.7082\n",
      "lambda= 0.5 Epoch: [37/100], cls_loss: 1.0613, transfer_loss: 0.1588, total_Loss: 1.1407, acc: 0.7157\n",
      "lambda= 0.5 Epoch: [38/100], cls_loss: 1.0727, transfer_loss: 0.1564, total_Loss: 1.1509, acc: 0.7006\n",
      "lambda= 0.5 Epoch: [39/100], cls_loss: 0.9958, transfer_loss: 0.1567, total_Loss: 1.0741, acc: 0.7371\n",
      "lambda= 0.5 Epoch: [40/100], cls_loss: 0.9952, transfer_loss: 0.1547, total_Loss: 1.0726, acc: 0.7333\n",
      "lambda= 0.5 Epoch: [41/100], cls_loss: 0.9450, transfer_loss: 0.1535, total_Loss: 1.0217, acc: 0.7006\n",
      "lambda= 0.5 Epoch: [42/100], cls_loss: 0.9327, transfer_loss: 0.1532, total_Loss: 1.0093, acc: 0.7145\n",
      "lambda= 0.5 Epoch: [43/100], cls_loss: 0.9662, transfer_loss: 0.1515, total_Loss: 1.0419, acc: 0.7107\n",
      "lambda= 0.5 Epoch: [44/100], cls_loss: 0.8821, transfer_loss: 0.1493, total_Loss: 0.9568, acc: 0.7082\n",
      "lambda= 0.5 Epoch: [45/100], cls_loss: 0.9131, transfer_loss: 0.1495, total_Loss: 0.9879, acc: 0.7308\n",
      "lambda= 0.5 Epoch: [46/100], cls_loss: 0.8788, transfer_loss: 0.1474, total_Loss: 0.9525, acc: 0.7170\n",
      "lambda= 0.5 Epoch: [47/100], cls_loss: 0.9759, transfer_loss: 0.1471, total_Loss: 1.0494, acc: 0.7233\n",
      "lambda= 0.5 Epoch: [48/100], cls_loss: 0.8857, transfer_loss: 0.1420, total_Loss: 0.9567, acc: 0.7333\n",
      "lambda= 0.5 Epoch: [49/100], cls_loss: 0.8665, transfer_loss: 0.1446, total_Loss: 0.9388, acc: 0.7069\n",
      "lambda= 0.5 Epoch: [50/100], cls_loss: 0.8686, transfer_loss: 0.1409, total_Loss: 0.9390, acc: 0.6969\n",
      "lambda= 0.5 Epoch: [51/100], cls_loss: 0.9153, transfer_loss: 0.1380, total_Loss: 0.9843, acc: 0.7107\n",
      "lambda= 0.5 Epoch: [52/100], cls_loss: 0.8611, transfer_loss: 0.1374, total_Loss: 0.9298, acc: 0.7208\n",
      "lambda= 0.5 Epoch: [53/100], cls_loss: 0.8395, transfer_loss: 0.1345, total_Loss: 0.9068, acc: 0.7296\n",
      "lambda= 0.5 Epoch: [54/100], cls_loss: 0.8019, transfer_loss: 0.1349, total_Loss: 0.8694, acc: 0.7044\n",
      "lambda= 0.5 Epoch: [55/100], cls_loss: 0.8189, transfer_loss: 0.1329, total_Loss: 0.8853, acc: 0.7145\n",
      "lambda= 0.5 Epoch: [56/100], cls_loss: 0.7854, transfer_loss: 0.1306, total_Loss: 0.8507, acc: 0.7031\n",
      "lambda= 0.5 Epoch: [57/100], cls_loss: 0.8712, transfer_loss: 0.1273, total_Loss: 0.9348, acc: 0.7145\n",
      "lambda= 0.5 Epoch: [58/100], cls_loss: 0.7157, transfer_loss: 0.1243, total_Loss: 0.7779, acc: 0.7233\n",
      "lambda= 0.5 Epoch: [59/100], cls_loss: 0.8202, transfer_loss: 0.1242, total_Loss: 0.8823, acc: 0.7459\n",
      "lambda= 0.5 Epoch: [60/100], cls_loss: 0.8433, transfer_loss: 0.1227, total_Loss: 0.9047, acc: 0.7308\n",
      "lambda= 0.5 Epoch: [61/100], cls_loss: 0.7546, transfer_loss: 0.1233, total_Loss: 0.8162, acc: 0.7321\n",
      "lambda= 0.5 Epoch: [62/100], cls_loss: 0.8165, transfer_loss: 0.1193, total_Loss: 0.8761, acc: 0.7119\n",
      "lambda= 0.5 Epoch: [63/100], cls_loss: 0.7799, transfer_loss: 0.1193, total_Loss: 0.8395, acc: 0.7170\n",
      "lambda= 0.5 Epoch: [64/100], cls_loss: 0.7239, transfer_loss: 0.1167, total_Loss: 0.7823, acc: 0.7283\n",
      "lambda= 0.5 Epoch: [65/100], cls_loss: 0.7296, transfer_loss: 0.1142, total_Loss: 0.7867, acc: 0.7421\n",
      "lambda= 0.5 Epoch: [66/100], cls_loss: 0.7800, transfer_loss: 0.1148, total_Loss: 0.8374, acc: 0.7358\n",
      "lambda= 0.5 Epoch: [67/100], cls_loss: 0.7147, transfer_loss: 0.1128, total_Loss: 0.7711, acc: 0.7321\n",
      "lambda= 0.5 Epoch: [68/100], cls_loss: 0.7371, transfer_loss: 0.1103, total_Loss: 0.7922, acc: 0.7094\n",
      "lambda= 0.5 Epoch: [69/100], cls_loss: 0.7578, transfer_loss: 0.1128, total_Loss: 0.8142, acc: 0.7208\n",
      "lambda= 0.5 Epoch: [70/100], cls_loss: 0.6940, transfer_loss: 0.1095, total_Loss: 0.7488, acc: 0.7346\n",
      "lambda= 0.5 Epoch: [71/100], cls_loss: 0.7247, transfer_loss: 0.1109, total_Loss: 0.7801, acc: 0.7220\n",
      "lambda= 0.5 Epoch: [72/100], cls_loss: 0.6166, transfer_loss: 0.1075, total_Loss: 0.6704, acc: 0.7220\n",
      "lambda= 0.5 Epoch: [73/100], cls_loss: 0.6528, transfer_loss: 0.1053, total_Loss: 0.7054, acc: 0.7170\n",
      "lambda= 0.5 Epoch: [74/100], cls_loss: 0.6990, transfer_loss: 0.1039, total_Loss: 0.7509, acc: 0.7019\n",
      "lambda= 0.5 Epoch: [75/100], cls_loss: 0.5728, transfer_loss: 0.1073, total_Loss: 0.6265, acc: 0.7258\n",
      "lambda= 0.5 Epoch: [76/100], cls_loss: 0.6920, transfer_loss: 0.1024, total_Loss: 0.7431, acc: 0.7409\n",
      "lambda= 0.5 Epoch: [77/100], cls_loss: 0.6936, transfer_loss: 0.1025, total_Loss: 0.7449, acc: 0.7258\n",
      "lambda= 0.5 Epoch: [78/100], cls_loss: 0.6945, transfer_loss: 0.1015, total_Loss: 0.7453, acc: 0.7170\n",
      "lambda= 0.5 Epoch: [79/100], cls_loss: 0.6656, transfer_loss: 0.1003, total_Loss: 0.7158, acc: 0.7245\n"
     ]
    },
    {
     "name": "stderr",
     "output_type": "stream",
     "text": [
      "<ipython-input-22-f33a8f85b166>:68: FutureWarning: The frame.append method is deprecated and will be removed from pandas in a future version. Use pandas.concat instead.\n",
      "  train_result = train_result.append(pd.DataFrame(records), ignore_index=True)\n",
      "<ipython-input-21-47478dc6ccbe>:18: FutureWarning: The frame.append method is deprecated and will be removed from pandas in a future version. Use pandas.concat instead.\n",
      "  test_result = test_result.append(pd.DataFrame(records), ignore_index=True)\n",
      "/usr/local/lib/python3.10/dist-packages/torchvision/models/_utils.py:208: UserWarning: The parameter 'pretrained' is deprecated since 0.13 and may be removed in the future, please use 'weights' instead.\n",
      "  warnings.warn(\n",
      "/usr/local/lib/python3.10/dist-packages/torchvision/models/_utils.py:223: UserWarning: Arguments other than a weight enum or `None` for 'weights' are deprecated since 0.13 and may be removed in the future. The current behavior is equivalent to passing `weights=ResNet50_Weights.IMAGENET1K_V1`. You can also use `weights=ResNet50_Weights.DEFAULT` to get the most up-to-date weights.\n",
      "  warnings.warn(msg)\n"
     ]
    },
    {
     "name": "stdout",
     "output_type": "stream",
     "text": [
      "lambda= 0.5 Test accuracy: 0.7459119496855345\n",
      "lambda= 0.6 Epoch: [ 0/100], cls_loss: 3.4286, transfer_loss: 0.1642, total_Loss: 3.5271, acc: 0.0541\n",
      "lambda= 0.6 Epoch: [ 1/100], cls_loss: 3.4009, transfer_loss: 0.1627, total_Loss: 3.4985, acc: 0.0767\n",
      "lambda= 0.6 Epoch: [ 2/100], cls_loss: 3.3657, transfer_loss: 0.1650, total_Loss: 3.4647, acc: 0.0277\n",
      "lambda= 0.6 Epoch: [ 3/100], cls_loss: 3.3393, transfer_loss: 0.1641, total_Loss: 3.4378, acc: 0.2000\n",
      "lambda= 0.6 Epoch: [ 4/100], cls_loss: 3.2865, transfer_loss: 0.1632, total_Loss: 3.3845, acc: 0.2101\n",
      "lambda= 0.6 Epoch: [ 5/100], cls_loss: 3.2394, transfer_loss: 0.1636, total_Loss: 3.3376, acc: 0.2038\n",
      "lambda= 0.6 Epoch: [ 6/100], cls_loss: 3.1827, transfer_loss: 0.1631, total_Loss: 3.2805, acc: 0.3899\n",
      "lambda= 0.6 Epoch: [ 7/100], cls_loss: 3.1461, transfer_loss: 0.1646, total_Loss: 3.2449, acc: 0.3711\n",
      "lambda= 0.6 Epoch: [ 8/100], cls_loss: 3.0601, transfer_loss: 0.1630, total_Loss: 3.1580, acc: 0.5296\n",
      "lambda= 0.6 Epoch: [ 9/100], cls_loss: 2.9834, transfer_loss: 0.1639, total_Loss: 3.0817, acc: 0.5321\n",
      "lambda= 0.6 Epoch: [10/100], cls_loss: 2.8935, transfer_loss: 0.1644, total_Loss: 2.9921, acc: 0.5333\n",
      "lambda= 0.6 Epoch: [11/100], cls_loss: 2.7617, transfer_loss: 0.1639, total_Loss: 2.8601, acc: 0.5535\n",
      "lambda= 0.6 Epoch: [12/100], cls_loss: 2.6358, transfer_loss: 0.1621, total_Loss: 2.7331, acc: 0.5346\n",
      "lambda= 0.6 Epoch: [13/100], cls_loss: 2.5423, transfer_loss: 0.1633, total_Loss: 2.6403, acc: 0.6088\n",
      "lambda= 0.6 Epoch: [14/100], cls_loss: 2.3999, transfer_loss: 0.1631, total_Loss: 2.4977, acc: 0.5472\n",
      "lambda= 0.6 Epoch: [15/100], cls_loss: 2.3094, transfer_loss: 0.1650, total_Loss: 2.4084, acc: 0.6264\n",
      "lambda= 0.6 Epoch: [16/100], cls_loss: 2.1231, transfer_loss: 0.1626, total_Loss: 2.2206, acc: 0.5711\n",
      "lambda= 0.6 Epoch: [17/100], cls_loss: 2.0452, transfer_loss: 0.1625, total_Loss: 2.1428, acc: 0.6340\n",
      "lambda= 0.6 Epoch: [18/100], cls_loss: 1.9343, transfer_loss: 0.1644, total_Loss: 2.0329, acc: 0.6252\n",
      "lambda= 0.6 Epoch: [19/100], cls_loss: 1.8412, transfer_loss: 0.1631, total_Loss: 1.9391, acc: 0.6893\n",
      "lambda= 0.6 Epoch: [20/100], cls_loss: 1.7685, transfer_loss: 0.1634, total_Loss: 1.8665, acc: 0.6352\n",
      "lambda= 0.6 Epoch: [21/100], cls_loss: 1.7125, transfer_loss: 0.1647, total_Loss: 1.8113, acc: 0.6352\n",
      "lambda= 0.6 Epoch: [22/100], cls_loss: 1.6090, transfer_loss: 0.1643, total_Loss: 1.7076, acc: 0.6604\n",
      "lambda= 0.6 Epoch: [23/100], cls_loss: 1.5122, transfer_loss: 0.1663, total_Loss: 1.6120, acc: 0.6667\n",
      "lambda= 0.6 Epoch: [24/100], cls_loss: 1.4870, transfer_loss: 0.1656, total_Loss: 1.5863, acc: 0.6931\n",
      "lambda= 0.6 Epoch: [25/100], cls_loss: 1.3783, transfer_loss: 0.1630, total_Loss: 1.4761, acc: 0.7157\n",
      "lambda= 0.6 Epoch: [26/100], cls_loss: 1.3413, transfer_loss: 0.1638, total_Loss: 1.4396, acc: 0.6730\n",
      "lambda= 0.6 Epoch: [27/100], cls_loss: 1.3059, transfer_loss: 0.1638, total_Loss: 1.4042, acc: 0.6981\n",
      "lambda= 0.6 Epoch: [28/100], cls_loss: 1.3005, transfer_loss: 0.1633, total_Loss: 1.3985, acc: 0.6918\n",
      "lambda= 0.6 Epoch: [29/100], cls_loss: 1.2764, transfer_loss: 0.1629, total_Loss: 1.3742, acc: 0.7069\n",
      "lambda= 0.6 Epoch: [30/100], cls_loss: 1.1558, transfer_loss: 0.1640, total_Loss: 1.2542, acc: 0.6956\n",
      "lambda= 0.6 Epoch: [31/100], cls_loss: 1.2425, transfer_loss: 0.1646, total_Loss: 1.3413, acc: 0.7057\n",
      "lambda= 0.6 Epoch: [32/100], cls_loss: 1.1939, transfer_loss: 0.1621, total_Loss: 1.2912, acc: 0.7195\n",
      "lambda= 0.6 Epoch: [33/100], cls_loss: 1.1478, transfer_loss: 0.1636, total_Loss: 1.2460, acc: 0.7233\n",
      "lambda= 0.6 Epoch: [34/100], cls_loss: 1.1152, transfer_loss: 0.1639, total_Loss: 1.2135, acc: 0.7132\n",
      "lambda= 0.6 Epoch: [35/100], cls_loss: 1.1081, transfer_loss: 0.1641, total_Loss: 1.2066, acc: 0.7157\n",
      "lambda= 0.6 Epoch: [36/100], cls_loss: 1.0784, transfer_loss: 0.1644, total_Loss: 1.1771, acc: 0.7371\n",
      "lambda= 0.6 Epoch: [37/100], cls_loss: 1.0655, transfer_loss: 0.1628, total_Loss: 1.1632, acc: 0.7208\n",
      "lambda= 0.6 Epoch: [38/100], cls_loss: 1.0589, transfer_loss: 0.1639, total_Loss: 1.1573, acc: 0.7371\n",
      "lambda= 0.6 Epoch: [39/100], cls_loss: 1.0393, transfer_loss: 0.1613, total_Loss: 1.1361, acc: 0.7472\n",
      "lambda= 0.6 Epoch: [40/100], cls_loss: 1.0399, transfer_loss: 0.1614, total_Loss: 1.1367, acc: 0.7346\n",
      "lambda= 0.6 Epoch: [41/100], cls_loss: 0.9985, transfer_loss: 0.1616, total_Loss: 1.0955, acc: 0.7358\n",
      "lambda= 0.6 Epoch: [42/100], cls_loss: 0.9355, transfer_loss: 0.1606, total_Loss: 1.0318, acc: 0.7145\n",
      "lambda= 0.6 Epoch: [43/100], cls_loss: 0.9782, transfer_loss: 0.1608, total_Loss: 1.0747, acc: 0.7421\n",
      "lambda= 0.6 Epoch: [44/100], cls_loss: 0.9233, transfer_loss: 0.1619, total_Loss: 1.0204, acc: 0.7270\n",
      "lambda= 0.6 Epoch: [45/100], cls_loss: 1.0168, transfer_loss: 0.1592, total_Loss: 1.1123, acc: 0.7170\n",
      "lambda= 0.6 Epoch: [46/100], cls_loss: 0.8876, transfer_loss: 0.1591, total_Loss: 0.9831, acc: 0.7321\n",
      "lambda= 0.6 Epoch: [47/100], cls_loss: 0.9336, transfer_loss: 0.1573, total_Loss: 1.0280, acc: 0.7283\n",
      "lambda= 0.6 Epoch: [48/100], cls_loss: 0.9115, transfer_loss: 0.1568, total_Loss: 1.0056, acc: 0.7283\n",
      "lambda= 0.6 Epoch: [49/100], cls_loss: 0.9235, transfer_loss: 0.1565, total_Loss: 1.0174, acc: 0.7396\n",
      "lambda= 0.6 Epoch: [50/100], cls_loss: 0.8354, transfer_loss: 0.1549, total_Loss: 0.9283, acc: 0.7346\n",
      "lambda= 0.6 Epoch: [51/100], cls_loss: 0.8412, transfer_loss: 0.1547, total_Loss: 0.9340, acc: 0.7346\n",
      "lambda= 0.6 Epoch: [52/100], cls_loss: 0.8521, transfer_loss: 0.1515, total_Loss: 0.9429, acc: 0.7321\n",
      "lambda= 0.6 Epoch: [53/100], cls_loss: 0.8642, transfer_loss: 0.1498, total_Loss: 0.9541, acc: 0.7396\n",
      "lambda= 0.6 Epoch: [54/100], cls_loss: 0.9013, transfer_loss: 0.1477, total_Loss: 0.9900, acc: 0.7333\n",
      "lambda= 0.6 Epoch: [55/100], cls_loss: 0.7813, transfer_loss: 0.1461, total_Loss: 0.8690, acc: 0.7447\n",
      "lambda= 0.6 Epoch: [56/100], cls_loss: 0.8058, transfer_loss: 0.1448, total_Loss: 0.8927, acc: 0.7270\n",
      "lambda= 0.6 Epoch: [57/100], cls_loss: 0.8134, transfer_loss: 0.1409, total_Loss: 0.8980, acc: 0.7258\n",
      "lambda= 0.6 Epoch: [58/100], cls_loss: 0.8543, transfer_loss: 0.1421, total_Loss: 0.9396, acc: 0.7346\n",
      "lambda= 0.6 Epoch: [59/100], cls_loss: 0.8120, transfer_loss: 0.1370, total_Loss: 0.8941, acc: 0.7333\n"
     ]
    },
    {
     "name": "stderr",
     "output_type": "stream",
     "text": [
      "<ipython-input-22-f33a8f85b166>:68: FutureWarning: The frame.append method is deprecated and will be removed from pandas in a future version. Use pandas.concat instead.\n",
      "  train_result = train_result.append(pd.DataFrame(records), ignore_index=True)\n",
      "<ipython-input-21-47478dc6ccbe>:18: FutureWarning: The frame.append method is deprecated and will be removed from pandas in a future version. Use pandas.concat instead.\n",
      "  test_result = test_result.append(pd.DataFrame(records), ignore_index=True)\n",
      "/usr/local/lib/python3.10/dist-packages/torchvision/models/_utils.py:208: UserWarning: The parameter 'pretrained' is deprecated since 0.13 and may be removed in the future, please use 'weights' instead.\n",
      "  warnings.warn(\n",
      "/usr/local/lib/python3.10/dist-packages/torchvision/models/_utils.py:223: UserWarning: Arguments other than a weight enum or `None` for 'weights' are deprecated since 0.13 and may be removed in the future. The current behavior is equivalent to passing `weights=ResNet50_Weights.IMAGENET1K_V1`. You can also use `weights=ResNet50_Weights.DEFAULT` to get the most up-to-date weights.\n",
      "  warnings.warn(msg)\n"
     ]
    },
    {
     "name": "stdout",
     "output_type": "stream",
     "text": [
      "lambda= 0.6000000000000001 Test accuracy: 0.7471698113207547\n",
      "lambda= 0.7 Epoch: [ 0/100], cls_loss: 3.4306, transfer_loss: 0.1621, total_Loss: 3.5441, acc: 0.0818\n",
      "lambda= 0.7 Epoch: [ 1/100], cls_loss: 3.4009, transfer_loss: 0.1621, total_Loss: 3.5144, acc: 0.1245\n",
      "lambda= 0.7 Epoch: [ 2/100], cls_loss: 3.3641, transfer_loss: 0.1637, total_Loss: 3.4787, acc: 0.1371\n",
      "lambda= 0.7 Epoch: [ 3/100], cls_loss: 3.3165, transfer_loss: 0.1637, total_Loss: 3.4311, acc: 0.2151\n",
      "lambda= 0.7 Epoch: [ 4/100], cls_loss: 3.2835, transfer_loss: 0.1638, total_Loss: 3.3982, acc: 0.2692\n",
      "lambda= 0.7 Epoch: [ 5/100], cls_loss: 3.2407, transfer_loss: 0.1634, total_Loss: 3.3551, acc: 0.3811\n",
      "lambda= 0.7 Epoch: [ 6/100], cls_loss: 3.1817, transfer_loss: 0.1630, total_Loss: 3.2958, acc: 0.3535\n",
      "lambda= 0.7 Epoch: [ 7/100], cls_loss: 3.1139, transfer_loss: 0.1633, total_Loss: 3.2282, acc: 0.4440\n",
      "lambda= 0.7 Epoch: [ 8/100], cls_loss: 3.0331, transfer_loss: 0.1625, total_Loss: 3.1469, acc: 0.4642\n",
      "lambda= 0.7 Epoch: [ 9/100], cls_loss: 2.9909, transfer_loss: 0.1642, total_Loss: 3.1058, acc: 0.4516\n",
      "lambda= 0.7 Epoch: [10/100], cls_loss: 2.8639, transfer_loss: 0.1640, total_Loss: 2.9787, acc: 0.5031\n",
      "lambda= 0.7 Epoch: [11/100], cls_loss: 2.7546, transfer_loss: 0.1621, total_Loss: 2.8681, acc: 0.5447\n",
      "lambda= 0.7 Epoch: [12/100], cls_loss: 2.6559, transfer_loss: 0.1633, total_Loss: 2.7702, acc: 0.5371\n",
      "lambda= 0.7 Epoch: [13/100], cls_loss: 2.4774, transfer_loss: 0.1637, total_Loss: 2.5919, acc: 0.5484\n",
      "lambda= 0.7 Epoch: [14/100], cls_loss: 2.4399, transfer_loss: 0.1638, total_Loss: 2.5545, acc: 0.6050\n",
      "lambda= 0.7 Epoch: [15/100], cls_loss: 2.2369, transfer_loss: 0.1633, total_Loss: 2.3512, acc: 0.5975\n",
      "lambda= 0.7 Epoch: [16/100], cls_loss: 2.1826, transfer_loss: 0.1625, total_Loss: 2.2963, acc: 0.5811\n",
      "lambda= 0.7 Epoch: [17/100], cls_loss: 2.0511, transfer_loss: 0.1621, total_Loss: 2.1646, acc: 0.6314\n",
      "lambda= 0.7 Epoch: [18/100], cls_loss: 1.9284, transfer_loss: 0.1633, total_Loss: 2.0427, acc: 0.6340\n",
      "lambda= 0.7 Epoch: [19/100], cls_loss: 1.8337, transfer_loss: 0.1612, total_Loss: 1.9465, acc: 0.6553\n",
      "lambda= 0.7 Epoch: [20/100], cls_loss: 1.7597, transfer_loss: 0.1642, total_Loss: 1.8746, acc: 0.6717\n",
      "lambda= 0.7 Epoch: [21/100], cls_loss: 1.6544, transfer_loss: 0.1625, total_Loss: 1.7681, acc: 0.6855\n",
      "lambda= 0.7 Epoch: [22/100], cls_loss: 1.5368, transfer_loss: 0.1632, total_Loss: 1.6510, acc: 0.6755\n",
      "lambda= 0.7 Epoch: [23/100], cls_loss: 1.4998, transfer_loss: 0.1627, total_Loss: 1.6137, acc: 0.6830\n",
      "lambda= 0.7 Epoch: [24/100], cls_loss: 1.5129, transfer_loss: 0.1619, total_Loss: 1.6262, acc: 0.6566\n",
      "lambda= 0.7 Epoch: [25/100], cls_loss: 1.4029, transfer_loss: 0.1618, total_Loss: 1.5162, acc: 0.6755\n",
      "lambda= 0.7 Epoch: [26/100], cls_loss: 1.3439, transfer_loss: 0.1623, total_Loss: 1.4575, acc: 0.6855\n",
      "lambda= 0.7 Epoch: [27/100], cls_loss: 1.3115, transfer_loss: 0.1610, total_Loss: 1.4242, acc: 0.7031\n",
      "lambda= 0.7 Epoch: [28/100], cls_loss: 1.3312, transfer_loss: 0.1614, total_Loss: 1.4442, acc: 0.6893\n",
      "lambda= 0.7 Epoch: [29/100], cls_loss: 1.2746, transfer_loss: 0.1627, total_Loss: 1.3885, acc: 0.6742\n",
      "lambda= 0.7 Epoch: [30/100], cls_loss: 1.2488, transfer_loss: 0.1611, total_Loss: 1.3616, acc: 0.6868\n",
      "lambda= 0.7 Epoch: [31/100], cls_loss: 1.1777, transfer_loss: 0.1601, total_Loss: 1.2897, acc: 0.6868\n",
      "lambda= 0.7 Epoch: [32/100], cls_loss: 1.1420, transfer_loss: 0.1600, total_Loss: 1.2541, acc: 0.7170\n",
      "lambda= 0.7 Epoch: [33/100], cls_loss: 1.1096, transfer_loss: 0.1606, total_Loss: 1.2220, acc: 0.7082\n",
      "lambda= 0.7 Epoch: [34/100], cls_loss: 1.1026, transfer_loss: 0.1596, total_Loss: 1.2144, acc: 0.7132\n",
      "lambda= 0.7 Epoch: [35/100], cls_loss: 1.1337, transfer_loss: 0.1592, total_Loss: 1.2452, acc: 0.7170\n",
      "lambda= 0.7 Epoch: [36/100], cls_loss: 1.0738, transfer_loss: 0.1595, total_Loss: 1.1855, acc: 0.7182\n",
      "lambda= 0.7 Epoch: [37/100], cls_loss: 1.0451, transfer_loss: 0.1584, total_Loss: 1.1560, acc: 0.7132\n",
      "lambda= 0.7 Epoch: [38/100], cls_loss: 1.0227, transfer_loss: 0.1598, total_Loss: 1.1345, acc: 0.7094\n",
      "lambda= 0.7 Epoch: [39/100], cls_loss: 1.0070, transfer_loss: 0.1577, total_Loss: 1.1174, acc: 0.7409\n",
      "lambda= 0.7 Epoch: [40/100], cls_loss: 1.0962, transfer_loss: 0.1570, total_Loss: 1.2062, acc: 0.7308\n",
      "lambda= 0.7 Epoch: [41/100], cls_loss: 1.0134, transfer_loss: 0.1577, total_Loss: 1.1238, acc: 0.7245\n",
      "lambda= 0.7 Epoch: [42/100], cls_loss: 0.9820, transfer_loss: 0.1579, total_Loss: 1.0926, acc: 0.7132\n",
      "lambda= 0.7 Epoch: [43/100], cls_loss: 0.9469, transfer_loss: 0.1557, total_Loss: 1.0559, acc: 0.7245\n",
      "lambda= 0.7 Epoch: [44/100], cls_loss: 0.9446, transfer_loss: 0.1560, total_Loss: 1.0538, acc: 0.7195\n",
      "lambda= 0.7 Epoch: [45/100], cls_loss: 0.9338, transfer_loss: 0.1551, total_Loss: 1.0424, acc: 0.7182\n",
      "lambda= 0.7 Epoch: [46/100], cls_loss: 0.9778, transfer_loss: 0.1522, total_Loss: 1.0843, acc: 0.7094\n",
      "lambda= 0.7 Epoch: [47/100], cls_loss: 0.8943, transfer_loss: 0.1520, total_Loss: 1.0007, acc: 0.7321\n",
      "lambda= 0.7 Epoch: [48/100], cls_loss: 0.9076, transfer_loss: 0.1505, total_Loss: 1.0130, acc: 0.7195\n",
      "lambda= 0.7 Epoch: [49/100], cls_loss: 0.9187, transfer_loss: 0.1480, total_Loss: 1.0223, acc: 0.7182\n",
      "lambda= 0.7 Epoch: [50/100], cls_loss: 0.8792, transfer_loss: 0.1475, total_Loss: 0.9825, acc: 0.7296\n",
      "lambda= 0.7 Epoch: [51/100], cls_loss: 0.8764, transfer_loss: 0.1468, total_Loss: 0.9792, acc: 0.7145\n",
      "lambda= 0.7 Epoch: [52/100], cls_loss: 0.8338, transfer_loss: 0.1442, total_Loss: 0.9348, acc: 0.7094\n",
      "lambda= 0.7 Epoch: [53/100], cls_loss: 0.8730, transfer_loss: 0.1415, total_Loss: 0.9720, acc: 0.7182\n",
      "lambda= 0.7 Epoch: [54/100], cls_loss: 0.7955, transfer_loss: 0.1396, total_Loss: 0.8932, acc: 0.7333\n",
      "lambda= 0.7 Epoch: [55/100], cls_loss: 0.8483, transfer_loss: 0.1387, total_Loss: 0.9454, acc: 0.7208\n",
      "lambda= 0.7 Epoch: [56/100], cls_loss: 0.9197, transfer_loss: 0.1403, total_Loss: 1.0180, acc: 0.7195\n",
      "lambda= 0.7 Epoch: [57/100], cls_loss: 0.7886, transfer_loss: 0.1364, total_Loss: 0.8841, acc: 0.7208\n",
      "lambda= 0.7 Epoch: [58/100], cls_loss: 0.7714, transfer_loss: 0.1337, total_Loss: 0.8650, acc: 0.7182\n",
      "lambda= 0.7 Epoch: [59/100], cls_loss: 0.7518, transfer_loss: 0.1315, total_Loss: 0.8439, acc: 0.7308\n"
     ]
    },
    {
     "name": "stderr",
     "output_type": "stream",
     "text": [
      "<ipython-input-22-f33a8f85b166>:68: FutureWarning: The frame.append method is deprecated and will be removed from pandas in a future version. Use pandas.concat instead.\n",
      "  train_result = train_result.append(pd.DataFrame(records), ignore_index=True)\n",
      "<ipython-input-21-47478dc6ccbe>:18: FutureWarning: The frame.append method is deprecated and will be removed from pandas in a future version. Use pandas.concat instead.\n",
      "  test_result = test_result.append(pd.DataFrame(records), ignore_index=True)\n",
      "/usr/local/lib/python3.10/dist-packages/torchvision/models/_utils.py:208: UserWarning: The parameter 'pretrained' is deprecated since 0.13 and may be removed in the future, please use 'weights' instead.\n",
      "  warnings.warn(\n",
      "/usr/local/lib/python3.10/dist-packages/torchvision/models/_utils.py:223: UserWarning: Arguments other than a weight enum or `None` for 'weights' are deprecated since 0.13 and may be removed in the future. The current behavior is equivalent to passing `weights=ResNet50_Weights.IMAGENET1K_V1`. You can also use `weights=ResNet50_Weights.DEFAULT` to get the most up-to-date weights.\n",
      "  warnings.warn(msg)\n"
     ]
    },
    {
     "name": "stdout",
     "output_type": "stream",
     "text": [
      "lambda= 0.7000000000000001 Test accuracy: 0.740880503144654\n",
      "lambda= 0.8 Epoch: [ 0/100], cls_loss: 3.4268, transfer_loss: 0.1628, total_Loss: 3.5570, acc: 0.0780\n",
      "lambda= 0.8 Epoch: [ 1/100], cls_loss: 3.3929, transfer_loss: 0.1629, total_Loss: 3.5232, acc: 0.1686\n",
      "lambda= 0.8 Epoch: [ 2/100], cls_loss: 3.3677, transfer_loss: 0.1624, total_Loss: 3.4977, acc: 0.2440\n",
      "lambda= 0.8 Epoch: [ 3/100], cls_loss: 3.3267, transfer_loss: 0.1635, total_Loss: 3.4574, acc: 0.2289\n",
      "lambda= 0.8 Epoch: [ 4/100], cls_loss: 3.2812, transfer_loss: 0.1634, total_Loss: 3.4120, acc: 0.1824\n",
      "lambda= 0.8 Epoch: [ 5/100], cls_loss: 3.2420, transfer_loss: 0.1629, total_Loss: 3.3722, acc: 0.2855\n",
      "lambda= 0.8 Epoch: [ 6/100], cls_loss: 3.1797, transfer_loss: 0.1627, total_Loss: 3.3098, acc: 0.3899\n",
      "lambda= 0.8 Epoch: [ 7/100], cls_loss: 3.1210, transfer_loss: 0.1636, total_Loss: 3.2519, acc: 0.3849\n",
      "lambda= 0.8 Epoch: [ 8/100], cls_loss: 3.0680, transfer_loss: 0.1631, total_Loss: 3.1985, acc: 0.4943\n",
      "lambda= 0.8 Epoch: [ 9/100], cls_loss: 2.9699, transfer_loss: 0.1642, total_Loss: 3.1012, acc: 0.5082\n",
      "lambda= 0.8 Epoch: [10/100], cls_loss: 2.9052, transfer_loss: 0.1645, total_Loss: 3.0368, acc: 0.4792\n",
      "lambda= 0.8 Epoch: [11/100], cls_loss: 2.7685, transfer_loss: 0.1620, total_Loss: 2.8981, acc: 0.5057\n",
      "lambda= 0.8 Epoch: [12/100], cls_loss: 2.6369, transfer_loss: 0.1627, total_Loss: 2.7671, acc: 0.5371\n",
      "lambda= 0.8 Epoch: [13/100], cls_loss: 2.5568, transfer_loss: 0.1622, total_Loss: 2.6865, acc: 0.5648\n",
      "lambda= 0.8 Epoch: [14/100], cls_loss: 2.4304, transfer_loss: 0.1634, total_Loss: 2.5611, acc: 0.5975\n",
      "lambda= 0.8 Epoch: [15/100], cls_loss: 2.2956, transfer_loss: 0.1633, total_Loss: 2.4262, acc: 0.5786\n",
      "lambda= 0.8 Epoch: [16/100], cls_loss: 2.1597, transfer_loss: 0.1631, total_Loss: 2.2902, acc: 0.6390\n",
      "lambda= 0.8 Epoch: [17/100], cls_loss: 2.1338, transfer_loss: 0.1630, total_Loss: 2.2642, acc: 0.6491\n",
      "lambda= 0.8 Epoch: [18/100], cls_loss: 1.9439, transfer_loss: 0.1627, total_Loss: 2.0741, acc: 0.6352\n",
      "lambda= 0.8 Epoch: [19/100], cls_loss: 1.8943, transfer_loss: 0.1636, total_Loss: 2.0252, acc: 0.6755\n",
      "lambda= 0.8 Epoch: [20/100], cls_loss: 1.7486, transfer_loss: 0.1637, total_Loss: 1.8795, acc: 0.6528\n",
      "lambda= 0.8 Epoch: [21/100], cls_loss: 1.7191, transfer_loss: 0.1626, total_Loss: 1.8491, acc: 0.6805\n",
      "lambda= 0.8 Epoch: [22/100], cls_loss: 1.6208, transfer_loss: 0.1638, total_Loss: 1.7519, acc: 0.6818\n",
      "lambda= 0.8 Epoch: [23/100], cls_loss: 1.5679, transfer_loss: 0.1623, total_Loss: 1.6978, acc: 0.6843\n",
      "lambda= 0.8 Epoch: [24/100], cls_loss: 1.4705, transfer_loss: 0.1641, total_Loss: 1.6018, acc: 0.6767\n",
      "lambda= 0.8 Epoch: [25/100], cls_loss: 1.4130, transfer_loss: 0.1614, total_Loss: 1.5421, acc: 0.6604\n",
      "lambda= 0.8 Epoch: [26/100], cls_loss: 1.3295, transfer_loss: 0.1625, total_Loss: 1.4595, acc: 0.6830\n",
      "lambda= 0.8 Epoch: [27/100], cls_loss: 1.3000, transfer_loss: 0.1621, total_Loss: 1.4297, acc: 0.6931\n",
      "lambda= 0.8 Epoch: [28/100], cls_loss: 1.3291, transfer_loss: 0.1614, total_Loss: 1.4582, acc: 0.6893\n",
      "lambda= 0.8 Epoch: [29/100], cls_loss: 1.2695, transfer_loss: 0.1602, total_Loss: 1.3976, acc: 0.7044\n",
      "lambda= 0.8 Epoch: [30/100], cls_loss: 1.2321, transfer_loss: 0.1603, total_Loss: 1.3603, acc: 0.7132\n",
      "lambda= 0.8 Epoch: [31/100], cls_loss: 1.1375, transfer_loss: 0.1582, total_Loss: 1.2640, acc: 0.7119\n",
      "lambda= 0.8 Epoch: [32/100], cls_loss: 1.1923, transfer_loss: 0.1572, total_Loss: 1.3181, acc: 0.7082\n",
      "lambda= 0.8 Epoch: [33/100], cls_loss: 1.1657, transfer_loss: 0.1553, total_Loss: 1.2899, acc: 0.7233\n",
      "lambda= 0.8 Epoch: [34/100], cls_loss: 1.0915, transfer_loss: 0.1568, total_Loss: 1.2169, acc: 0.7333\n",
      "lambda= 0.8 Epoch: [35/100], cls_loss: 1.1202, transfer_loss: 0.1548, total_Loss: 1.2441, acc: 0.7145\n",
      "lambda= 0.8 Epoch: [36/100], cls_loss: 1.0236, transfer_loss: 0.1513, total_Loss: 1.1446, acc: 0.7107\n",
      "lambda= 0.8 Epoch: [37/100], cls_loss: 1.0741, transfer_loss: 0.1516, total_Loss: 1.1954, acc: 0.7245\n",
      "lambda= 0.8 Epoch: [38/100], cls_loss: 1.0243, transfer_loss: 0.1486, total_Loss: 1.1431, acc: 0.7019\n",
      "lambda= 0.8 Epoch: [39/100], cls_loss: 1.0090, transfer_loss: 0.1475, total_Loss: 1.1270, acc: 0.7019\n",
      "lambda= 0.8 Epoch: [40/100], cls_loss: 1.0299, transfer_loss: 0.1443, total_Loss: 1.1453, acc: 0.7069\n",
      "lambda= 0.8 Epoch: [41/100], cls_loss: 1.0045, transfer_loss: 0.1426, total_Loss: 1.1185, acc: 0.7082\n",
      "lambda= 0.8 Epoch: [42/100], cls_loss: 0.9765, transfer_loss: 0.1371, total_Loss: 1.0862, acc: 0.7031\n",
      "lambda= 0.8 Epoch: [43/100], cls_loss: 0.9808, transfer_loss: 0.1332, total_Loss: 1.0874, acc: 0.7220\n",
      "lambda= 0.8 Epoch: [44/100], cls_loss: 0.9802, transfer_loss: 0.1329, total_Loss: 1.0865, acc: 0.7220\n",
      "lambda= 0.8 Epoch: [45/100], cls_loss: 0.9399, transfer_loss: 0.1261, total_Loss: 1.0408, acc: 0.7270\n",
      "lambda= 0.8 Epoch: [46/100], cls_loss: 0.9802, transfer_loss: 0.1242, total_Loss: 1.0796, acc: 0.7296\n",
      "lambda= 0.8 Epoch: [47/100], cls_loss: 0.9375, transfer_loss: 0.1218, total_Loss: 1.0350, acc: 0.7283\n",
      "lambda= 0.8 Epoch: [48/100], cls_loss: 0.9538, transfer_loss: 0.1207, total_Loss: 1.0504, acc: 0.7132\n",
      "lambda= 0.8 Epoch: [49/100], cls_loss: 0.8482, transfer_loss: 0.1187, total_Loss: 0.9432, acc: 0.7182\n",
      "lambda= 0.8 Epoch: [50/100], cls_loss: 0.8722, transfer_loss: 0.1154, total_Loss: 0.9645, acc: 0.6818\n",
      "lambda= 0.8 Epoch: [51/100], cls_loss: 0.8788, transfer_loss: 0.1120, total_Loss: 0.9684, acc: 0.7107\n",
      "lambda= 0.8 Epoch: [52/100], cls_loss: 0.8157, transfer_loss: 0.1094, total_Loss: 0.9032, acc: 0.7208\n",
      "lambda= 0.8 Epoch: [53/100], cls_loss: 0.8458, transfer_loss: 0.1078, total_Loss: 0.9320, acc: 0.7208\n",
      "lambda= 0.8 Epoch: [54/100], cls_loss: 0.8638, transfer_loss: 0.1075, total_Loss: 0.9498, acc: 0.7132\n"
     ]
    },
    {
     "name": "stderr",
     "output_type": "stream",
     "text": [
      "<ipython-input-22-f33a8f85b166>:68: FutureWarning: The frame.append method is deprecated and will be removed from pandas in a future version. Use pandas.concat instead.\n",
      "  train_result = train_result.append(pd.DataFrame(records), ignore_index=True)\n",
      "<ipython-input-21-47478dc6ccbe>:18: FutureWarning: The frame.append method is deprecated and will be removed from pandas in a future version. Use pandas.concat instead.\n",
      "  test_result = test_result.append(pd.DataFrame(records), ignore_index=True)\n",
      "/usr/local/lib/python3.10/dist-packages/torchvision/models/_utils.py:208: UserWarning: The parameter 'pretrained' is deprecated since 0.13 and may be removed in the future, please use 'weights' instead.\n",
      "  warnings.warn(\n",
      "/usr/local/lib/python3.10/dist-packages/torchvision/models/_utils.py:223: UserWarning: Arguments other than a weight enum or `None` for 'weights' are deprecated since 0.13 and may be removed in the future. The current behavior is equivalent to passing `weights=ResNet50_Weights.IMAGENET1K_V1`. You can also use `weights=ResNet50_Weights.DEFAULT` to get the most up-to-date weights.\n",
      "  warnings.warn(msg)\n"
     ]
    },
    {
     "name": "stdout",
     "output_type": "stream",
     "text": [
      "lambda= 0.8 Test accuracy: 0.7333333333333333\n",
      "lambda= 0.9 Epoch: [ 0/100], cls_loss: 3.4265, transfer_loss: 0.1640, total_Loss: 3.5741, acc: 0.0491\n",
      "lambda= 0.9 Epoch: [ 1/100], cls_loss: 3.3954, transfer_loss: 0.1629, total_Loss: 3.5420, acc: 0.1057\n",
      "lambda= 0.9 Epoch: [ 2/100], cls_loss: 3.3588, transfer_loss: 0.1647, total_Loss: 3.5071, acc: 0.0994\n",
      "lambda= 0.9 Epoch: [ 3/100], cls_loss: 3.3191, transfer_loss: 0.1635, total_Loss: 3.4662, acc: 0.1799\n",
      "lambda= 0.9 Epoch: [ 4/100], cls_loss: 3.2731, transfer_loss: 0.1631, total_Loss: 3.4198, acc: 0.3333\n",
      "lambda= 0.9 Epoch: [ 5/100], cls_loss: 3.2303, transfer_loss: 0.1636, total_Loss: 3.3775, acc: 0.3899\n",
      "lambda= 0.9 Epoch: [ 6/100], cls_loss: 3.1908, transfer_loss: 0.1635, total_Loss: 3.3379, acc: 0.3736\n",
      "lambda= 0.9 Epoch: [ 7/100], cls_loss: 3.1101, transfer_loss: 0.1630, total_Loss: 3.2568, acc: 0.4516\n",
      "lambda= 0.9 Epoch: [ 8/100], cls_loss: 3.0470, transfer_loss: 0.1621, total_Loss: 3.1929, acc: 0.5409\n",
      "lambda= 0.9 Epoch: [ 9/100], cls_loss: 2.9800, transfer_loss: 0.1649, total_Loss: 3.1284, acc: 0.5195\n",
      "lambda= 0.9 Epoch: [10/100], cls_loss: 2.8729, transfer_loss: 0.1627, total_Loss: 3.0193, acc: 0.5358\n",
      "lambda= 0.9 Epoch: [11/100], cls_loss: 2.7470, transfer_loss: 0.1633, total_Loss: 2.8939, acc: 0.5522\n",
      "lambda= 0.9 Epoch: [12/100], cls_loss: 2.6216, transfer_loss: 0.1629, total_Loss: 2.7683, acc: 0.5950\n",
      "lambda= 0.9 Epoch: [13/100], cls_loss: 2.4960, transfer_loss: 0.1634, total_Loss: 2.6431, acc: 0.5849\n",
      "lambda= 0.9 Epoch: [14/100], cls_loss: 2.3733, transfer_loss: 0.1624, total_Loss: 2.5195, acc: 0.5711\n",
      "lambda= 0.9 Epoch: [15/100], cls_loss: 2.2862, transfer_loss: 0.1653, total_Loss: 2.4351, acc: 0.5912\n",
      "lambda= 0.9 Epoch: [16/100], cls_loss: 2.1199, transfer_loss: 0.1636, total_Loss: 2.2671, acc: 0.6201\n",
      "lambda= 0.9 Epoch: [17/100], cls_loss: 2.0667, transfer_loss: 0.1629, total_Loss: 2.2133, acc: 0.6314\n",
      "lambda= 0.9 Epoch: [18/100], cls_loss: 1.8813, transfer_loss: 0.1635, total_Loss: 2.0284, acc: 0.6365\n",
      "lambda= 0.9 Epoch: [19/100], cls_loss: 1.8598, transfer_loss: 0.1630, total_Loss: 2.0065, acc: 0.6352\n",
      "lambda= 0.9 Epoch: [20/100], cls_loss: 1.7384, transfer_loss: 0.1628, total_Loss: 1.8849, acc: 0.6642\n",
      "lambda= 0.9 Epoch: [21/100], cls_loss: 1.6505, transfer_loss: 0.1634, total_Loss: 1.7976, acc: 0.6503\n",
      "lambda= 0.9 Epoch: [22/100], cls_loss: 1.5639, transfer_loss: 0.1623, total_Loss: 1.7100, acc: 0.6553\n",
      "lambda= 0.9 Epoch: [23/100], cls_loss: 1.4413, transfer_loss: 0.1610, total_Loss: 1.5862, acc: 0.6830\n",
      "lambda= 0.9 Epoch: [24/100], cls_loss: 1.4871, transfer_loss: 0.1607, total_Loss: 1.6317, acc: 0.6667\n",
      "lambda= 0.9 Epoch: [25/100], cls_loss: 1.4630, transfer_loss: 0.1593, total_Loss: 1.6064, acc: 0.6931\n",
      "lambda= 0.9 Epoch: [26/100], cls_loss: 1.3569, transfer_loss: 0.1573, total_Loss: 1.4984, acc: 0.7044\n",
      "lambda= 0.9 Epoch: [27/100], cls_loss: 1.3531, transfer_loss: 0.1560, total_Loss: 1.4935, acc: 0.6868\n",
      "lambda= 0.9 Epoch: [28/100], cls_loss: 1.2812, transfer_loss: 0.1543, total_Loss: 1.4201, acc: 0.7019\n",
      "lambda= 0.9 Epoch: [29/100], cls_loss: 1.2126, transfer_loss: 0.1518, total_Loss: 1.3493, acc: 0.6780\n",
      "lambda= 0.9 Epoch: [30/100], cls_loss: 1.2108, transfer_loss: 0.1493, total_Loss: 1.3452, acc: 0.6893\n",
      "lambda= 0.9 Epoch: [31/100], cls_loss: 1.1580, transfer_loss: 0.1486, total_Loss: 1.2917, acc: 0.6855\n",
      "lambda= 0.9 Epoch: [32/100], cls_loss: 1.2367, transfer_loss: 0.1456, total_Loss: 1.3677, acc: 0.6704\n",
      "lambda= 0.9 Epoch: [33/100], cls_loss: 1.2280, transfer_loss: 0.1414, total_Loss: 1.3552, acc: 0.6981\n",
      "lambda= 0.9 Epoch: [34/100], cls_loss: 1.1606, transfer_loss: 0.1389, total_Loss: 1.2857, acc: 0.7069\n",
      "lambda= 0.9 Epoch: [35/100], cls_loss: 1.0710, transfer_loss: 0.1360, total_Loss: 1.1934, acc: 0.6792\n",
      "lambda= 0.9 Epoch: [36/100], cls_loss: 1.0401, transfer_loss: 0.1347, total_Loss: 1.1613, acc: 0.7170\n",
      "lambda= 0.9 Epoch: [37/100], cls_loss: 1.0348, transfer_loss: 0.1311, total_Loss: 1.1528, acc: 0.6868\n",
      "lambda= 0.9 Epoch: [38/100], cls_loss: 1.0137, transfer_loss: 0.1288, total_Loss: 1.1295, acc: 0.6830\n",
      "lambda= 0.9 Epoch: [39/100], cls_loss: 1.0014, transfer_loss: 0.1270, total_Loss: 1.1157, acc: 0.7057\n",
      "lambda= 0.9 Epoch: [40/100], cls_loss: 1.0118, transfer_loss: 0.1244, total_Loss: 1.1238, acc: 0.6943\n",
      "lambda= 0.9 Epoch: [41/100], cls_loss: 0.9437, transfer_loss: 0.1243, total_Loss: 1.0555, acc: 0.7283\n",
      "lambda= 0.9 Epoch: [42/100], cls_loss: 0.9859, transfer_loss: 0.1223, total_Loss: 1.0960, acc: 0.7057\n",
      "lambda= 0.9 Epoch: [43/100], cls_loss: 0.9794, transfer_loss: 0.1216, total_Loss: 1.0889, acc: 0.7270\n",
      "lambda= 0.9 Epoch: [44/100], cls_loss: 0.8947, transfer_loss: 0.1177, total_Loss: 1.0007, acc: 0.7069\n",
      "lambda= 0.9 Epoch: [45/100], cls_loss: 0.9480, transfer_loss: 0.1192, total_Loss: 1.0553, acc: 0.7384\n",
      "lambda= 0.9 Epoch: [46/100], cls_loss: 0.9794, transfer_loss: 0.1175, total_Loss: 1.0851, acc: 0.7082\n",
      "lambda= 0.9 Epoch: [47/100], cls_loss: 0.9565, transfer_loss: 0.1151, total_Loss: 1.0601, acc: 0.7245\n",
      "lambda= 0.9 Epoch: [48/100], cls_loss: 0.8675, transfer_loss: 0.1142, total_Loss: 0.9702, acc: 0.7258\n",
      "lambda= 0.9 Epoch: [49/100], cls_loss: 0.9315, transfer_loss: 0.1118, total_Loss: 1.0321, acc: 0.7119\n",
      "lambda= 0.9 Epoch: [50/100], cls_loss: 0.9700, transfer_loss: 0.1137, total_Loss: 1.0723, acc: 0.7182\n",
      "lambda= 0.9 Epoch: [51/100], cls_loss: 0.7834, transfer_loss: 0.1100, total_Loss: 0.8824, acc: 0.7019\n",
      "lambda= 0.9 Epoch: [52/100], cls_loss: 0.8223, transfer_loss: 0.1121, total_Loss: 0.9232, acc: 0.7384\n",
      "lambda= 0.9 Epoch: [53/100], cls_loss: 0.8342, transfer_loss: 0.1110, total_Loss: 0.9341, acc: 0.7346\n",
      "lambda= 0.9 Epoch: [54/100], cls_loss: 0.8073, transfer_loss: 0.1117, total_Loss: 0.9079, acc: 0.7245\n",
      "lambda= 0.9 Epoch: [55/100], cls_loss: 0.7983, transfer_loss: 0.1088, total_Loss: 0.8962, acc: 0.7145\n",
      "lambda= 0.9 Epoch: [56/100], cls_loss: 0.7878, transfer_loss: 0.1067, total_Loss: 0.8838, acc: 0.7358\n",
      "lambda= 0.9 Epoch: [57/100], cls_loss: 0.7716, transfer_loss: 0.1076, total_Loss: 0.8684, acc: 0.7208\n",
      "lambda= 0.9 Epoch: [58/100], cls_loss: 0.7902, transfer_loss: 0.1076, total_Loss: 0.8870, acc: 0.7094\n",
      "lambda= 0.9 Epoch: [59/100], cls_loss: 0.7335, transfer_loss: 0.1062, total_Loss: 0.8290, acc: 0.7208\n",
      "lambda= 0.9 Epoch: [60/100], cls_loss: 0.7850, transfer_loss: 0.1060, total_Loss: 0.8804, acc: 0.7333\n",
      "lambda= 0.9 Epoch: [61/100], cls_loss: 0.8178, transfer_loss: 0.1049, total_Loss: 0.9122, acc: 0.6956\n",
      "lambda= 0.9 Epoch: [62/100], cls_loss: 0.7571, transfer_loss: 0.1049, total_Loss: 0.8515, acc: 0.7270\n",
      "lambda= 0.9 Epoch: [63/100], cls_loss: 0.7361, transfer_loss: 0.1036, total_Loss: 0.8293, acc: 0.7182\n",
      "lambda= 0.9 Epoch: [64/100], cls_loss: 0.7732, transfer_loss: 0.1036, total_Loss: 0.8664, acc: 0.7082\n",
      "lambda= 0.9 Epoch: [65/100], cls_loss: 0.7452, transfer_loss: 0.1026, total_Loss: 0.8375, acc: 0.7321\n"
     ]
    },
    {
     "name": "stderr",
     "output_type": "stream",
     "text": [
      "<ipython-input-22-f33a8f85b166>:68: FutureWarning: The frame.append method is deprecated and will be removed from pandas in a future version. Use pandas.concat instead.\n",
      "  train_result = train_result.append(pd.DataFrame(records), ignore_index=True)\n"
     ]
    },
    {
     "name": "stdout",
     "output_type": "stream",
     "text": [
      "lambda= 0.9 Test accuracy: 0.7383647798742138\n"
     ]
    },
    {
     "name": "stderr",
     "output_type": "stream",
     "text": [
      "<ipython-input-21-47478dc6ccbe>:18: FutureWarning: The frame.append method is deprecated and will be removed from pandas in a future version. Use pandas.concat instead.\n",
      "  test_result = test_result.append(pd.DataFrame(records), ignore_index=True)\n"
     ]
    }
   ],
   "source": [
    "import numpy as np\n",
    "test_result = pd.DataFrame(columns=[\"lambda\", \"Test accuracy\"])\n",
    "train_result = pd.DataFrame()\n",
    "test_result = pd.DataFrame()\n",
    "\n",
    "import gc\n",
    "train_result = pd.DataFrame() # new added\n",
    "test_result = pd.DataFrame()\n",
    "for lamb in np.arange(0, 1, 0.10):\n",
    "    transfer_loss = 'mmd'\n",
    "    learning_rate = 0.0001\n",
    "    transfer_model = TransferNet(n_class, transfer_loss=transfer_loss, base_net='resnet50').cuda()\n",
    "    optimizer = torch.optim.SGD([\n",
    "        {'params': transfer_model.base_network.parameters()},\n",
    "        {'params': transfer_model.bottleneck_layer.parameters(), 'lr': 10 * learning_rate},\n",
    "        {'params': transfer_model.classifier_layer.parameters(), 'lr': 10 * learning_rate},\n",
    "    ], lr=learning_rate, momentum=0.9, weight_decay=5e-4)\n",
    "    # lamb = 0.5 # weight for transfer loss, it is a hyperparameter that needs to be tuned\n",
    "\n",
    "    # train_result = pd.DataFrame() # new added\n",
    "    # test_result = pd.DataFrame()\n",
    "    def train2(dataloaders, model, optimizer, lamb):\n",
    "        source_loader, target_train_loader, target_test_loader = dataloaders['src'], dataloaders['val'], dataloaders['tar']\n",
    "        len_source_loader = len(source_loader)\n",
    "        len_target_loader = len(target_train_loader)\n",
    "        best_acc = 0\n",
    "        stop = 0\n",
    "        n_batch = min(len_source_loader, len_target_loader)\n",
    "        records = [] # new added\n",
    "        for e in range(n_epoch):\n",
    "            stop += 1\n",
    "            train_loss_clf, train_loss_transfer, train_loss_total = 0, 0, 0\n",
    "            model.train()\n",
    "            for (src, tar) in zip(source_loader, target_train_loader):\n",
    "                data_source, label_source = src\n",
    "                data_target, _ = tar\n",
    "                data_source, label_source = data_source.cuda(), label_source.cuda()\n",
    "                data_target = data_target.cuda()\n",
    "\n",
    "                optimizer.zero_grad()\n",
    "                label_source_pred, transfer_loss = model(data_source, data_target)\n",
    "                clf_loss = criterion(label_source_pred, label_source)\n",
    "                loss = clf_loss + lamb * transfer_loss\n",
    "                loss.backward()\n",
    "                optimizer.step()\n",
    "                train_loss_clf = clf_loss.detach().item() + train_loss_clf\n",
    "                train_loss_transfer = transfer_loss.detach().item() + train_loss_transfer\n",
    "                train_loss_total = loss.detach().item() + train_loss_total\n",
    "            acc = test(model, target_test_loader)\n",
    "            print(f'lambda= {lamb}',f'Epoch: [{e:2d}/{n_epoch}], cls_loss: {train_loss_clf/n_batch:.4f}, transfer_loss: {train_loss_transfer/n_batch:.4f}, total_Loss: {train_loss_total/n_batch:.4f}, acc: {acc:.4f}')\n",
    "            records.append({ # new added\n",
    "                'Lambda': lamb,\n",
    "                'Epoch': e,\n",
    "                'Cls_Loss': train_loss_clf/n_batch,\n",
    "                'Transfer_Loss': train_loss_transfer/n_batch,\n",
    "                'Total_Loss': train_loss_total/n_batch,\n",
    "                'Accuracy': acc\n",
    "            })\n",
    "\n",
    "            if best_acc < acc:\n",
    "                best_acc = acc\n",
    "                torch.save(model.state_dict(), 'trans_model_webcam.pkl')\n",
    "                stop = 0\n",
    "            if stop >= early_stop:\n",
    "                break\n",
    "\n",
    "        global train_result\n",
    "        train_result = train_result.append(pd.DataFrame(records), ignore_index=True)\n",
    "        train_result.to_csv(os.path.join(data_folder, f'train_result_amazon_webcam_resnet50_lambda {lamb}.csv'), index=False)\n",
    "\n",
    "    train2(dataloaders, transfer_model, optimizer, lamb.round(1))\n",
    "    transfer_model.load_state_dict(torch.load('trans_model_webcam.pkl'))\n",
    "    acc_test = test2(transfer_model, dataloaders['tar'], lamb)\n",
    "    print(f'lambda= {lamb}', f'Test accuracy: {acc_test}')\n",
    "    del transfer_model\n",
    "    # del train2\n"
   ]
  },
  {
   "cell_type": "code",
   "execution_count": 23,
   "metadata": {
    "executionInfo": {
     "elapsed": 264,
     "status": "ok",
     "timestamp": 1698731006582,
     "user": {
      "displayName": "Iman Khazrak",
      "userId": "00007021905658904546"
     },
     "user_tz": 240
    },
    "id": "soWHnJ31H17u"
   },
   "outputs": [],
   "source": [
    "train_result.to_csv(os.path.join(data_folder, 'train_result_amazon_webcam_resnet50.csv'), index=False)\n",
    "test_result.to_csv(os.path.join(data_folder, 'test_result_amazon_webcam_resnet50.csv'), index=False)"
   ]
  },
  {
   "cell_type": "markdown",
   "metadata": {
    "id": "C-ubTKIxQDM5"
   },
   "source": [
    "# Plots"
   ]
  },
  {
   "cell_type": "code",
   "execution_count": 4,
   "metadata": {
    "executionInfo": {
     "elapsed": 3464,
     "status": "ok",
     "timestamp": 1698782663201,
     "user": {
      "displayName": "Iman Khazrak",
      "userId": "00007021905658904546"
     },
     "user_tz": 240
    },
    "id": "M7x3fAFBQC8e"
   },
   "outputs": [],
   "source": [
    "import matplotlib.pyplot as plt\n",
    "import numpy as np\n",
    "import os\n",
    "data_folder = '/content/drive/MyDrive/4. BGSU/1.2 PhD_Courses/Z. RA & Desertation/Codes/Dr_Niu/MMD/Office31'\n",
    "# df1 = pd.read_csv(os.path.join(data_folder, 'test_result_amazon_webcam_resnet50.csv'))\n",
    "df_web = pd.read_csv(os.path.join(data_folder, 'test_train_result_amazon_webcam_resnet50.csv'))\n",
    "df_dslr = pd.read_csv(os.path.join(data_folder, 'test_train_result_amazon_dslr_resnet50.csv'))\n"
   ]
  },
  {
   "cell_type": "code",
   "execution_count": 6,
   "metadata": {
    "colab": {
     "base_uri": "https://localhost:8080/",
     "height": 534
    },
    "executionInfo": {
     "elapsed": 7018,
     "status": "ok",
     "timestamp": 1698782769255,
     "user": {
      "displayName": "Iman Khazrak",
      "userId": "00007021905658904546"
     },
     "user_tz": 240
    },
    "id": "sMJWmnQsbetd",
    "outputId": "9f90abff-f1f7-4408-c1fe-bb598714c64c"
   },
   "outputs": [
    {
     "data": {
      "image/png": "[encoded data removed]",
      "text/plain": [
       "<Figure size 1600x800 with 2 Axes>"
      ]
     },
     "metadata": {},
     "output_type": "display_data"
    }
   ],
   "source": [
    "import matplotlib.pyplot as plt\n",
    "\n",
    "fig, axes = plt.subplots(1, 2, figsize=(16, 8))\n",
    "\n",
    "axes[0].plot(df_web.Lambda, df_web['Test Accuracy'], 'ro-', label=\"Test Accuracy\")\n",
    "for x, y in zip(df_web.Lambda, df_web['Test Accuracy']):\n",
    "    axes[0].annotate(f'{y:.2f}', (x, y), textcoords=\"offset points\", xytext=(0,10), ha='center')\n",
    "axes[0].set_title(\"Loss: MMD, resnet50, train data: Amazon,test data: webcam \\n Train and Test accuracy vs Lambda\")\n",
    "axes[0].set_xlabel(\"Lambda\")\n",
    "axes[0].set_ylabel(\"Accuracy\")\n",
    "\n",
    "y_values = df_web.groupby('Lambda')['Accuracy'].last()\n",
    "axes[0].plot(df_web.Lambda.unique(), y_values, 'o-', label=\"Train Accuracy\")\n",
    "for x, y in zip(df_web.Lambda.unique(), y_values):\n",
    "    axes[0].annotate(f'{y:.2f}', (x, y), textcoords=\"offset points\", xytext=(0,10), ha='center')\n",
    "\n",
    "axes[0].legend()\n",
    "\n",
    "\n",
    "axes[1].plot(df_dslr.Lambda, df_dslr['Test Accuracy'], 'ro-', label=\"Test Accuracy\")\n",
    "for x, y in zip(df_dslr.Lambda, df_dslr['Test Accuracy']):\n",
    "    axes[1].annotate(f'{y:.2f}', (x, y), textcoords=\"offset points\", xytext=(0,10), ha='center')\n",
    "axes[1].set_title(\"Loss: MMD, resnet50, train data: Amazon,test data: dslr \\n Train and Test accuracy vs Lambda\")\n",
    "axes[1].set_xlabel(\"Lambda\")\n",
    "axes[1].set_ylabel(\"Accuracy\")\n",
    "\n",
    "y_values = df_dslr.groupby('Lambda')['Accuracy'].last()\n",
    "axes[1].plot(df_dslr.Lambda.unique(), y_values, 'o-', label=\"Train Accuracy\")\n",
    "for x, y in zip(df_dslr.Lambda.unique(), y_values):\n",
    "    axes[1].annotate(f'{y:.2f}', (x, y), textcoords=\"offset points\", xytext=(0,10), ha='center')\n",
    "\n",
    "axes[1].legend()\n",
    "\n",
    "plt.tight_layout()\n",
    "plt.show()\n"
   ]
  }
 ],
 "metadata": {
  "accelerator": "GPU",
  "colab": {
   "gpuType": "V100",
   "machine_shape": "hm",
   "provenance": []
  },
  "kernelspec": {
   "display_name": "Python 3 (ipykernel)",
   "language": "python",
   "name": "python3"
  },
  "language_info": {
   "codemirror_mode": {
    "name": "ipython",
    "version": 3
   },
   "file_extension": ".py",
   "mimetype": "text/x-python",
   "name": "python",
   "nbconvert_exporter": "python",
   "pygments_lexer": "ipython3",
   "version": "3.11.5"
  }
 },
 "nbformat": 4,
 "nbformat_minor": 4
}
