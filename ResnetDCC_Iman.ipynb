{
 "cells": [
  {
   "cell_type": "markdown",
   "metadata": {
    "id": "BOlo4Ctmtm4p"
   },
   "source": [
    "# Deep transfer learning tutorial\n",
    "This notebook contains two popular paradigms of transfer learning: **Finetune** and **Domain adaptation**.\n",
    "Since most of the codes are shared by them, we show how they work in just one single notebook.\n",
    "I think that transfer learning and domain adaptation are both easy, and there's no need to create some library or packages for this simple purpose, which only makes things difficult. \n",
    "The purpose of this note book is we **don't even need to install a library or package** to train a domain adaptation or finetune model."
   ]
  },
  {
   "cell_type": "markdown",
   "metadata": {
    "id": "yyP-9VnQtm4t"
   },
   "source": [
    "## Some imports."
   ]
  },
  {
   "cell_type": "code",
   "execution_count": null,
   "metadata": {
    "id": "6R098oQTS_TC"
   },
   "outputs": [],
   "source": [
    "import os\n",
    "import torch\n",
    "import torchvision\n",
    "from torchvision import transforms, datasets\n",
    "import torch.nn as nn\n",
    "import time\n",
    "from torchvision import models\n",
    "torch.cuda.set_device(1)"
   ]
  },
  {
   "cell_type": "code",
   "execution_count": 2,
   "metadata": {},
   "outputs": [
    {
     "name": "stdout",
     "output_type": "stream",
     "text": [
      "True\n"
     ]
    }
   ],
   "source": [
    "print(torch.cuda.is_available())"
   ]
  },
  {
   "cell_type": "markdown",
   "metadata": {
    "id": "K9Ut17hwUDq-"
   },
   "source": [
    "Set the dataset folder, batch size, number of classes, and domain name."
   ]
  },
  {
   "cell_type": "code",
   "execution_count": 3,
   "metadata": {
    "id": "j4e--IIRU68M"
   },
   "outputs": [],
   "source": [
    "data_folder = 'office31'\n",
    "batch_size = 32\n",
    "n_class = 31\n",
    "domain_src, domain_tar = 'amazon/images', 'webcam/images'"
   ]
  },
  {
   "cell_type": "markdown",
   "metadata": {
    "id": "XA6e2YaPtm4u"
   },
   "source": [
    "## Data load\n",
    "Now, define a data loader function."
   ]
  },
  {
   "cell_type": "code",
   "execution_count": 4,
   "metadata": {
    "id": "6JtN_bK9VFcM"
   },
   "outputs": [],
   "source": [
    "def load_data(root_path, domain, batch_size, phase):\n",
    "    transform_dict = {\n",
    "        'src': transforms.Compose(\n",
    "        [transforms.RandomResizedCrop(224),\n",
    "         transforms.RandomHorizontalFlip(),\n",
    "         transforms.ToTensor(),\n",
    "         transforms.Normalize(mean=[0.485, 0.456, 0.406],\n",
    "                              std=[0.229, 0.224, 0.225]),\n",
    "         ]),\n",
    "        'tar': transforms.Compose(\n",
    "        [transforms.Resize(224),\n",
    "         transforms.ToTensor(),\n",
    "         transforms.Normalize(mean=[0.485, 0.456, 0.406],\n",
    "                              std=[0.229, 0.224, 0.225]),\n",
    "         ])}\n",
    "    data = datasets.ImageFolder(root=os.path.join(root_path, domain), transform=transform_dict[phase])\n",
    "    data_loader = torch.utils.data.DataLoader(data, batch_size=batch_size, shuffle=phase=='src', drop_last=phase=='tar', num_workers=4)\n",
    "    return data_loader"
   ]
  },
  {
   "cell_type": "markdown",
   "metadata": {
    "id": "PHy09lD9tm4v"
   },
   "source": [
    "Load the data using the above function to test it."
   ]
  },
  {
   "cell_type": "code",
   "execution_count": 5,
   "metadata": {
    "id": "Jf_Gw2HRVJM_"
   },
   "outputs": [
    {
     "name": "stdout",
     "output_type": "stream",
     "text": [
      "Source data number: 2817\n",
      "Target data number: 795\n"
     ]
    }
   ],
   "source": [
    "src_loader = load_data(data_folder, domain_src, batch_size, phase='src')\n",
    "tar_loader = load_data(data_folder, domain_tar, batch_size, phase='tar')\n",
    "print(f'Source data number: {len(src_loader.dataset)}')\n",
    "print(f'Target data number: {len(tar_loader.dataset)}')"
   ]
  },
  {
   "cell_type": "code",
   "execution_count": 6,
   "metadata": {
    "id": "OXAjmY7pVK8t"
   },
   "outputs": [],
   "source": [
    "class TransferModel(nn.Module):\n",
    "    def __init__(self,\n",
    "                base_model : str = 'resnet50',\n",
    "                pretrain : bool = True,\n",
    "                n_class : int = 31):\n",
    "        super(TransferModel, self).__init__()\n",
    "        self.base_model = base_model\n",
    "        self.pretrain = pretrain\n",
    "        self.n_class = n_class\n",
    "        if self.base_model == 'resnet50':\n",
    "            self.model = torchvision.models.resnet50(pretrained=False) # It was True\n",
    "            n_features = self.model.fc.in_features\n",
    "            fc = torch.nn.Linear(n_features, n_class)\n",
    "            self.model.fc = fc\n",
    "        else:\n",
    "            # Use other models you like, such as vgg or alexnet\n",
    "            pass\n",
    "        self.model.fc.weight.data.normal_(0, 0.005)\n",
    "        self.model.fc.bias.data.fill_(0.1)\n",
    "\n",
    "    def forward(self, x):\n",
    "        return self.model(x)\n",
    "    \n",
    "    def predict(self, x):\n",
    "        return self.forward(x)"
   ]
  },
  {
   "cell_type": "markdown",
   "metadata": {
    "id": "UAqT-0jRtm4w"
   },
   "source": [
    "Now, we define a model and test it using a random tensor."
   ]
  },
  {
   "cell_type": "code",
   "execution_count": 7,
   "metadata": {
    "id": "LewRmYIvXEIo"
   },
   "outputs": [
    {
     "name": "stderr",
     "output_type": "stream",
     "text": [
      "/home/sniu/anaconda3/envs/Instinct/lib/python3.10/site-packages/torchvision/models/_utils.py:208: UserWarning: The parameter 'pretrained' is deprecated since 0.13 and may be removed in the future, please use 'weights' instead.\n",
      "  warnings.warn(\n",
      "/home/sniu/anaconda3/envs/Instinct/lib/python3.10/site-packages/torchvision/models/_utils.py:223: UserWarning: Arguments other than a weight enum or `None` for 'weights' are deprecated since 0.13 and may be removed in the future. The current behavior is equivalent to passing `weights=ResNet50_Weights.IMAGENET1K_V1`. You can also use `weights=ResNet50_Weights.DEFAULT` to get the most up-to-date weights.\n",
      "  warnings.warn(msg)\n"
     ]
    },
    {
     "name": "stdout",
     "output_type": "stream",
     "text": [
      "tensor([[ 0.0974,  0.1056,  0.0790,  0.2338,  0.0138,  0.1229,  0.0583,  0.2472,\n",
      "          0.2255, -0.0598,  0.0068,  0.1517,  0.0825,  0.0784,  0.3801,  0.0682,\n",
      "          0.1659,  0.0652,  0.0055,  0.1329,  0.0602,  0.1068,  0.0842,  0.0810,\n",
      "         -0.0746,  0.1528,  0.1335,  0.3493, -0.0334, -0.0200,  0.0627]],\n",
      "       device='cuda:1', grad_fn=<AddmmBackward0>)\n",
      "torch.Size([1, 31])\n"
     ]
    }
   ],
   "source": [
    "model = TransferModel().cuda()\n",
    "RAND_TENSOR = torch.randn(1, 3, 224, 224).cuda()\n",
    "output = model(RAND_TENSOR)\n",
    "print(output)\n",
    "print(output.shape)"
   ]
  },
  {
   "cell_type": "code",
   "execution_count": 8,
   "metadata": {
    "id": "h74gKIVqtm4w"
   },
   "outputs": [],
   "source": [
    "dataloaders = {'src': src_loader,\n",
    "               'val': tar_loader,\n",
    "               'tar': tar_loader}\n",
    "n_epoch = 100\n",
    "criterion = nn.CrossEntropyLoss()\n",
    "early_stop = 20"
   ]
  },
  {
   "cell_type": "code",
   "execution_count": 9,
   "metadata": {
    "id": "GR5Y1x4btm4y"
   },
   "outputs": [],
   "source": [
    "def test(model, target_test_loader):\n",
    "    model.eval()\n",
    "    correct = 0\n",
    "    len_target_dataset = len(target_test_loader.dataset)\n",
    "    with torch.no_grad():\n",
    "        for data, target in target_test_loader:\n",
    "            data, target = data.cuda(), target.cuda()\n",
    "            s_output = model.predict(data)\n",
    "            pred = torch.max(s_output, 1)[1]\n",
    "            correct += torch.sum(pred == target)\n",
    "    acc = correct.double() / len(target_test_loader.dataset)\n",
    "    return acc"
   ]
  },
  {
   "cell_type": "markdown",
   "metadata": {
    "id": "bO4c_QcGtm4z"
   },
   "source": [
    "## Domain adaptation\n",
    "Now we are in domain adaptation."
   ]
  },
  {
   "cell_type": "markdown",
   "metadata": {
    "id": "VJwcwLQftm40"
   },
   "source": [
    "## Logic for domain adaptation\n",
    "The logic for domain adaptation is mostly similar to finetune, except that we must add a loss to the finetune model to **regularize the distribution discrepancy** between two domains.\n",
    "Therefore, the most different parts are:\n",
    "- Define some **loss function** to compute the distance (which is the main contribution of most existing DA papers)\n",
    "- Define a new model class to use that loss function for **forward** pass.\n",
    "- Write a slightly different script to train, since we have to take both **source data, source label, and target data**."
   ]
  },
  {
   "cell_type": "markdown",
   "metadata": {
    "id": "Jy_1xwdJtm40"
   },
   "source": [
    "### Loss function\n",
    "The most popular loss function for DA is **MMD (Maximum Mean Discrepancy)**. For comaprison, we also use another popular loss **CORAL (CORrelation ALignment)**. They are defined as follows."
   ]
  },
  {
   "cell_type": "markdown",
   "metadata": {
    "id": "z3-wKorUtm40"
   },
   "source": [
    "#### MMD loss"
   ]
  },
  {
   "cell_type": "code",
   "execution_count": 10,
   "metadata": {
    "id": "MpQH6VFwtm41"
   },
   "outputs": [],
   "source": [
    "class MMD_loss(nn.Module):\n",
    "    def __init__(self, kernel_type='rbf', kernel_mul=2.0, kernel_num=5):\n",
    "        super(MMD_loss, self).__init__()\n",
    "        self.kernel_num = kernel_num\n",
    "        self.kernel_mul = kernel_mul\n",
    "        self.fix_sigma = None\n",
    "        self.kernel_type = kernel_type\n",
    "\n",
    "    def guassian_kernel(self, source, target, kernel_mul=2.0, kernel_num=5, fix_sigma=None):\n",
    "        n_samples = int(source.size()[0]) + int(target.size()[0])\n",
    "        total = torch.cat([source, target], dim=0)\n",
    "        total0 = total.unsqueeze(0).expand(\n",
    "            int(total.size(0)), int(total.size(0)), int(total.size(1)))\n",
    "        total1 = total.unsqueeze(1).expand(\n",
    "            int(total.size(0)), int(total.size(0)), int(total.size(1)))\n",
    "        L2_distance = ((total0-total1)**2).sum(2)\n",
    "        if fix_sigma:\n",
    "            bandwidth = fix_sigma\n",
    "        else:\n",
    "            bandwidth = torch.sum(L2_distance.data) / (n_samples**2-n_samples)\n",
    "        bandwidth /= kernel_mul ** (kernel_num // 2)\n",
    "        bandwidth_list = [bandwidth * (kernel_mul**i)\n",
    "                          for i in range(kernel_num)]\n",
    "        kernel_val = [torch.exp(-L2_distance / bandwidth_temp)\n",
    "                      for bandwidth_temp in bandwidth_list]\n",
    "        return sum(kernel_val)\n",
    "\n",
    "    def linear_mmd2(self, f_of_X, f_of_Y):\n",
    "        loss = 0.0\n",
    "        delta = f_of_X.float().mean(0) - f_of_Y.float().mean(0)\n",
    "        loss = delta.dot(delta.T)\n",
    "        return loss\n",
    "\n",
    "    def forward(self, source, target):\n",
    "        if self.kernel_type == 'linear':\n",
    "            return self.linear_mmd2(source, target)\n",
    "        elif self.kernel_type == 'rbf':\n",
    "            batch_size = int(source.size()[0])\n",
    "            kernels = self.guassian_kernel(\n",
    "                source, target, kernel_mul=self.kernel_mul, kernel_num=self.kernel_num, fix_sigma=self.fix_sigma)\n",
    "            XX = torch.mean(kernels[:batch_size, :batch_size])\n",
    "            YY = torch.mean(kernels[batch_size:, batch_size:])\n",
    "            XY = torch.mean(kernels[:batch_size, batch_size:])\n",
    "            YX = torch.mean(kernels[batch_size:, :batch_size])\n",
    "            loss = torch.mean(XX + YY - XY - YX)\n",
    "            return loss\n"
   ]
  },
  {
   "cell_type": "markdown",
   "metadata": {
    "id": "NcfUy_2Dtm41"
   },
   "source": [
    "#### CORAL loss"
   ]
  },
  {
   "cell_type": "code",
   "execution_count": 11,
   "metadata": {
    "id": "uZhKJq15tm41"
   },
   "outputs": [],
   "source": [
    "def CORAL(source, target):\n",
    "    d = source.size(1)\n",
    "    ns, nt = source.size(0), target.size(0)\n",
    "\n",
    "    # source covariance\n",
    "    tmp_s = torch.ones((1, ns)).cuda() @ source\n",
    "    cs = (source.t() @ source - (tmp_s.t() @ tmp_s) / ns) / (ns - 1)\n",
    "\n",
    "    # target covariance\n",
    "    tmp_t = torch.ones((1, nt)).cuda() @ target\n",
    "    ct = (target.t() @ target - (tmp_t.t() @ tmp_t) / nt) / (nt - 1)\n",
    "\n",
    "    # frobenius norm\n",
    "    loss = (cs - ct).pow(2).sum().sqrt()\n",
    "    loss = loss / (4 * d * d)\n",
    "\n",
    "    return loss"
   ]
  },
  {
   "cell_type": "markdown",
   "metadata": {
    "id": "VB2cDp8Gtm41"
   },
   "source": [
    "### Model\n",
    "Now we use ResNet-50 again just like finetune. The difference is that we rewrite the ResNet-50 class to drop its last layer."
   ]
  },
  {
   "cell_type": "code",
   "execution_count": 12,
   "metadata": {
    "id": "UOLx_OSxtm41"
   },
   "outputs": [],
   "source": [
    "from torchvision import models\n",
    "class ResNet50Fc(nn.Module):\n",
    "    def __init__(self):\n",
    "        super(ResNet50Fc, self).__init__()\n",
    "        model_resnet50 = models.resnet50(pretrained= False) # It was True\n",
    "        self.conv1 = model_resnet50.conv1\n",
    "        self.bn1 = model_resnet50.bn1\n",
    "        self.relu = model_resnet50.relu\n",
    "        self.maxpool = model_resnet50.maxpool\n",
    "        self.layer1 = model_resnet50.layer1\n",
    "        self.layer2 = model_resnet50.layer2\n",
    "        self.layer3 = model_resnet50.layer3\n",
    "        self.layer4 = model_resnet50.layer4\n",
    "        self.avgpool = model_resnet50.avgpool\n",
    "        self.__in_features = model_resnet50.fc.in_features\n",
    "\n",
    "    def forward(self, x):\n",
    "        x = self.conv1(x)\n",
    "        x = self.bn1(x)\n",
    "        x = self.relu(x)\n",
    "        x = self.maxpool(x)\n",
    "        x = self.layer1(x)\n",
    "        x = self.layer2(x)\n",
    "        x = self.layer3(x)\n",
    "        x = self.layer4(x)\n",
    "        x = self.avgpool(x)\n",
    "        x = x.view(x.size(0), -1)\n",
    "        return x\n",
    "\n",
    "    def output_num(self):\n",
    "        return self.__in_features"
   ]
  },
  {
   "cell_type": "code",
   "execution_count": 13,
   "metadata": {},
   "outputs": [],
   "source": [
    "# Function to visualize the convolutional kernels\n",
    "def visualize_kernels(model):\n",
    "    for name, module in model.named_modules():\n",
    "        if isinstance(module, nn.Conv2d):\n",
    "            kernels = module.weight.data.cpu().numpy()\n",
    "            num_kernels = kernels.shape[0]\n",
    "            fig, axs = plt.subplots(1, num_kernels, figsize=(10, 2))\n",
    "            for i in range(num_kernels):\n",
    "                kernel = kernels[i, 0, :, :]\n",
    "                axs[i].imshow(kernel, cmap='gray')\n",
    "                axs[i].axis('off')\n",
    "            plt.show()\n",
    "            \n",
    "# Function to compute the entropy of convolutional layers\n",
    "def compute_entropy(model):\n",
    "    entropy_values = []\n",
    "    for module in model.modules():\n",
    "        if isinstance(module, nn.Conv2d):\n",
    "            weights = module.weight.data\n",
    "            flattened_weights = weights.flatten()\n",
    "#             normalized_weights = torch.softmax(flattened_weights, dim=1)\n",
    "#             entropy = -torch.sum(normalized_weights * torch.log2(normalized_weights + 1e-10), dim=1)\n",
    "            normalized_weights = (flattened_weights - torch.min(flattened_weights)) / (\n",
    "                torch.max(flattened_weights) - torch.min(flattened_weights)\n",
    "            )\n",
    "            bin_counts = torch.histc(normalized_weights, bins=10)\n",
    "            probabilities = bin_counts / len(flattened_weights)\n",
    "            entropy = -torch.sum(probabilities * torch.log2(probabilities + 1e-10))  # Add a small constant to avoid log(0)\n",
    "            entropy_values.append(torch.mean(entropy).item())\n",
    "    return entropy_values\n",
    "\n",
    "# Function to add noise to an image\n",
    "def add_noise(image, noise_level):\n",
    "    noise = torch.randn_like(image) * noise_level\n",
    "    noisy_image = image + noise\n",
    "    noisy_image = torch.clamp(noisy_image, 0.0, 1.0)\n",
    "    return noisy_image"
   ]
  },
  {
   "cell_type": "markdown",
   "metadata": {
    "id": "IRgdNM3Wtm42"
   },
   "source": [
    "Now the main class for DA. We take ResNet-50 as its backbone, add a bottleneck layer and our own FC layer for classification.\n",
    "Note the `adapt_loss` function. It is just using our predefined MMD or CORAL loss. Of course you can use your own loss."
   ]
  },
  {
   "cell_type": "code",
   "execution_count": 14,
   "metadata": {
    "id": "oC5NKJpJtm42"
   },
   "outputs": [],
   "source": [
    "class TransferNet(nn.Module):\n",
    "    def __init__(self,\n",
    "                 num_class, \n",
    "                 base_net='resnet50', \n",
    "                 transfer_loss='mmd', \n",
    "                 use_bottleneck=True, \n",
    "                 bottleneck_width=256, \n",
    "                 width=1024):\n",
    "        super(TransferNet, self).__init__()\n",
    "        if base_net == 'resnet50':\n",
    "            self.base_network = ResNet50Fc()\n",
    "        else:\n",
    "            # Your own basenet\n",
    "            return\n",
    "        self.use_bottleneck = use_bottleneck\n",
    "        self.transfer_loss = transfer_loss\n",
    "        bottleneck_list = [nn.Linear(self.base_network.output_num(\n",
    "        ), bottleneck_width), nn.BatchNorm1d(bottleneck_width), nn.ReLU(), nn.Dropout(0.5)]\n",
    "        self.bottleneck_layer = nn.Sequential(*bottleneck_list)\n",
    "        classifier_layer_list = [nn.Linear(self.base_network.output_num(), width), nn.ReLU(), nn.Dropout(0.5),\n",
    "                                 nn.Linear(width, num_class)]\n",
    "        self.classifier_layer = nn.Sequential(*classifier_layer_list)\n",
    "\n",
    "        self.bottleneck_layer[0].weight.data.normal_(0, 0.005)\n",
    "        self.bottleneck_layer[0].bias.data.fill_(0.1)\n",
    "        for i in range(2):\n",
    "            self.classifier_layer[i * 3].weight.data.normal_(0, 0.01)\n",
    "            self.classifier_layer[i * 3].bias.data.fill_(0.0)\n",
    "\n",
    "    def forward(self, source, target):\n",
    "        source = self.base_network(source)\n",
    "        target = self.base_network(target)\n",
    "        source_clf = self.classifier_layer(source)\n",
    "        if self.use_bottleneck:\n",
    "            source = self.bottleneck_layer(source)\n",
    "            target = self.bottleneck_layer(target)\n",
    "        transfer_loss = self.adapt_loss(source, target, self.transfer_loss)\n",
    "        return source_clf, transfer_loss\n",
    "\n",
    "    def predict(self, x):\n",
    "        features = self.base_network(x)\n",
    "        clf = self.classifier_layer(features)\n",
    "        return clf\n",
    "\n",
    "    def adapt_loss(self, X, Y, adapt_loss):\n",
    "        \"\"\"Compute adaptation loss, currently we support mmd and coral\n",
    "\n",
    "        Arguments:\n",
    "            X {tensor} -- source matrix\n",
    "            Y {tensor} -- target matrix\n",
    "            adapt_loss {string} -- loss type, 'mmd' or 'coral'. You can add your own loss\n",
    "\n",
    "        Returns:\n",
    "            [tensor] -- adaptation loss tensor\n",
    "        \"\"\"\n",
    "        if adapt_loss == 'mmd':\n",
    "            mmd_loss = MMD_loss()\n",
    "            loss = mmd_loss(X, Y)\n",
    "        elif adapt_loss == 'coral':\n",
    "            loss = CORAL(X, Y)\n",
    "        else:\n",
    "            # Your own loss\n",
    "            loss = 0\n",
    "        return loss"
   ]
  },
  {
   "cell_type": "markdown",
   "metadata": {
    "id": "hAdPs27btm42"
   },
   "source": [
    "### Train\n",
    "Now the train part."
   ]
  },
  {
   "cell_type": "code",
   "execution_count": 15,
   "metadata": {
    "id": "OK6P8uMDtm42"
   },
   "outputs": [],
   "source": [
    "transfer_loss = 'mmd'\n",
    "learning_rate = 0.0001\n",
    "transfer_model = TransferNet(n_class, transfer_loss=transfer_loss, base_net='resnet50').cuda()\n",
    "optimizer = torch.optim.SGD([\n",
    "    {'params': transfer_model.base_network.parameters()},\n",
    "    {'params': transfer_model.bottleneck_layer.parameters(), 'lr': 10 * learning_rate},\n",
    "    {'params': transfer_model.classifier_layer.parameters(), 'lr': 10 * learning_rate},\n",
    "], lr=learning_rate, momentum=0.9, weight_decay=5e-4)\n",
    "lamb = 0.5 # weight for transfer loss, it is a hyperparameter that needs to be tuned"
   ]
  },
  {
   "cell_type": "markdown",
   "metadata": {
    "id": "4WpUfcHItm42"
   },
   "source": [
    "The main train function. Since we have to enumerate all source and target samples, we have to use `zip` operation to enumerate each pair of these two domains. It is common that two domains have different sizes, but we think by randomly sampling them in many epochs, we may sample each one of them."
   ]
  },
  {
   "cell_type": "code",
   "execution_count": 16,
   "metadata": {
    "id": "AGlVNI2ktm42"
   },
   "outputs": [],
   "source": [
    "def train(dataloaders, model, optimizer):\n",
    "    source_loader, target_train_loader, target_test_loader = dataloaders['src'], dataloaders['val'], dataloaders['tar']\n",
    "    len_source_loader = len(source_loader)\n",
    "    len_target_loader = len(target_train_loader)\n",
    "    best_acc = 0\n",
    "    stop = 0\n",
    "    n_batch = min(len_source_loader, len_target_loader)\n",
    "    for e in range(n_epoch):\n",
    "        stop += 1\n",
    "        train_loss_clf, train_loss_transfer, train_loss_total = 0, 0, 0\n",
    "        model.train()\n",
    "        for (src, tar) in zip(source_loader, target_train_loader):\n",
    "            data_source, label_source = src\n",
    "            data_target, _ = tar\n",
    "            data_source, label_source = data_source.cuda(), label_source.cuda()\n",
    "            data_target = data_target.cuda()\n",
    "\n",
    "            optimizer.zero_grad()\n",
    "            label_source_pred, transfer_loss = model(data_source, data_target)\n",
    "            clf_loss = criterion(label_source_pred, label_source)\n",
    "            loss = clf_loss + lamb * transfer_loss\n",
    "            loss.backward()\n",
    "            optimizer.step()\n",
    "            train_loss_clf = clf_loss.detach().item() + train_loss_clf\n",
    "            train_loss_transfer = transfer_loss.detach().item() + train_loss_transfer\n",
    "            train_loss_total = loss.detach().item() + train_loss_total\n",
    "        acc = test(model, target_test_loader)\n",
    "        print(f'Epoch: [{e:2d}/{n_epoch}], cls_loss: {train_loss_clf/n_batch:.4f}, transfer_loss: {train_loss_transfer/n_batch:.4f}, total_Loss: {train_loss_total/n_batch:.4f}, acc: {acc:.4f}')\n",
    "        \n",
    "        if best_acc < acc:\n",
    "            best_acc = acc\n",
    "            torch.save(model.state_dict(), 'trans_model.pkl')\n",
    "            stop = 0\n",
    "        if stop >= early_stop:\n",
    "            break"
   ]
  },
  {
   "cell_type": "code",
   "execution_count": null,
   "metadata": {
    "id": "nqSCG6-Xtm43",
    "scrolled": true
   },
   "outputs": [
    {
     "name": "stdout",
     "output_type": "stream",
     "text": [
      "Epoch: [ 0/100], cls_loss: 3.4278, transfer_loss: 0.1655, total_Loss: 3.5106, acc: 0.0440\n",
      "Epoch: [ 1/100], cls_loss: 3.3917, transfer_loss: 0.1642, total_Loss: 3.4737, acc: 0.1522\n",
      "Epoch: [ 2/100], cls_loss: 3.3597, transfer_loss: 0.1633, total_Loss: 3.4413, acc: 0.2516\n",
      "Epoch: [ 3/100], cls_loss: 3.3206, transfer_loss: 0.1628, total_Loss: 3.4020, acc: 0.2843\n",
      "Epoch: [ 4/100], cls_loss: 3.2668, transfer_loss: 0.1648, total_Loss: 3.3492, acc: 0.3145\n",
      "Epoch: [ 5/100], cls_loss: 3.2335, transfer_loss: 0.1638, total_Loss: 3.3154, acc: 0.3736\n",
      "Epoch: [ 6/100], cls_loss: 3.1620, transfer_loss: 0.1644, total_Loss: 3.2442, acc: 0.4013\n",
      "Epoch: [ 7/100], cls_loss: 3.1062, transfer_loss: 0.1648, total_Loss: 3.1886, acc: 0.4013\n",
      "Epoch: [ 8/100], cls_loss: 3.0334, transfer_loss: 0.1633, total_Loss: 3.1151, acc: 0.4767\n",
      "Epoch: [ 9/100], cls_loss: 2.9287, transfer_loss: 0.1625, total_Loss: 3.0099, acc: 0.5421\n",
      "Epoch: [10/100], cls_loss: 2.8376, transfer_loss: 0.1630, total_Loss: 2.9191, acc: 0.5497\n",
      "Epoch: [11/100], cls_loss: 2.7655, transfer_loss: 0.1643, total_Loss: 2.8476, acc: 0.5660\n",
      "Epoch: [12/100], cls_loss: 2.6284, transfer_loss: 0.1629, total_Loss: 2.7099, acc: 0.6126\n",
      "Epoch: [13/100], cls_loss: 2.4791, transfer_loss: 0.1630, total_Loss: 2.5606, acc: 0.5774\n",
      "Epoch: [14/100], cls_loss: 2.3377, transfer_loss: 0.1640, total_Loss: 2.4197, acc: 0.5736\n",
      "Epoch: [15/100], cls_loss: 2.2287, transfer_loss: 0.1639, total_Loss: 2.3106, acc: 0.5937\n",
      "Epoch: [16/100], cls_loss: 2.0947, transfer_loss: 0.1627, total_Loss: 2.1761, acc: 0.6164\n",
      "Epoch: [17/100], cls_loss: 2.0714, transfer_loss: 0.1626, total_Loss: 2.1528, acc: 0.6340\n",
      "Epoch: [18/100], cls_loss: 1.9018, transfer_loss: 0.1648, total_Loss: 1.9842, acc: 0.6491\n",
      "Epoch: [19/100], cls_loss: 1.8190, transfer_loss: 0.1648, total_Loss: 1.9014, acc: 0.6365\n",
      "Epoch: [20/100], cls_loss: 1.7290, transfer_loss: 0.1632, total_Loss: 1.8106, acc: 0.6453\n",
      "Epoch: [21/100], cls_loss: 1.6413, transfer_loss: 0.1628, total_Loss: 1.7227, acc: 0.6604\n",
      "Epoch: [22/100], cls_loss: 1.5641, transfer_loss: 0.1627, total_Loss: 1.6455, acc: 0.6843\n",
      "Epoch: [23/100], cls_loss: 1.5238, transfer_loss: 0.1632, total_Loss: 1.6054, acc: 0.6830\n",
      "Epoch: [24/100], cls_loss: 1.4119, transfer_loss: 0.1623, total_Loss: 1.4931, acc: 0.6780\n",
      "Epoch: [25/100], cls_loss: 1.4114, transfer_loss: 0.1624, total_Loss: 1.4926, acc: 0.6843\n",
      "Epoch: [26/100], cls_loss: 1.3819, transfer_loss: 0.1616, total_Loss: 1.4627, acc: 0.6742\n",
      "Epoch: [27/100], cls_loss: 1.3031, transfer_loss: 0.1624, total_Loss: 1.3843, acc: 0.6956\n",
      "Epoch: [28/100], cls_loss: 1.2432, transfer_loss: 0.1630, total_Loss: 1.3247, acc: 0.6918\n",
      "Epoch: [29/100], cls_loss: 1.2047, transfer_loss: 0.1631, total_Loss: 1.2862, acc: 0.6994\n",
      "Epoch: [30/100], cls_loss: 1.1847, transfer_loss: 0.1614, total_Loss: 1.2654, acc: 0.6918\n",
      "Epoch: [31/100], cls_loss: 1.1627, transfer_loss: 0.1593, total_Loss: 1.2423, acc: 0.6881\n",
      "Epoch: [32/100], cls_loss: 1.1176, transfer_loss: 0.1596, total_Loss: 1.1974, acc: 0.7157\n",
      "Epoch: [33/100], cls_loss: 1.0991, transfer_loss: 0.1594, total_Loss: 1.1788, acc: 0.7119\n",
      "Epoch: [34/100], cls_loss: 1.0646, transfer_loss: 0.1583, total_Loss: 1.1437, acc: 0.7270\n",
      "Epoch: [35/100], cls_loss: 1.0851, transfer_loss: 0.1572, total_Loss: 1.1637, acc: 0.6830\n",
      "Epoch: [36/100], cls_loss: 1.1488, transfer_loss: 0.1574, total_Loss: 1.2276, acc: 0.7358\n",
      "Epoch: [37/100], cls_loss: 1.0571, transfer_loss: 0.1555, total_Loss: 1.1348, acc: 0.7031\n",
      "Epoch: [38/100], cls_loss: 1.0591, transfer_loss: 0.1527, total_Loss: 1.1355, acc: 0.7157\n",
      "Epoch: [39/100], cls_loss: 1.0404, transfer_loss: 0.1524, total_Loss: 1.1166, acc: 0.7321\n",
      "Epoch: [40/100], cls_loss: 1.0761, transfer_loss: 0.1505, total_Loss: 1.1513, acc: 0.7031\n",
      "Epoch: [41/100], cls_loss: 0.9655, transfer_loss: 0.1511, total_Loss: 1.0410, acc: 0.7145\n",
      "Epoch: [42/100], cls_loss: 0.9826, transfer_loss: 0.1477, total_Loss: 1.0565, acc: 0.7270\n",
      "Epoch: [43/100], cls_loss: 0.9542, transfer_loss: 0.1456, total_Loss: 1.0270, acc: 0.7170\n",
      "Epoch: [44/100], cls_loss: 0.9459, transfer_loss: 0.1448, total_Loss: 1.0184, acc: 0.7195\n",
      "Epoch: [45/100], cls_loss: 0.9101, transfer_loss: 0.1428, total_Loss: 0.9815, acc: 0.6981\n",
      "Epoch: [46/100], cls_loss: 0.9221, transfer_loss: 0.1403, total_Loss: 0.9923, acc: 0.7283\n",
      "Epoch: [47/100], cls_loss: 0.9432, transfer_loss: 0.1385, total_Loss: 1.0125, acc: 0.7296\n",
      "Epoch: [48/100], cls_loss: 0.9334, transfer_loss: 0.1375, total_Loss: 1.0021, acc: 0.7082\n",
      "Epoch: [49/100], cls_loss: 0.8888, transfer_loss: 0.1360, total_Loss: 0.9568, acc: 0.7396\n",
      "Epoch: [50/100], cls_loss: 0.9225, transfer_loss: 0.1345, total_Loss: 0.9897, acc: 0.7208\n",
      "Epoch: [51/100], cls_loss: 0.8863, transfer_loss: 0.1324, total_Loss: 0.9525, acc: 0.7434\n",
      "Epoch: [52/100], cls_loss: 0.8287, transfer_loss: 0.1293, total_Loss: 0.8933, acc: 0.7384\n",
      "Epoch: [53/100], cls_loss: 0.8653, transfer_loss: 0.1271, total_Loss: 0.9289, acc: 0.7157\n",
      "Epoch: [54/100], cls_loss: 0.8129, transfer_loss: 0.1257, total_Loss: 0.8757, acc: 0.7208\n",
      "Epoch: [55/100], cls_loss: 0.8180, transfer_loss: 0.1264, total_Loss: 0.8811, acc: 0.7044\n",
      "Epoch: [56/100], cls_loss: 0.8642, transfer_loss: 0.1267, total_Loss: 0.9275, acc: 0.7094\n",
      "Epoch: [57/100], cls_loss: 0.8564, transfer_loss: 0.1248, total_Loss: 0.9187, acc: 0.7283\n"
     ]
    }
   ],
   "source": [
    "train(dataloaders, transfer_model, optimizer)"
   ]
  },
  {
   "cell_type": "code",
   "execution_count": null,
   "metadata": {
    "id": "yWvYODRDtm43"
   },
   "outputs": [],
   "source": [
    "transfer_model.load_state_dict(torch.load('trans_model.pkl'))\n",
    "acc_test = test(transfer_model, dataloaders['tar'])\n",
    "print(f'Test accuracy: {acc_test}')"
   ]
  },
  {
   "cell_type": "markdown",
   "metadata": {
    "id": "jbw6KndNtm43"
   },
   "source": [
    "Now we are done."
   ]
  },
  {
   "cell_type": "markdown",
   "metadata": {
    "id": "JQX2ak-jtm43"
   },
   "source": [
    "You see, we don't even need to install a library or package to train a domain adaptation or finetune model.\n",
    "In your own work, you can also use this notebook to test your own algorithms."
   ]
  },
  {
   "cell_type": "markdown",
   "metadata": {},
   "source": [
    "Add entropy"
   ]
  }
 ],
 "metadata": {
  "colab": {
   "collapsed_sections": [],
   "name": "deep_transfer_tutorial.ipynb",
   "provenance": []
  },
  "kernelspec": {
   "display_name": "Python 3 (ipykernel)",
   "language": "python",
   "name": "python3"
  },
  "language_info": {
   "codemirror_mode": {
    "name": "ipython",
    "version": 3
   },
   "file_extension": ".py",
   "mimetype": "text/x-python",
   "name": "python",
   "nbconvert_exporter": "python",
   "pygments_lexer": "ipython3",
   "version": "3.10.11"
  }
 },
 "nbformat": 4,
 "nbformat_minor": 1
}
